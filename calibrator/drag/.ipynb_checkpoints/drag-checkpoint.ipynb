{
 "cells": [
  {
   "cell_type": "markdown",
   "id": "29ad53e3",
   "metadata": {},
   "source": [
    "In this notebook, I describe how DRAG coefficients can be obtained.\n",
    "\n",
    "### References\n",
    "\n",
    "[1]: Sheldon *et al.* Characterizing errors on qubit operations via iterative randomized benchmarking. *Phys. Rev. A* **93**, 012301. [https://doi.org/10.1103/PhysRevA.93.012301](https://doi.org/10.1103/PhysRevA.93.012301).\n",
    "\n",
    "[2]: Li, Z., Liu, P., Zhao, P. *et al.* Error per single-qubit gate below 10−4 in a superconducting qubit. *npj Quantum Inf* **9**, 111 (2023). [https://doi.org/10.1038/s41534-023-00781-x](https://doi.org/10.1038/s41534-023-00781-x)."
   ]
  },
  {
   "cell_type": "markdown",
   "id": "f16a607a",
   "metadata": {},
   "source": [
    "## Dependencies"
   ]
  },
  {
   "cell_type": "code",
   "execution_count": 1,
   "id": "b94f2309",
   "metadata": {},
   "outputs": [],
   "source": [
    "%config InlineBackend.figure_formats = ['svg']"
   ]
  },
  {
   "cell_type": "code",
   "execution_count": 2,
   "id": "5825874f",
   "metadata": {},
   "outputs": [],
   "source": [
    "import os\n",
    "os.chdir('/Users/ngdnhtien/Codespace/PulsatingPulseShop/')"
   ]
  },
  {
   "cell_type": "code",
   "execution_count": 3,
   "id": "b362611c",
   "metadata": {},
   "outputs": [],
   "source": [
    "# Necessary dependencies\n",
    "\n",
    "# qiskit\n",
    "from qiskit import pulse\n",
    "from qiskit.circuit import Parameter\n",
    "from qiskit.circuit import QuantumCircuit, Gate\n",
    "from qiskit_ibm_provider import IBMProvider\n",
    "\n",
    "# qutritium\n",
    "from utility import *\n",
    "from constant import *\n",
    "\n",
    "# numerical\n",
    "import numpy as np\n",
    "from scipy.optimize import curve_fit\n",
    "import pickle \n",
    "\n",
    "# plot\n",
    "from matplotlib.ticker import MultipleLocator\n",
    "\n",
    "plt.rcParams['axes.linewidth'] = 1.25"
   ]
  },
  {
   "cell_type": "markdown",
   "id": "4a13fcfd",
   "metadata": {},
   "source": [
    "## Derivative Removal of Adiabaticity Gates\n",
    "\n",
    "[1]: Sheldon *et al.* Characterizing errors on qubit operations via iterative randomized benchmarking. *Phys. Rev. A* **93**, 012301. [https://doi.org/10.1103/PhysRevA.93.012301](https://doi.org/10.1103/PhysRevA.93.012301).\n",
    "\n",
    "Transmon systems are, theoretically, weakly anharmonic oscillators with extra dimensions whose presence is unfavorred in the context of quantum computing. They can cause leakage (real transitions) or phase error (virtual transitions) on the computational subspace. To remove leakage, Derivative Removal of Adiabatic Gate (DRAG) technique is employed. **Try running simulations to see the effect of DRAG.**\n",
    "\n",
    "The weak anharmonictity of transmons, $\\Delta$, limits the control pulses' length. Because the coherent time of transmon qubits is finite, Heisenberg principle dictates that the pulse should not be proportionally shorter than the inverse of anharmonicity, $1/\\Delta$. **We should run some experiments to confirm this.** Longer pulses are limited by the generic coherent time of the qubits themselves. \n",
    "\n",
    "Repetitive interleaved randomized benchmarking means: repeating a target Clifford $n$ times between the random Clifford gates and measuring the fidelity as a function of $n$ repetitions. Two cases might arise\n",
    "\n",
    "- If the gate errors are non-unitary, then the fidelity will only depend on the total length of the interleaved segment, and the resulting error per segment will thus be *linear* with $n$.\n",
    "- If there are unitary errors of an over-/underrotation type, they will add coherently with $n$, and the fidelity decay will be *quadratic* to leading order."
   ]
  },
  {
   "cell_type": "code",
   "execution_count": 4,
   "id": "df072299",
   "metadata": {},
   "outputs": [
    {
     "name": "stdout",
     "output_type": "stream",
     "text": [
      "[<IBMBackend('simulator_extended_stabilizer')>, <IBMBackend('simulator_mps')>, <IBMBackend('ibm_lagos')>, <IBMBackend('ibm_perth')>, <IBMBackend('ibm_brisbane')>, <IBMBackend('ibmq_qasm_simulator')>, <IBMBackend('simulator_statevector')>, <IBMBackend('simulator_stabilizer')>, <IBMBackend('ibm_nairobi')>]\n"
     ]
    }
   ],
   "source": [
    "provider = IBMProvider()\n",
    "print(provider.backends())"
   ]
  },
  {
   "cell_type": "code",
   "execution_count": 22,
   "id": "4ea1c925",
   "metadata": {},
   "outputs": [],
   "source": [
    "backend = provider.get_backend('ibm_brisbane')\n",
    "\n",
    "backend_config = backend.configuration()\n",
    "backend_defaults = backend.defaults()\n",
    "backend_properties = backend.properties()\n",
    "dt = backend_config.dt\n",
    "\n",
    "qubit = 0\n",
    "cbit = 0\n",
    "num_qubits = 1\n",
    "num_cbits = 1\n",
    "weight = 1"
   ]
  },
  {
   "cell_type": "code",
   "execution_count": 23,
   "id": "4a8aa3c1",
   "metadata": {},
   "outputs": [],
   "source": [
    "qubit_01_freq = backend_defaults.qubit_freq_est[qubit]\n",
    "qubit_anharmonicty = backend_properties.qubits[qubit][3].value*GHz\n",
    "qubit_12_freq = qubit_01_freq + qubit_anharmonicty\n",
    "\n",
    "p12_amp = 0.23743549524170637"
   ]
  },
  {
   "cell_type": "code",
   "execution_count": 24,
   "id": "bd3eb99f",
   "metadata": {},
   "outputs": [],
   "source": [
    "with pulse.build(backend=backend) as hp12_sched:\n",
    "    drive_chan = pulse.drive_channel(qubit)\n",
    "    pulse.set_frequency(qubit_12_freq, drive_chan)\n",
    "    pulse.play(qiskit.pulse.Gaussian(duration=160, amp=p12_amp/2, sigma=40, name='hp12'), drive_chan)\n",
    "    \n",
    "hp12_gate = Gate(r'X_{\\pi/2}^{(12)}', weight, [])\n",
    "    \n",
    "with pulse.build(backend=backend) as p12_sched:\n",
    "    drive_chan = qiskit.pulse.drive_channel(qubit)\n",
    "    pulse.set_frequency(qubit_12_freq, drive_chan)\n",
    "    pulse.play(qiskit.pulse.Gaussian(duration=160, amp=p12_amp, sigma=40, name='p12'), drive_chan)\n",
    "    p12_gate = Gate(r'X_{\\pi}^{(12)}', weight, [])"
   ]
  },
  {
   "cell_type": "markdown",
   "id": "cad02acc",
   "metadata": {},
   "source": [
    "## Discriminator"
   ]
  },
  {
   "cell_type": "code",
   "execution_count": 25,
   "id": "d521a795",
   "metadata": {},
   "outputs": [],
   "source": [
    "ground_circ = QuantumCircuit(num_qubits, num_cbits)\n",
    "ground_circ.measure(qubit, cbit)\n",
    "\n",
    "first_excited_state_circ = QuantumCircuit(num_qubits, num_cbits)\n",
    "first_excited_state_circ.x(qubit)\n",
    "first_excited_state_circ.measure(qubit, cbit)\n",
    "\n",
    "second_excited_state_circ = QuantumCircuit(num_qubits, num_cbits)\n",
    "second_excited_state_circ.x(qubit)\n",
    "second_excited_state_circ.append(p12_gate, [qubit])\n",
    "second_excited_state_circ.measure(qubit, cbit)\n",
    "second_excited_state_circ.add_calibration(p12_gate, [qubit], p12_sched)\n",
    "\n",
    "discrim_circs = qiskit.transpile([ground_circ, first_excited_state_circ, second_excited_state_circ], backend=backend)\n"
   ]
  },
  {
   "cell_type": "markdown",
   "id": "a43a0f76",
   "metadata": {},
   "source": [
    "## DRAG circuit"
   ]
  },
  {
   "cell_type": "code",
   "execution_count": 26,
   "id": "ab5db1a2",
   "metadata": {},
   "outputs": [],
   "source": [
    "betas = np.linspace(-5, 5, 25)\n",
    "drag12_sweep_gate = Gate('Drag Sweep Gate', weight, [])\n",
    "number_of_repetition = [1, 3, 5]\n",
    "\n",
    "rough_drag12_circs = []\n",
    "\n",
    "for rep in number_of_repetition: \n",
    "    for beta in betas:\n",
    "        rough_drag12_circ = QuantumCircuit(num_qubits, num_cbits) # create the circuit\n",
    "        rough_drag12_circ.x(qubit) # bring the qubit to |1>\n",
    "            \n",
    "        # R(theta) concatenates R(-theta) => identity \n",
    "        with pulse.build(backend=backend) as drag12s:\n",
    "            drive_chan = pulse.drive_channel(qubit)\n",
    "            pulse.set_frequency(qubit_12_freq, drive_chan)\n",
    "            pulse.play(pulse.Drag(duration=160, amp=+1*p12_amp, sigma=40, beta=beta), drive_chan)\n",
    "            pulse.play(pulse.Drag(duration=160, amp=-1*p12_amp, sigma=40, beta=beta), drive_chan)\n",
    "        \n",
    "        for r in range(rep):\n",
    "            rough_drag12_circ.append(drag12_sweep_gate, [qubit])\n",
    "            \n",
    "        rough_drag12_circ.add_calibration(drag12_sweep_gate, [qubit], drag12s)\n",
    "        rough_drag12_circ.measure(qubit, cbit)\n",
    "        \n",
    "        rough_drag12_circs.append(rough_drag12_circ)\n",
    "        \n",
    "rough_drag12_circs = qiskit.transpile(rough_drag12_circs, backend=backend)"
   ]
  },
  {
   "cell_type": "code",
   "execution_count": 27,
   "id": "fec24894",
   "metadata": {},
   "outputs": [],
   "source": [
    "circs = discrim_circs + rough_drag12_circs"
   ]
  },
  {
   "cell_type": "code",
   "execution_count": 28,
   "id": "ddfa66b8",
   "metadata": {},
   "outputs": [],
   "source": [
    "drag12_exp = backend.run(circs, meas_level=1, meas_return='single', shots=2048)"
   ]
  }
 ],
 "metadata": {
  "kernelspec": {
   "display_name": "Python 3 (ipykernel)",
   "language": "python",
   "name": "python3"
  },
  "language_info": {
   "codemirror_mode": {
    "name": "ipython",
    "version": 3
   },
   "file_extension": ".py",
   "mimetype": "text/x-python",
   "name": "python",
   "nbconvert_exporter": "python",
   "pygments_lexer": "ipython3",
   "version": "3.9.6"
  }
 },
 "nbformat": 4,
 "nbformat_minor": 5
}
