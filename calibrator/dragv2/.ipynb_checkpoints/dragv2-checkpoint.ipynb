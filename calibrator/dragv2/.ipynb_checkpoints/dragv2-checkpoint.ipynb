{
 "cells": [
  {
   "cell_type": "markdown",
   "id": "8fce5ba3",
   "metadata": {},
   "source": [
    "In this notebook, I describe how DRAG coefficients v2 can be obtained.\n",
    "\n",
    "### References\n",
    "\n",
    "[1]: Li, Z., Liu, P., Zhao, P. *et al.* Error per single-qubit gate below 10−4 in a superconducting qubit. *npj Quantum Inf* **9**, 111 (2023). [https://doi.org/10.1038/s41534-023-00781-x](https://doi.org/10.1038/s41534-023-00781-x).\n",
    "\n",
    "[2]: Z. Chen *et al.* Measuring and Suppressing Quantum State Leakage in a Superconducting Qubit. *Phys. Rev. Lett.* **116**, 020501 (2016) [https://doi.org/10.1103/PhysRevLett.116.020501](https://doi.org/10.1103/PhysRevLett.116.020501). "
   ]
  },
  {
   "cell_type": "markdown",
   "id": "256d882f",
   "metadata": {},
   "source": [
    "## Dependencies"
   ]
  },
  {
   "cell_type": "code",
   "execution_count": 1,
   "id": "32653c10",
   "metadata": {},
   "outputs": [],
   "source": [
    "%config InlineBackend.figure_formats = ['svg']\n",
    "\n",
    "import os\n",
    "os.chdir('/Users/ngdnhtien/Codespace/PulsatingPulseShop/')\n",
    "\n",
    "# qiskit\n",
    "from qiskit import pulse\n",
    "from qiskit.circuit import Parameter\n",
    "from qiskit.circuit import QuantumCircuit, Gate\n",
    "from qiskit_ibm_provider import IBMProvider\n",
    "\n",
    "# qutritium\n",
    "from utility import *\n",
    "from constant import *\n",
    "\n",
    "# numerical\n",
    "import numpy as np\n",
    "from scipy.optimize import curve_fit\n",
    "import pickle \n",
    "\n",
    "# plot\n",
    "from matplotlib.ticker import MultipleLocator\n",
    "\n",
    "plt.rcParams['axes.linewidth'] = 1.25"
   ]
  },
  {
   "cell_type": "code",
   "execution_count": 2,
   "id": "73dac9cc",
   "metadata": {},
   "outputs": [
    {
     "name": "stdout",
     "output_type": "stream",
     "text": [
      "[<IBMBackend('simulator_statevector')>, <IBMBackend('simulator_stabilizer')>, <IBMBackend('ibm_brisbane')>, <IBMBackend('ibm_kyoto')>, <IBMBackend('ibm_osaka')>, <IBMBackend('ibmq_qasm_simulator')>, <IBMBackend('simulator_extended_stabilizer')>, <IBMBackend('simulator_mps')>]\n"
     ]
    }
   ],
   "source": [
    "provider = IBMProvider()\n",
    "print(provider.backends())\n",
    "\n",
    "backend = provider.get_backend('ibm_brisbane')\n",
    "\n",
    "backend_config = backend.configuration()\n",
    "backend_defaults = backend.defaults()\n",
    "backend_properties = backend.properties()\n",
    "dt = backend_config.dt\n",
    "\n",
    "qubit = 0\n",
    "cbit = 0\n",
    "num_qubits = 1\n",
    "num_cbits = 1\n",
    "weight = 1\n",
    "\n",
    "qubit_01_freq = backend_defaults.qubit_freq_est[qubit]\n",
    "qubit_anharmonicty = backend_properties.qubits[qubit][3].value*GHz\n",
    "qubit_12_freq = qubit_01_freq + qubit_anharmonicty"
   ]
  },
  {
   "cell_type": "code",
   "execution_count": null,
   "id": "d02ef8a5",
   "metadata": {},
   "outputs": [],
   "source": []
  }
 ],
 "metadata": {
  "kernelspec": {
   "display_name": "Python 3 (ipykernel)",
   "language": "python",
   "name": "python3"
  },
  "language_info": {
   "codemirror_mode": {
    "name": "ipython",
    "version": 3
   },
   "file_extension": ".py",
   "mimetype": "text/x-python",
   "name": "python",
   "nbconvert_exporter": "python",
   "pygments_lexer": "ipython3",
   "version": "3.9.6"
  }
 },
 "nbformat": 4,
 "nbformat_minor": 5
}
