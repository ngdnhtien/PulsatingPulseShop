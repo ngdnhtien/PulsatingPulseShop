{
 "cells": [
  {
   "cell_type": "code",
   "execution_count": 1,
   "id": "cc571dad-3017-4200-8ac5-ee97ebc32581",
   "metadata": {
    "tags": []
   },
   "outputs": [],
   "source": [
    "!pip install --upgrade pip --quiet\n",
    "!pip install cvxopt --quiet"
   ]
  },
  {
   "cell_type": "code",
   "execution_count": 1,
   "id": "e26d2ba9",
   "metadata": {
    "tags": []
   },
   "outputs": [],
   "source": [
    "#import some useful packages\n",
    "import numpy as np\n",
    "import matplotlib.pyplot as plt\n",
    "import qiskit\n",
    "from qiskit import IBMQ, schedule\n",
    "from qiskit_ibm_provider import IBMProvider\n",
    "from qiskit.circuit import Gate, Parameter, QuantumCircuit\n",
    "from qiskit import pulse, schedule\n",
    "from qiskit.tools.jupyter import *\n",
    "from qiskit_ibm_provider.job import job_monitor\n",
    "from qiskit.pulse import Gaussian\n",
    "from sklearn.discriminant_analysis import LinearDiscriminantAnalysis\n",
    "from sklearn.model_selection import train_test_split\n",
    "from sklearn.metrics import r2_score, mean_squared_error\n",
    "\n",
    "%config InlineBackend.figure_formats = ['svg']\n",
    "import time \n",
    "import os\n",
    "import csv\n",
    "\n",
    "import warnings\n",
    "warnings.filterwarnings('ignore')\n",
    "\n",
    "import os\n",
    "import csv\n",
    "\n",
    "# IBMQ.save_account('5baae95ab0c4f46ba156eb0909ff9b8b54fffc1c24b7366190b85d6b2293ed9cac1f51cfa4f008890fcdd9f3871a23d904af20a6812bcf9fedb7fd982d968ca1')\n",
    "# provider = IBMQ.load_account()\n",
    "\n",
    "provider = IBMProvider()\n",
    "backend = provider.get_backend('ibm_brisbane')"
   ]
  },
  {
   "cell_type": "code",
   "execution_count": 2,
   "id": "7d486a3c",
   "metadata": {
    "tags": []
   },
   "outputs": [],
   "source": [
    "#get information about backend\n",
    "backend_defaults = backend.defaults()\n",
    "backend_properties = backend.properties()\n",
    "backend_config = backend.configuration()"
   ]
  },
  {
   "cell_type": "code",
   "execution_count": 3,
   "id": "7a42fa05",
   "metadata": {
    "tags": []
   },
   "outputs": [],
   "source": [
    "#hyperparameters\n",
    "NUM_SHOTS = 2048\n",
    "\n",
    "qubit = 109\n",
    "f01 = backend.properties().qubits[qubit][2].value * 1e9\n",
    "anhar = backend.properties().qubits[qubit][3].value * 1e9\n",
    "f12 = f01 + anhar\n",
    "\n",
    "pi = np.pi\n",
    "cos = np.cos\n",
    "sin = np.sin\n",
    "scale_factor = 1e-7"
   ]
  },
  {
   "cell_type": "code",
   "execution_count": 4,
   "id": "ffb7e010",
   "metadata": {
    "tags": []
   },
   "outputs": [],
   "source": [
    "# amp01 = 0.4150600327660328\n",
    "amp_halfpi_01 = 0.11532683361128736\n",
    "amp_halfpi_12 = 0.11769405436165835 \n",
    "amp01 = 2*amp_halfpi_01\n",
    "amp12 = 2*amp_halfpi_12\n",
    "dur12 = 96\n",
    "sig12 = dur12/4\n",
    "dur01 = 96\n",
    "sig01 = dur01/4"
   ]
  },
  {
   "cell_type": "markdown",
   "id": "e3797dd4",
   "metadata": {},
   "source": [
    "## Gaussian Scheds"
   ]
  },
  {
   "cell_type": "code",
   "execution_count": 5,
   "id": "05404cda",
   "metadata": {
    "tags": []
   },
   "outputs": [],
   "source": [
    "def S01_sched(phi):\n",
    "    with pulse.build(backend=backend, default_alignment='sequential',\n",
    "                     name=r'$G^{(01)}$') as S01_pulse:\n",
    "        drive_chan = pulse.drive_channel(qubit)\n",
    "        pulse.set_frequency(f01, drive_chan)\n",
    "        with pulse.phase_offset(phi, drive_chan):\n",
    "            pulse.play(pulse.Gaussian(duration=dur01,\n",
    "                                      amp=amp_halfpi_01,\n",
    "                                      sigma=sig01,\n",
    "                                      name=r'$G^{(01)}$'), drive_chan)\n",
    "\n",
    "    return S01_pulse\n",
    "\n",
    "def S12_sched(phi):\n",
    "    with pulse.build(backend=backend, default_alignment='sequential',\n",
    "                     name=r'$G^{(12)}$') as S12_pulse:\n",
    "        drive_chan = pulse.drive_channel(qubit)\n",
    "        pulse.set_frequency(f12, drive_chan)\n",
    "        with pulse.phase_offset(phi, drive_chan):\n",
    "            pulse.play(pulse.Gaussian(duration=dur12,\n",
    "                                      amp=amp_halfpi_12,\n",
    "                                      sigma=sig12,\n",
    "                                      name=r'$G^{(12)}$'), drive_chan)\n",
    "\n",
    "    return S12_pulse"
   ]
  },
  {
   "cell_type": "markdown",
   "id": "97f284a8",
   "metadata": {},
   "source": [
    "## DRAG Scheds"
   ]
  },
  {
   "cell_type": "code",
   "execution_count": 6,
   "id": "1b9492d1",
   "metadata": {},
   "outputs": [],
   "source": [
    "def S01_sched(phi):\n",
    "    with pulse.build(backend=backend) as r01_pulse:\n",
    "        drive_chan = pulse.drive_channel(qubit)\n",
    "        pulse.set_frequency(f01, drive_chan)\n",
    "        with pulse.phase_offset(-phi, drive_chan):\n",
    "            pulse.play(pulse.Drag(duration=120,\n",
    "                                      amp=0.18093652143360275/2,\n",
    "                                      sigma=30,\n",
    "                                      beta=-1.2643134385128565), drive_chan)\n",
    "\n",
    "    return r01_pulse\n",
    "\n",
    "def S12_sched(phi):\n",
    "    with pulse.build(backend=backend) as r12_pulse:\n",
    "        drive_chan = pulse.drive_channel(qubit)\n",
    "        pulse.set_frequency(f12, drive_chan)\n",
    "        with pulse.phase_offset(-phi, drive_chan):\n",
    "            pulse.play(pulse.Drag(duration=64,\n",
    "                                      amp=0.31419172290003516/2,\n",
    "                                      sigma=16,\n",
    "                                      beta=-0.5694575558130037), drive_chan)\n",
    "\n",
    "    return r12_pulse"
   ]
  },
  {
   "cell_type": "markdown",
   "id": "ec6444e1",
   "metadata": {},
   "source": [
    "# Generalize phase tracking protocol with many jobs"
   ]
  },
  {
   "cell_type": "code",
   "execution_count": 6,
   "id": "f553e529-40a8-46f2-8f7c-42cce6f1f174",
   "metadata": {
    "tags": []
   },
   "outputs": [],
   "source": [
    "#some useful pulse\n",
    "with pulse.build(backend=backend, default_alignment='sequential', name=r'$X_{\\pi}^{(12)}$') as xpi12_sched:\n",
    "    drive_chan = pulse.drive_channel(qubit)\n",
    "    pulse.set_frequency(f12, drive_chan)\n",
    "    pulse.play(pulse.Gaussian(duration=dur12,\n",
    "                            amp=amp12,\n",
    "                            sigma=sig12,\n",
    "                            name=r'$X_{\\pi}^{(12)}$'), drive_chan)\n",
    "\n",
    "    \n",
    "#some useful pulse\n",
    "with pulse.build(backend=backend, default_alignment='sequential', name=r'$X_{\\pi}^{(01)}$') as xpi01_sched:\n",
    "    drive_chan = pulse.drive_channel(qubit)\n",
    "    pulse.set_frequency(f01, drive_chan)\n",
    "    pulse.play(pulse.Gaussian(duration=dur01,\n",
    "                            amp=amp01,\n",
    "                            sigma=sig01,\n",
    "                            name=r'$X_{\\pi}^{(01)}$'), drive_chan)\n",
    "\n"
   ]
  },
  {
   "cell_type": "code",
   "execution_count": 11,
   "id": "a912ad03-9efb-4df1-81ce-d8611916c0ae",
   "metadata": {
    "tags": []
   },
   "outputs": [],
   "source": [
    "def protocol(order):\n",
    "    # Xpi01 = Gate(\"$X_{\\pi}^{01}$\", 1, [])\n",
    "    # Xpi12 = Gate(\"$X_{\\pi}^{12}$\", 1, [])\n",
    "\n",
    "    # zero = QuantumCircuit(qubit + 1, 1)\n",
    "    # zero.measure(qubit, 0)\n",
    "\n",
    "    # one = QuantumCircuit(qubit + 1, 1)\n",
    "    # one.append(Xpi01, [qubit])\n",
    "    # one.add_calibration(Xpi01, (qubit,), xpi01_sched, [])\n",
    "    # one.measure(qubit, 0)\n",
    "\n",
    "    # two = QuantumCircuit(qubit + 1, 1)\n",
    "    # two.append(Xpi01, [qubit])\n",
    "    # two.add_calibration(Xpi01, (qubit,), xpi01_sched, [])\n",
    "    # two.append(Xpi12, [qubit])\n",
    "    # two.add_calibration(Xpi12, (qubit,), xpi12_sched, [])\n",
    "    # two.measure(qubit, 0)\n",
    "\n",
    "    # discr_circ = [zero, one, two]\n",
    "    \n",
    "    with pulse.build(backend=backend) as cal_pi12_sched:\n",
    "        drive_chan = pulse.drive_channel(qubit)\n",
    "        pulse.set_frequency(f12, drive_chan)\n",
    "        pulse.play(pulse.Drag(duration=64, amp=0.31419172290003516, sigma=16, beta=-0.4530201342281881), drive_chan)\n",
    "    weight = 1\n",
    "    cal_pi12_gate = qiskit.circuit.Gate('cal_pi12_sched', weight, [])\n",
    "\n",
    "    ground_circ = QuantumCircuit(qubit + 1, 1)\n",
    "    ground_circ.measure(qubit, 0)\n",
    "\n",
    "    first_excited_state_circ = QuantumCircuit(qubit + 1, 1)\n",
    "    first_excited_state_circ.x(qubit)\n",
    "    first_excited_state_circ.measure(qubit, 0)\n",
    "\n",
    "    second_excited_state_circ = QuantumCircuit(qubit + 1, 1)\n",
    "    second_excited_state_circ.x(qubit)\n",
    "    second_excited_state_circ.append(cal_pi12_gate, [qubit])\n",
    "    second_excited_state_circ.measure(qubit, 0)\n",
    "    second_excited_state_circ.add_calibration(cal_pi12_gate, [qubit], cal_pi12_sched)\n",
    "\n",
    "    discr_circ = [ground_circ, first_excited_state_circ, second_excited_state_circ]\n",
    "    exp_circs = []\n",
    "    params_arr = []\n",
    "\n",
    "    for i in range(97):\n",
    "        phi_arr = np.random.default_rng().uniform(0, np.pi, len(order))\n",
    "        params_arr.append(phi_arr)        \n",
    "        qc = QuantumCircuit(qubit + 1,1)\n",
    "        gate_arr = []\n",
    "        for j in range(len(order)):\n",
    "            level = order[j]\n",
    "            if level == '1':\n",
    "                name = r\"$G^{01}$\" + fr\"$(\\phi_{j+1})$\" \n",
    "                # name = r\"$G^{01}$\" + fr\"$({np.round(phi_arr[j], 2)})$\" \n",
    "                gate_arr.append(Gate(name, 1, []))\n",
    "                qc.append(gate_arr[j], [qubit])\n",
    "                qc.add_calibration(gate_arr[j], (qubit,), S01_sched(phi_arr[j]), [])\n",
    "            elif level == '2':\n",
    "                name = r\"$G^{12}$\" + fr\"$(\\phi_{j+1})$\" \n",
    "                # name = r\"$G^{12}$\" + fr\"$({np.round(phi_arr[j], 2)})$\" \n",
    "                gate_arr.append(Gate(name, 1, []))\n",
    "                qc.append(gate_arr[j], [qubit])\n",
    "                qc.add_calibration(gate_arr[j], (qubit,), S12_sched(phi_arr[j]), [])\n",
    "            else:\n",
    "                print('Invalid level')\n",
    "                break\n",
    "        qc.measure(qubit,0)\n",
    "        exp_circs.append(qc)\n",
    "        \n",
    "    circs = discr_circ + exp_circs\n",
    "    \n",
    "    return circs, params_arr"
   ]
  },
  {
   "cell_type": "code",
   "execution_count": 23,
   "id": "8f22d2d7-4450-4055-81eb-98a81505add8",
   "metadata": {
    "tags": []
   },
   "outputs": [
    {
     "data": {
      "text/plain": [
       "109"
      ]
     },
     "execution_count": 23,
     "metadata": {},
     "output_type": "execute_result"
    }
   ],
   "source": [
    "qubit"
   ]
  },
  {
   "cell_type": "code",
   "execution_count": 8,
   "id": "a20497c1-a59f-46f4-8e6e-ad128be0899b",
   "metadata": {},
   "outputs": [],
   "source": [
    "#create a list of random order\n",
    "import random\n",
    "def create_order(length):\n",
    "    order = ''\n",
    "    for i in range(length):\n",
    "        order = order + str(random.randint(1,2))\n",
    "    return order\n",
    "\n",
    "def create_orders(length):\n",
    "    orders = set()\n",
    "    for i in range(20):\n",
    "        orders.add(create_order(length))\n",
    "    return orders\n"
   ]
  },
  {
   "cell_type": "code",
   "execution_count": 9,
   "id": "056a0371-a2e3-4640-9056-c829f1f1e0bf",
   "metadata": {},
   "outputs": [
    {
     "name": "stdout",
     "output_type": "stream",
     "text": [
      "['121111', '1122121', '22121222']\n"
     ]
    }
   ],
   "source": [
    "orders = []\n",
    "for i in range(6, 9, 1):\n",
    "    orders += random.sample(list(create_orders(i)), k=1)\n",
    "    \n",
    "#run many jobs with many orders\n",
    "tg = time.localtime(time.time())\n",
    "dd = str(tg.tm_mday)\n",
    "mm = str(tg.tm_mon) \n",
    "yy = str(tg.tm_year)\n",
    "folder = f\"{yy}_{mm}_{dd}\"\n",
    "print(orders)"
   ]
  },
  {
   "cell_type": "code",
   "execution_count": 13,
   "id": "933f7f6f-beaa-4993-b738-0f1f210a4705",
   "metadata": {
    "tags": []
   },
   "outputs": [],
   "source": [
    "id_list = []\n",
    "for order in orders:\n",
    "    exp_circs, params = protocol(order)\n",
    "    tg = time.localtime(time.time())\n",
    "    params_file = f\"./{folder}/{order}_params_{yy}_{mm}_{dd}_brisbane.csv\"\n",
    "    np.savetxt(params_file, params, delimiter=',')\n",
    "    job = backend.run(exp_circs, meas_level=1, meas_return='single', shots=NUM_SHOTS)\n",
    "    id_list.append(job.job_id())"
   ]
  },
  {
   "cell_type": "code",
   "execution_count": 14,
   "id": "e217b0a0-52be-4e69-b7b4-54a8e6eda3f5",
   "metadata": {},
   "outputs": [],
   "source": [
    "#save job's id and orders\n",
    "\n",
    "jobid_file = f\"./{folder}/job_id_{yy}_{mm}_{dd}_brisbane.txt\"\n",
    "with open(jobid_file, 'w') as f:\n",
    "    for job_id in id_list:\n",
    "        f.write(job_id)\n",
    "        f.write('\\n')\n",
    "\n",
    "file = f\"./{folder}/order_{yy}_{mm}_{dd}_brisbane.txt\"\n",
    "with open(file, 'w') as f:\n",
    "    for order in orders:\n",
    "        f.write(order)\n",
    "        f.write('\\n')"
   ]
  }
 ],
 "metadata": {
  "kernelspec": {
   "display_name": "Python 3 (ipykernel)",
   "language": "python",
   "name": "python3"
  },
  "language_info": {
   "codemirror_mode": {
    "name": "ipython",
    "version": 3
   },
   "file_extension": ".py",
   "mimetype": "text/x-python",
   "name": "python",
   "nbconvert_exporter": "python",
   "pygments_lexer": "ipython3",
   "version": "3.11.4"
  },
  "widgets": {
   "application/vnd.jupyter.widget-state+json": {
    "state": {
     "04b64e949c594da0a4a903a7de1724c3": {
      "model_module": "@jupyter-widgets/base",
      "model_module_version": "2.0.0",
      "model_name": "LayoutModel",
      "state": {
       "width": "190px"
      }
     },
     "3b89e6d24700420db31f0e0d2f74dc38": {
      "model_module": "@jupyter-widgets/base",
      "model_module_version": "2.0.0",
      "model_name": "LayoutModel",
      "state": {
       "grid_area": "right",
       "padding": "0px 0px 0px 0px",
       "width": "70px"
      }
     },
     "3ebda5f290304be1aa1813f92e000143": {
      "model_module": "@jupyter-widgets/base",
      "model_module_version": "2.0.0",
      "model_name": "LayoutModel",
      "state": {
       "margin": "0px 0px 0px 37px",
       "width": "600px"
      }
     },
     "529dae3e000a4b0bb7e4bc04f9830d3c": {
      "model_module": "@jupyter-widgets/base",
      "model_module_version": "2.0.0",
      "model_name": "LayoutModel",
      "state": {
       "width": "70px"
      }
     },
     "6b1ad18c885e48e1833a334f193687fb": {
      "model_module": "@jupyter-widgets/base",
      "model_module_version": "2.0.0",
      "model_name": "LayoutModel",
      "state": {
       "margin": "0px 0px 10px 0px"
      }
     },
     "93a5f6fc411146098ee6823536df7905": {
      "model_module": "@jupyter-widgets/base",
      "model_module_version": "2.0.0",
      "model_name": "LayoutModel",
      "state": {}
     },
     "97c2fab9385a4401a2e31a1cf6336898": {
      "model_module": "@jupyter-widgets/base",
      "model_module_version": "2.0.0",
      "model_name": "LayoutModel",
      "state": {
       "width": "145px"
      }
     },
     "d1027a0a41754b399efd5f6a682f6338": {
      "model_module": "@jupyter-widgets/base",
      "model_module_version": "2.0.0",
      "model_name": "LayoutModel",
      "state": {
       "grid_template_areas": "\n                                       \". . . . right \"\n                                        ",
       "grid_template_columns": "20% 20% 20% 20% 20%",
       "width": "100%"
      }
     },
     "fda40a8561f740eda90d2d6910e6ebad": {
      "model_module": "@jupyter-widgets/base",
      "model_module_version": "2.0.0",
      "model_name": "LayoutModel",
      "state": {
       "width": "95px"
      }
     }
    },
    "version_major": 2,
    "version_minor": 0
   }
  }
 },
 "nbformat": 4,
 "nbformat_minor": 5
}
