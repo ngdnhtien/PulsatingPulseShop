{
 "cells": [
  {
   "cell_type": "markdown",
   "id": "e0b22f48",
   "metadata": {},
   "source": [
    "In this notebook, I describe how Berry phases[^1] can be observed in a spin-1 quantum system, e.g. qutrit.\n",
    "\n",
    "### References\n",
    "\n",
    "[^1]: Matthew Neeley et al., Emulation of a Quantum Spin with a Superconducting Phase Qudit. *Science* **325**, 722-725 (2009). [DOI:10.1126/science.1173440](https://doi.org/10.1126/science.1173440)."
   ]
  },
  {
   "cell_type": "markdown",
   "id": "703b7a63",
   "metadata": {},
   "source": [
    "# Background\n",
    "\n",
    "A spin state is completely characterized by two *quantum numbers*, the principal quantum number $s=0, 1/2, 1, 3/2,\\dots$ and the azimuthal quantum number $m=-s,-s+1,\\dots, s-1, s$ (a total of $d=2s+1$ valid numbers). A general spin state reads\n",
    "\n",
    "\\begin{align}\n",
    "\\Psi = \\sum_{m} c_m |s, m\\rangle\n",
    "\\end{align}\n",
    "\n",
    "where $\\{|s, m\\rangle\\}$ spans a $d=2s+1$-dimensional Hilbert space. A qutrit's spin state, i.e. $d=3, s=1, m=-1, 0, +1$, for example, can be written as\n",
    "\n",
    "\\begin{align}\n",
    "\\Psi = c_{-1} |1,-1\\rangle + c_{0} |1,0\\rangle + c_{+1} |1, +1\\rangle\n",
    "\\end{align}\n",
    "\n",
    "When rotated about a closed path, a spin state $|s,m\\rangle$ aquires a phase factor $\\exp({-im\\Omega})$, where $m$ is the azimuthal quantum number and $\\Omega$ is the solid angle enclosed by the path. \n",
    "\n",
    "It follows immediately that when the solid angle is $2\\pi$, integer spins are unchanged, while half-integer spins are multiplied by $-1$. This parity difference leads to the symmetric sta- tistics of bosons (or antisymmetric statistics of fermions) under exchange, as described by the spin-statistics theorem.\n",
    "\n",
    "## Mapping to qudit system\n",
    "\n",
    "We need a phase reference state. Let us pick $|0\\rangle$. The spin is mapped to $|1\\rangle = |s,+s\\rangle, |2\\rangle=|s,s-1\\rangle,\\dots, |d\\rangle=|s, -s\\rangle$.\n",
    "\n",
    "## Berry phase measurement\n",
    "\n",
    "We made the phase measurement using Ramsey interference with $|0\\rangle$ as a reference.\n",
    "\n",
    "First we apply $\\pi/2$ pulse to create $(|0\\rangle+|1\\rangle)/\\sqrt{2}$. Then we perform two emulated $\\pi$-pulses to rotate the spin state $|1\\rangle=|s, s\\rangle$ around a closed path with angle $\\Theta$ between their rotation axes. \n",
    "\n",
    "The resulting state is now $|0\\rangle + \\exp(-is\\Theta)|1\\rangle$.\n",
    "\n",
    "This phase is detected by sweeping the phase (or the rotation axis) of a second $\\pi/2$ pulse. \n",
    "\n",
    "### Case $s=0$\n",
    "\n",
    "A spin-0 system is a 1 dimensional system. To emulate a spin-0 system, we simply look at the only spin state available: $|1\\rangle = |0, 0\\rangle$. \n",
    "\n",
    "If we performed two emulated $\\pi$-pulses, the phase acquired is $\\exp(-i\\times 0 \\times \\Theta)=1$. Hence no phase should be observed.\n",
    "\n",
    "This corresponds with observation that if we prepare a superposition of $|0\\rangle$ and $|1\\rangle$, and apply no additional pulse (i.e. two $\\pi$-pulses), and vary the phase of the subsequent $\\pi/2$ pulse, then we should see no Ramsey fringes. \n",
    "\n",
    "### Case $s=1/2$\n",
    "\n",
    "A spin-$1/2$ system is a two-dimensional system. To emulate a spin-1/2 system, we pick $|1\\rangle=|1/2, -1/2\\rangle$ and $|2\\rangle =|1/2, +1/2\\rangle$. The phase reference is the $|0\\rangle$ state. \n",
    "\n",
    "We first apply a $\\pi/2$-pulse, two. This brings us the system to a superposition of $(|0\\rangle+|1\\rangle)/2$. Next, we apply a $\\pi$-pulse on the second subspace, and another $\\pi$-pulse with a rotation axis shifted $\\Theta$ away from the first $\\pi/2$ pulse. \n",
    "\n",
    "Now, we are back at $|1\\rangle$, we trace out the phase by varying the phase of the last $\\pi/2$-pulse. \n",
    "\n",
    "The spin state in this case is $|1\\rangle=|1/2, -1/2\\rangle$. This means that we should see a phase of value $\\exp(-i\\times -1/2\\times \\Theta)$."
   ]
  }
 ],
 "metadata": {
  "kernelspec": {
   "display_name": "Python 3 (ipykernel)",
   "language": "python",
   "name": "python3"
  },
  "language_info": {
   "codemirror_mode": {
    "name": "ipython",
    "version": 3
   },
   "file_extension": ".py",
   "mimetype": "text/x-python",
   "name": "python",
   "nbconvert_exporter": "python",
   "pygments_lexer": "ipython3",
   "version": "3.9.6"
  }
 },
 "nbformat": 4,
 "nbformat_minor": 5
}
