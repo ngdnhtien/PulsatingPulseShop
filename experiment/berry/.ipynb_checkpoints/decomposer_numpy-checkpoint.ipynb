{
 "cells": [
  {
   "cell_type": "markdown",
   "id": "3dff7a90",
   "metadata": {},
   "source": [
    "In this notebook I describe how to decompose matrices."
   ]
  },
  {
   "cell_type": "markdown",
   "id": "b79c689b",
   "metadata": {},
   "source": [
    "# Randomly parameterized circuits (RPC)\n",
    "\n",
    "We start with a statement:\n",
    "\n",
    "**Any rotation in the (01) or (12) subspace can be thought of as a SU(2) operator embedded in a SU(3) matrix.**\n",
    "\n",
    "In the matrix represtation, this is \n",
    "\n",
    "\\begin{align}\n",
    "R^{01}(\\theta, \\phi, \\lambda) = \n",
    "\\begin{pmatrix}\n",
    "\\cos(\\theta/2) & -ie^{i\\lambda}\\sin(\\theta/2) & 0 \\\\\n",
    "-ie^{i\\lambda}\\sin(\\theta/2) & e^{i(\\lambda+\\phi)}\\cos(\\theta/2) & 0 \\newline\n",
    "0 & 0 & 1\n",
    "\\end{pmatrix}\\\\\n",
    "R^{12}(\\theta, \\phi, \\lambda) = \n",
    "\\begin{pmatrix}\n",
    "1 & 0 & 0 \\\\\n",
    "0 & \\cos(\\theta/2) & -ie^{i\\lambda}\\sin(\\theta/2) \\\\\n",
    "0 & -ie^{i\\lambda}\\sin(\\theta/2) & e^{i(\\lambda+\\phi)}\\cos(\\theta/2)\n",
    "\\end{pmatrix}\n",
    "\\end{align}\n",
    "\n",
    "Where the embedded $2x2$ SU(2) rotation can be further decomposed into \n",
    "\n",
    "\\begin{align}\n",
    "U^{(s)}(\\theta, \\phi, \\lambda) = Z^{(s)}_{\\phi-\\pi/2}X^{(s)}_{\\pi/2}Z^{(s)}_{\\pi-\\theta}X^{(s)}_{\\pi/2}Z^{(s)}_{\\lambda-\\pi/2}\n",
    "\\end{align}\n",
    "\n",
    "Here the subscripts $(s)$ denote the corresponding subspace. In doing so we've assumed two things.\n",
    "\n",
    "1. Sending MW-pulses at the $(s)$ transition frequency will generate *physical pulses* $X_{\\pi/2}^{(s)}$\n",
    "2. Phase-offsetting a physical pulse in subspace $(s)$ will result in sandwiching $Z$ rotations in such subspace. \n",
    "\n",
    "Now. Before we go any further, let us now make sure that we're talking about the same $Z$ rotation. \n",
    "\n",
    "### In (01) subspace\n",
    "\n",
    "A $Z$ rotation in (01) subspace is defined as \n",
    "\n",
    "\\begin{align}\n",
    "Z^{01}(\\varphi) = \\begin{pmatrix}\n",
    "e^{-i\\varphi} & 0 & 0 \\\\\n",
    "0 & 1 & 0 \\\\\n",
    "0 & 0 & 1 \n",
    "\\end{pmatrix}\n",
    "\\end{align}\n",
    "\n",
    "Now, we'd like to make a connection between $Z^{01}$ and $U^{01}$. The connection is, look no further, \n",
    "\n",
    "\\begin{align}\n",
    "U^{01}(\\theta, \\phi, \\lambda) = Z^{01}_{\\phi-\\pi/2}X^{01}_{\\pi/2}Z^{01}_{\\pi-\\theta}X^{01}_{\\pi/2}Z^{01}_{\\lambda-\\pi/2}\n",
    "\\end{align}"
   ]
  },
  {
   "cell_type": "code",
   "execution_count": 3,
   "id": "648a5412",
   "metadata": {},
   "outputs": [],
   "source": [
    "import numpy as np\n",
    "\n",
    "cos = np.cos\n",
    "sin = np.sin\n",
    "exp = np.exp\n",
    "pi = np.pi\n",
    "sqrt = np.sqrt\n",
    "\n",
    "def dagger(q):\n",
    "    return state.T.conjugate()"
   ]
  },
  {
   "cell_type": "code",
   "execution_count": 4,
   "id": "4c2f9d3f",
   "metadata": {},
   "outputs": [],
   "source": [
    "def Z01(varphi):\n",
    "    return np.array([\n",
    "        [exp(-1j*varphi), 0, 0],\n",
    "        [0, 1, 0],\n",
    "        [0, 0, 1]\n",
    "    ])\n",
    "\n",
    "def X01(theta):\n",
    "    return np.array([\n",
    "        [cos(theta/2), -1j*sin(theta/2), 0],\n",
    "        [-1j*sin(theta/2), cos(theta/2), 0],\n",
    "        [0, 0, 1]\n",
    "    ])\n",
    "\n",
    "def R01(theta, phi):\n",
    "    return np.array([\n",
    "        [cos(theta/2), -1j*exp(-1j*phi)*sin(theta/2), 0],\n",
    "        [-1j*exp(1j*phi)*sin(theta/2), cos(theta/2), 0],\n",
    "        [0, 0, 1]\n",
    "    ])\n",
    "\n",
    "def R12(theta, phi):\n",
    "    return np.array([\n",
    "        [1, 0, 0],\n",
    "        [0, cos(theta/2), -1j*exp(-1j*phi)*sin(theta/2)],\n",
    "        [0, -1j*exp(1j*phi)*sin(theta/2), cos(theta/2)],\n",
    "    ])\n",
    "\n",
    "def ket0():\n",
    "    return np.array([\n",
    "        [1], [0], [0]\n",
    "    ])\n",
    "\n",
    "def ket1():\n",
    "    return np.array([\n",
    "        [0], [1], [0]\n",
    "    ])\n",
    "\n",
    "def ket2():\n",
    "    return np.array([\n",
    "        [0], [0], [1]\n",
    "    ])"
   ]
  },
  {
   "cell_type": "code",
   "execution_count": null,
   "id": "f16766e7",
   "metadata": {},
   "outputs": [],
   "source": [
    "Dagger(R12(pi/2,pi/4)) * R12(pi/2,pi/4)"
   ]
  },
  {
   "cell_type": "markdown",
   "id": "0345cc3c",
   "metadata": {},
   "source": [
    "Now. Let us see if the relationship holds.\n",
    "\n",
    "\\begin{align}\n",
    "U^{01}(\\theta, \\phi, \\lambda) = Z^{01}_{\\phi-\\pi/2}X^{01}_{\\pi/2}Z^{01}_{\\pi-\\theta}X^{01}_{\\pi/2}Z^{01}_{\\lambda-\\pi/2}\n",
    "\\end{align}"
   ]
  },
  {
   "cell_type": "code",
   "execution_count": 136,
   "id": "99a7b4f3",
   "metadata": {},
   "outputs": [],
   "source": [
    "import numpy as np\n",
    "\n",
    "theta_num_arr = np.random.uniform(0, np.pi, 10)\n",
    "phi_num_arr = np.random.uniform(0, np.pi, 10)\n",
    "lambda_num_arr = np.random.uniform(0, np.pi, 10)"
   ]
  },
  {
   "cell_type": "code",
   "execution_count": 137,
   "id": "be1986ca",
   "metadata": {},
   "outputs": [],
   "source": [
    "initial_state = X01(pi/2) @ ket0()"
   ]
  },
  {
   "cell_type": "code",
   "execution_count": 138,
   "id": "8e383614",
   "metadata": {},
   "outputs": [
    {
     "name": "stdout",
     "output_type": "stream",
     "text": [
      "[1.-4.28734179e-18j]\n",
      "[1.+1.47653953e-17j]\n",
      "[1.+1.64504578e-17j]\n",
      "[1.-1.54093023e-17j]\n",
      "[1.+3.8434006e-18j]\n",
      "[1.-9.67236411e-18j]\n",
      "[1.-1.56344483e-18j]\n",
      "[1.+1.6147303e-18j]\n",
      "[1.+1.39492954e-17j]\n",
      "[1.+1.23789417e-17j]\n"
     ]
    }
   ],
   "source": [
    "for i in range(10):\n",
    "    theta = theta_num_arr[i]\n",
    "    phi = phi_num_arr[i]\n",
    "    lambda_p = lambda_num_arr[i]\n",
    "\n",
    "    state = R01(theta, phi, lambda_p) @ initial_state\n",
    "\n",
    "    print((dagger(state) @ state)[0])"
   ]
  },
  {
   "cell_type": "code",
   "execution_count": 139,
   "id": "14ee4a71",
   "metadata": {},
   "outputs": [
    {
     "name": "stdout",
     "output_type": "stream",
     "text": [
      "[0.11538079+4.15327603e-19j]\n",
      "[0.03226377-2.21185239e-19j]\n",
      "[0.09090884-3.33560043e-20j]\n",
      "[0.42872342+3.9384408e-18j]\n",
      "[0.72443307+2.28910742e-18j]\n",
      "[0.00705476-2.90766084e-20j]\n",
      "[0.71756202+1.67678227e-18j]\n",
      "[0.00060781+4.91442874e-21j]\n",
      "[0.0657165-1.9252144e-19j]\n",
      "[0.31206932-4.77623563e-18j]\n"
     ]
    }
   ],
   "source": [
    "for i in range(10):\n",
    "    theta = theta_num_arr[i]\n",
    "    phi = phi_num_arr[i]\n",
    "    lambda_p = lambda_num_arr[i]\n",
    "\n",
    "    state = Z01(phi-pi/2)@X01(pi/2)@Z01(pi-theta)*X01(pi/2)@Z01(lambda_p-pi/2)@initial_state\n",
    "\n",
    "    print((dagger(state) @ state)[0])"
   ]
  },
  {
   "cell_type": "code",
   "execution_count": 142,
   "id": "b23f6763",
   "metadata": {},
   "outputs": [
    {
     "name": "stdout",
     "output_type": "stream",
     "text": [
      "[0.11538079+4.15327603e-19j]\n",
      "[0.03226377-2.21185239e-19j]\n",
      "[0.09090884-3.33560043e-20j]\n",
      "[0.42872342+3.9384408e-18j]\n",
      "[0.72443307+2.28910742e-18j]\n",
      "[0.00705476-2.90766084e-20j]\n",
      "[0.71756202+1.67678227e-18j]\n",
      "[0.00060781+4.91442874e-21j]\n",
      "[0.0657165-1.9252144e-19j]\n",
      "[0.31206932-4.77623563e-18j]\n"
     ]
    }
   ],
   "source": [
    "for i in range(10):\n",
    "    theta = theta_num_arr[i]\n",
    "    phi = phi_num_arr[i]\n",
    "    lambda_p = lambda_num_arr[i]\n",
    "\n",
    "    state = Z01(phi-pi/2)@X01(pi/2)@Z01(pi-theta)*X01(pi/2)@Z01(lambda_p-pi/2)@initial_state\n",
    "\n",
    "    print((dagger(state) @ state)[0])"
   ]
  },
  {
   "cell_type": "code",
   "execution_count": 141,
   "id": "91582092",
   "metadata": {},
   "outputs": [
    {
     "name": "stdout",
     "output_type": "stream",
     "text": [
      "[1.-4.231942e-19j]\n",
      "[1.-3.72702583e-19j]\n",
      "[1.-5.14557141e-18j]\n",
      "[1.+1.23829641e-18j]\n",
      "[1.-4.37878881e-18j]\n",
      "[1.-1.56919715e-17j]\n",
      "[1.-1.7041105e-17j]\n",
      "[1.-4.16522333e-18j]\n",
      "[1.-1.07344102e-17j]\n",
      "[1.+2.51985149e-18j]\n"
     ]
    }
   ],
   "source": [
    "for i in range(10):\n",
    "    theta = theta_num_arr[i]\n",
    "    phi = phi_num_arr[i]\n",
    "    lambda_p = lambda_num_arr[i]\n",
    "\n",
    "    state = Z01(lambda_p-pi/2)@X01(pi/2)@Z01(pi-theta)@X01(pi/2)@Z01(phi-pi/2)@initial_state\n",
    "\n",
    "    print((dagger(state) @ state)[0])"
   ]
  }
 ],
 "metadata": {
  "kernelspec": {
   "display_name": "Python 3 (ipykernel)",
   "language": "python",
   "name": "python3"
  },
  "language_info": {
   "codemirror_mode": {
    "name": "ipython",
    "version": 3
   },
   "file_extension": ".py",
   "mimetype": "text/x-python",
   "name": "python",
   "nbconvert_exporter": "python",
   "pygments_lexer": "ipython3",
   "version": "3.9.6"
  }
 },
 "nbformat": 4,
 "nbformat_minor": 5
}
