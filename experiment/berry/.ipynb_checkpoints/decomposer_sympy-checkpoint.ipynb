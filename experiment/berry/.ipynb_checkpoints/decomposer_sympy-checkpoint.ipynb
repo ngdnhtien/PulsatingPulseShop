{
 "cells": [
  {
   "cell_type": "markdown",
   "id": "d5b42508",
   "metadata": {},
   "source": [
    "In this notebook I describe how to decompose matrices."
   ]
  },
  {
   "cell_type": "code",
   "execution_count": 1,
   "id": "f66c8ffd",
   "metadata": {},
   "outputs": [
    {
     "data": {
      "text/plain": [
       "(varphi, theta, phi, lambda, pi)"
      ]
     },
     "execution_count": 1,
     "metadata": {},
     "output_type": "execute_result"
    }
   ],
   "source": [
    "from sympy import *\n",
    "\n",
    "varphi = Symbol('varphi')\n",
    "phi = Symbol('phi')\n",
    "theta = Symbol('theta')\n",
    "lambda_p = Symbol('lambda')\n",
    "\n",
    "varphi, theta, phi, lambda_p, pi"
   ]
  },
  {
   "cell_type": "code",
   "execution_count": 2,
   "id": "fceaeaaf",
   "metadata": {},
   "outputs": [],
   "source": [
    "def Z01(varphi):\n",
    "    return Matrix([\n",
    "        [exp(-I*varphi), 0, 0],\n",
    "        [0, 1, 0],\n",
    "        [0, 0, 1]\n",
    "    ])\n",
    "\n",
    "def Z12(varphi):\n",
    "    return Matrix([\n",
    "        [1, 0, 0],\n",
    "        [0, 1, 0],\n",
    "        [0, 0, exp(I*varphi)]\n",
    "    ])\n",
    "\n",
    "def X01(theta):\n",
    "    return Matrix([\n",
    "        [cos(theta/2), -I*sin(theta/2), 0],\n",
    "        [-I*sin(theta/2), cos(theta/2), 0],\n",
    "        [0, 0, 1]\n",
    "    ])\n",
    "\n",
    "def X12(theta):\n",
    "    return Matrix([\n",
    "        [1, 0, 0],\n",
    "        [0, cos(theta/2), -I*sin(theta/2)],\n",
    "        [0, -I*sin(theta/2), cos(theta/2)],\n",
    "    ])\n",
    "\n",
    "def R01(theta, phi, lambda_p):\n",
    "    return Matrix([\n",
    "        [cos(theta/2), -I*exp(-I*phi)*sin(theta/2), 0],\n",
    "        [-I*exp(I*phi)*sin(theta/2), exp(I*(lambda_p+phi))*cos(theta/2), 0],\n",
    "        [0, 0, 1]\n",
    "    ])\n",
    "\n",
    "def R12(theta, phi, lambda_p):\n",
    "    return Matrix([\n",
    "        [1, 0, 0],\n",
    "        [0, cos(theta/2), -I*exp(I*lambda_p)*sin(theta/2)],\n",
    "        [0, -I*exp(I*phi)*sin(theta/2), exp(I*(lambda_p+phi))*cos(theta/2)]\n",
    "    ])\n",
    "\n",
    "def ket0():\n",
    "    return Matrix([\n",
    "        [1], [0], [0]\n",
    "    ])\n",
    "\n",
    "def ket1():\n",
    "    return Matrix([\n",
    "        [0], [1], [0]\n",
    "    ])\n",
    "\n",
    "def ket2():\n",
    "    return Matrix([\n",
    "        [0], [0], [1]\n",
    "    ])"
   ]
  },
  {
   "cell_type": "code",
   "execution_count": 3,
   "id": "fb26e598",
   "metadata": {},
   "outputs": [],
   "source": [
    "# American way of factorizing: you pull out the exact amount you specify in factor.\n",
    "# For example, if you want to pull out exp(i*pi). Then factor is pi.\n",
    "# If you want to pull out exp(-ipi/2). Then your factor is -pi/2\n",
    "\n",
    "def factorize(factor, matrix, dim):\n",
    "    ID = eye(dim)\n",
    "    ID = exp(-I*factor)*ID\n",
    "    return simplify(cancel(ID*matrix))\n",
    "\n",
    "# British way of factorizing: you pull out the negated amount you specify in factor.\n",
    "# For example, if you want to pull out exp(i*pi). Then factor is -pi.\n",
    "# If you want to pull out exp(-ipi/2). Then your factor is +pi/2\n",
    "\n",
    "def factorise(factor, matrix, dim):\n",
    "    ID = eye(dim)\n",
    "    ID = exp(I*factor)*ID\n",
    "    return simplify(cancel(ID*matrix))"
   ]
  },
  {
   "cell_type": "markdown",
   "id": "a0b87a09",
   "metadata": {},
   "source": [
    "---"
   ]
  },
  {
   "cell_type": "markdown",
   "id": "fd8ad29f",
   "metadata": {},
   "source": [
    "# Facto 1. Any SU(2) gate can be written in the form of a 2x2 matrix with three parameters"
   ]
  },
  {
   "cell_type": "code",
   "execution_count": 319,
   "id": "d04ae024",
   "metadata": {},
   "outputs": [
    {
     "data": {
      "text/latex": [
       "$\\displaystyle \\left[\\begin{matrix}\\cos{\\left(\\frac{\\theta}{2} \\right)} & - i e^{i \\lambda} \\sin{\\left(\\frac{\\theta}{2} \\right)}\\\\- i e^{i \\phi} \\sin{\\left(\\frac{\\theta}{2} \\right)} & e^{i \\left(\\lambda + \\phi\\right)} \\cos{\\left(\\frac{\\theta}{2} \\right)}\\end{matrix}\\right]$"
      ],
      "text/plain": [
       "Matrix([\n",
       "[              cos(theta/2),      -I*exp(I*lambda)*sin(theta/2)],\n",
       "[-I*exp(I*phi)*sin(theta/2), exp(I*(lambda + phi))*cos(theta/2)]])"
      ]
     },
     "execution_count": 319,
     "metadata": {},
     "output_type": "execute_result"
    }
   ],
   "source": [
    "# This is the original one\n",
    "\n",
    "U3(theta, phi, lambda_p)"
   ]
  },
  {
   "cell_type": "code",
   "execution_count": 320,
   "id": "6fc6168a",
   "metadata": {},
   "outputs": [
    {
     "data": {
      "text/latex": [
       "$\\displaystyle \\left[\\begin{matrix}e^{- \\frac{i \\lambda}{2}} e^{- \\frac{i \\phi}{2}} \\cos{\\left(\\frac{\\theta}{2} \\right)} & - i e^{\\frac{i \\lambda}{2}} e^{- \\frac{i \\phi}{2}} \\sin{\\left(\\frac{\\theta}{2} \\right)}\\\\- i e^{- \\frac{i \\lambda}{2}} e^{\\frac{i \\phi}{2}} \\sin{\\left(\\frac{\\theta}{2} \\right)} & e^{\\frac{i \\lambda}{2}} e^{\\frac{i \\phi}{2}} \\cos{\\left(\\frac{\\theta}{2} \\right)}\\end{matrix}\\right]$"
      ],
      "text/plain": [
       "Matrix([\n",
       "[  exp(-I*lambda/2)*exp(-I*phi/2)*cos(theta/2), -I*exp(I*lambda/2)*exp(-I*phi/2)*sin(theta/2)],\n",
       "[-I*exp(-I*lambda/2)*exp(I*phi/2)*sin(theta/2),     exp(I*lambda/2)*exp(I*phi/2)*cos(theta/2)]])"
      ]
     },
     "execution_count": 320,
     "metadata": {},
     "output_type": "execute_result"
    }
   ],
   "source": [
    "# This is the decomposed one\n",
    "\n",
    "Z2x2(phi)*X2x2(theta)*Z2x2(lambda_p)"
   ]
  },
  {
   "cell_type": "code",
   "execution_count": 321,
   "id": "93b5a7f4",
   "metadata": {},
   "outputs": [
    {
     "data": {
      "text/latex": [
       "$\\displaystyle \\left[\\begin{matrix}\\cos{\\left(\\frac{\\theta}{2} \\right)} & - i e^{i \\lambda} \\sin{\\left(\\frac{\\theta}{2} \\right)}\\\\- i e^{i \\phi} \\sin{\\left(\\frac{\\theta}{2} \\right)} & e^{i \\left(\\lambda + \\phi\\right)} \\cos{\\left(\\frac{\\theta}{2} \\right)}\\end{matrix}\\right]$"
      ],
      "text/plain": [
       "Matrix([\n",
       "[              cos(theta/2),      -I*exp(I*lambda)*sin(theta/2)],\n",
       "[-I*exp(I*phi)*sin(theta/2), exp(I*(lambda + phi))*cos(theta/2)]])"
      ]
     },
     "execution_count": 321,
     "metadata": {},
     "output_type": "execute_result"
    }
   ],
   "source": [
    "# They are equivalent, up to a global phase of -(lambda+phi)/2\n",
    "\n",
    "factorize(-(lambda_p+phi)/2, Z2x2(phi)*X2x2(theta)*Z2x2(lambda_p), 2)"
   ]
  },
  {
   "cell_type": "markdown",
   "id": "0eeaf3f3",
   "metadata": {},
   "source": [
    "# Facto 2. $R^{01}(\\theta, \\phi, \\lambda)= \\mathbf{Z}^{12}(-\\lambda-\\phi) Z^{01}(\\phi)X^{01}(\\theta)Z^{01}(\\lambda)$"
   ]
  },
  {
   "cell_type": "code",
   "execution_count": 322,
   "id": "ec18aeca",
   "metadata": {},
   "outputs": [
    {
     "data": {
      "text/latex": [
       "$\\displaystyle \\left[\\begin{matrix}\\cos{\\left(\\frac{\\theta}{2} \\right)} & - i e^{i \\lambda} \\sin{\\left(\\frac{\\theta}{2} \\right)} & 0\\\\- i e^{i \\phi} \\sin{\\left(\\frac{\\theta}{2} \\right)} & e^{i \\left(\\lambda + \\phi\\right)} \\cos{\\left(\\frac{\\theta}{2} \\right)} & 0\\\\0 & 0 & 1\\end{matrix}\\right]$"
      ],
      "text/plain": [
       "Matrix([\n",
       "[              cos(theta/2),      -I*exp(I*lambda)*sin(theta/2), 0],\n",
       "[-I*exp(I*phi)*sin(theta/2), exp(I*(lambda + phi))*cos(theta/2), 0],\n",
       "[                         0,                                  0, 1]])"
      ]
     },
     "execution_count": 322,
     "metadata": {},
     "output_type": "execute_result"
    }
   ],
   "source": [
    "# The original one\n",
    "\n",
    "R01(theta, phi, lambda_p)"
   ]
  },
  {
   "cell_type": "code",
   "execution_count": 323,
   "id": "ff838931",
   "metadata": {},
   "outputs": [
    {
     "data": {
      "text/latex": [
       "$\\displaystyle \\left[\\begin{matrix}e^{- i \\left(\\lambda + \\phi\\right)} \\cos{\\left(\\frac{\\theta}{2} \\right)} & - i e^{- i \\phi} \\sin{\\left(\\frac{\\theta}{2} \\right)} & 0\\\\- i e^{- i \\lambda} \\sin{\\left(\\frac{\\theta}{2} \\right)} & \\cos{\\left(\\frac{\\theta}{2} \\right)} & 0\\\\0 & 0 & 1\\end{matrix}\\right]$"
      ],
      "text/plain": [
       "Matrix([\n",
       "[exp(-I*(lambda + phi))*cos(theta/2), -I*exp(-I*phi)*sin(theta/2), 0],\n",
       "[     -I*exp(-I*lambda)*sin(theta/2),                cos(theta/2), 0],\n",
       "[                                  0,                           0, 1]])"
      ]
     },
     "execution_count": 323,
     "metadata": {},
     "output_type": "execute_result"
    }
   ],
   "source": [
    "# The decomposed one, without an additional Z12 gate\n",
    "\n",
    "simplify(Z01(phi)*X01(theta)*Z01(lambda_p))"
   ]
  },
  {
   "cell_type": "code",
   "execution_count": 324,
   "id": "06c61ba8",
   "metadata": {},
   "outputs": [
    {
     "data": {
      "text/latex": [
       "$\\displaystyle \\left[\\begin{matrix}e^{- i \\left(\\lambda + \\phi\\right)} \\cos{\\left(\\frac{\\theta}{2} \\right)} & - i e^{- i \\phi} \\sin{\\left(\\frac{\\theta}{2} \\right)} & 0\\\\- i e^{- i \\lambda} \\sin{\\left(\\frac{\\theta}{2} \\right)} & \\cos{\\left(\\frac{\\theta}{2} \\right)} & 0\\\\0 & 0 & e^{- i \\left(\\lambda + \\phi\\right)}\\end{matrix}\\right]$"
      ],
      "text/plain": [
       "Matrix([\n",
       "[exp(-I*(lambda + phi))*cos(theta/2), -I*exp(-I*phi)*sin(theta/2),                      0],\n",
       "[     -I*exp(-I*lambda)*sin(theta/2),                cos(theta/2),                      0],\n",
       "[                                  0,                           0, exp(-I*(lambda + phi))]])"
      ]
     },
     "execution_count": 324,
     "metadata": {},
     "output_type": "execute_result"
    }
   ],
   "source": [
    "# Now we include a Z12 gate\n",
    "\n",
    "simplify(Z12(-lambda_p-phi)*Z01(phi)*X01(theta)*Z01(lambda_p))"
   ]
  },
  {
   "cell_type": "code",
   "execution_count": 325,
   "id": "7b4af849",
   "metadata": {
    "scrolled": true
   },
   "outputs": [
    {
     "data": {
      "text/latex": [
       "$\\displaystyle \\left[\\begin{matrix}\\cos{\\left(\\frac{\\theta}{2} \\right)} & - i e^{i \\lambda} \\sin{\\left(\\frac{\\theta}{2} \\right)} & 0\\\\- i e^{i \\phi} \\sin{\\left(\\frac{\\theta}{2} \\right)} & e^{i \\left(\\lambda + \\phi\\right)} \\cos{\\left(\\frac{\\theta}{2} \\right)} & 0\\\\0 & 0 & 1\\end{matrix}\\right]$"
      ],
      "text/plain": [
       "Matrix([\n",
       "[              cos(theta/2),      -I*exp(I*lambda)*sin(theta/2), 0],\n",
       "[-I*exp(I*phi)*sin(theta/2), exp(I*(lambda + phi))*cos(theta/2), 0],\n",
       "[                         0,                                  0, 1]])"
      ]
     },
     "execution_count": 325,
     "metadata": {},
     "output_type": "execute_result"
    }
   ],
   "source": [
    "# The above sequence is equivalent to the original one, up to a global phase of -lambda-phi\n",
    "\n",
    "factorize(-lambda_p-phi, Z12(-lambda_p-phi)*Z01(phi)*X01(theta)*Z01(lambda_p), 3)"
   ]
  },
  {
   "cell_type": "markdown",
   "id": "2fa450be",
   "metadata": {},
   "source": [
    "# Facto 3. $X^{01}(\\theta)= \\mathbf{Z}^{12}(\\theta/2)Z^{01}(-\\pi/2)SX^{01}Z^{01}(\\pi-\\theta)SX^{01}Z^{01}(-\\pi/2)$"
   ]
  },
  {
   "cell_type": "code",
   "execution_count": 326,
   "id": "2f720dfb",
   "metadata": {},
   "outputs": [
    {
     "data": {
      "text/latex": [
       "$\\displaystyle \\left[\\begin{matrix}\\cos{\\left(\\frac{\\theta}{2} \\right)} & - i \\sin{\\left(\\frac{\\theta}{2} \\right)} & 0\\\\- i \\sin{\\left(\\frac{\\theta}{2} \\right)} & \\cos{\\left(\\frac{\\theta}{2} \\right)} & 0\\\\0 & 0 & 1\\end{matrix}\\right]$"
      ],
      "text/plain": [
       "Matrix([\n",
       "[   cos(theta/2), -I*sin(theta/2), 0],\n",
       "[-I*sin(theta/2),    cos(theta/2), 0],\n",
       "[              0,               0, 1]])"
      ]
     },
     "execution_count": 326,
     "metadata": {},
     "output_type": "execute_result"
    }
   ],
   "source": [
    "# The original one \n",
    "\n",
    "X01(theta)"
   ]
  },
  {
   "cell_type": "code",
   "execution_count": 327,
   "id": "31082704",
   "metadata": {},
   "outputs": [
    {
     "data": {
      "text/latex": [
       "$\\displaystyle \\left[\\begin{matrix}\\frac{e^{i \\theta}}{2} + \\frac{1}{2} & \\frac{1}{2} - \\frac{e^{i \\theta}}{2} & 0\\\\\\frac{1}{2} - \\frac{e^{i \\theta}}{2} & \\frac{e^{i \\theta}}{2} + \\frac{1}{2} & 0\\\\0 & 0 & 1\\end{matrix}\\right]$"
      ],
      "text/plain": [
       "Matrix([\n",
       "[exp(I*theta)/2 + 1/2, 1/2 - exp(I*theta)/2, 0],\n",
       "[1/2 - exp(I*theta)/2, exp(I*theta)/2 + 1/2, 0],\n",
       "[                   0,                    0, 1]])"
      ]
     },
     "execution_count": 327,
     "metadata": {},
     "output_type": "execute_result"
    }
   ],
   "source": [
    "# The decomposed one, without an additional Z12 gate\n",
    "\n",
    "simplify(Z01(-pi/2)*X01(pi/2)*Z01(pi-theta)*X01(pi/2)*Z01(-pi/2))"
   ]
  },
  {
   "cell_type": "markdown",
   "id": "679b6699",
   "metadata": {},
   "source": [
    "### Note that $(1+e^{i\\theta})/2=e^{i\\theta/2}(e^{i\\theta/2}+e^{-i\\theta/2})/2= e^{i\\theta/2}\\cos(\\theta/2)$ and similarly for $(1-e^{i\\theta})/2=-ie^{i\\theta/2}\\sin(\\theta/2)$"
   ]
  },
  {
   "cell_type": "code",
   "execution_count": 328,
   "id": "89306796",
   "metadata": {},
   "outputs": [
    {
     "data": {
      "text/latex": [
       "$\\displaystyle \\left[\\begin{matrix}\\frac{e^{i \\theta}}{2} + \\frac{1}{2} & \\frac{1}{2} - \\frac{e^{i \\theta}}{2} & 0\\\\\\frac{1}{2} - \\frac{e^{i \\theta}}{2} & \\frac{e^{i \\theta}}{2} + \\frac{1}{2} & 0\\\\0 & 0 & e^{\\frac{i \\theta}{2}}\\end{matrix}\\right]$"
      ],
      "text/plain": [
       "Matrix([\n",
       "[exp(I*theta)/2 + 1/2, 1/2 - exp(I*theta)/2,              0],\n",
       "[1/2 - exp(I*theta)/2, exp(I*theta)/2 + 1/2,              0],\n",
       "[                   0,                    0, exp(I*theta/2)]])"
      ]
     },
     "execution_count": 328,
     "metadata": {},
     "output_type": "execute_result"
    }
   ],
   "source": [
    "# The decomposed one, with an additional Z12 gate\n",
    "\n",
    "simplify(Z12(theta/2)*Z01(-pi/2)*X01(pi/2)*Z01(pi-theta)*X01(pi/2)*Z01(-pi/2))"
   ]
  },
  {
   "cell_type": "code",
   "execution_count": 329,
   "id": "bea64a69",
   "metadata": {},
   "outputs": [
    {
     "data": {
      "text/latex": [
       "$\\displaystyle \\left[\\begin{matrix}\\cos{\\left(\\frac{\\theta}{2} \\right)} & - i \\sin{\\left(\\frac{\\theta}{2} \\right)} & 0\\\\- i \\sin{\\left(\\frac{\\theta}{2} \\right)} & \\cos{\\left(\\frac{\\theta}{2} \\right)} & 0\\\\0 & 0 & 1\\end{matrix}\\right]$"
      ],
      "text/plain": [
       "Matrix([\n",
       "[   cos(theta/2), -I*sin(theta/2), 0],\n",
       "[-I*sin(theta/2),    cos(theta/2), 0],\n",
       "[              0,               0, 1]])"
      ]
     },
     "execution_count": 329,
     "metadata": {},
     "output_type": "execute_result"
    }
   ],
   "source": [
    "# The above one is equivalent to the original one, up to a global phase of theta/2.\n",
    "\n",
    "factorize(theta/2, Z12(theta/2)*Z01(-pi/2)*X01(pi/2)*Z01(pi-theta)*X01(pi/2)*Z01(-pi/2), 3)"
   ]
  },
  {
   "cell_type": "markdown",
   "id": "f4ec3fe5",
   "metadata": {},
   "source": [
    "Upon combining Facto 2 and 3, we have \n",
    "\n",
    "# Fact 4. $R^{01}(\\theta, \\phi, \\lambda)=\\mathbf{Z}^{12}(-\\lambda-\\phi+\\theta/2) Z^{01}(\\phi-\\pi/2)SX^{01}Z^{01}(\\pi-\\theta)SX^{01}Z^{01}(\\lambda-\\pi/2)$"
   ]
  },
  {
   "cell_type": "code",
   "execution_count": 330,
   "id": "3eebe15b",
   "metadata": {},
   "outputs": [
    {
     "data": {
      "text/latex": [
       "$\\displaystyle \\left[\\begin{matrix}\\cos{\\left(\\frac{\\theta}{2} \\right)} & - i e^{i \\lambda} \\sin{\\left(\\frac{\\theta}{2} \\right)} & 0\\\\- i e^{i \\phi} \\sin{\\left(\\frac{\\theta}{2} \\right)} & e^{i \\left(\\lambda + \\phi\\right)} \\cos{\\left(\\frac{\\theta}{2} \\right)} & 0\\\\0 & 0 & 1\\end{matrix}\\right]$"
      ],
      "text/plain": [
       "Matrix([\n",
       "[              cos(theta/2),      -I*exp(I*lambda)*sin(theta/2), 0],\n",
       "[-I*exp(I*phi)*sin(theta/2), exp(I*(lambda + phi))*cos(theta/2), 0],\n",
       "[                         0,                                  0, 1]])"
      ]
     },
     "execution_count": 330,
     "metadata": {},
     "output_type": "execute_result"
    }
   ],
   "source": [
    "# The original one\n",
    "\n",
    "R01(theta, phi, lambda_p)"
   ]
  },
  {
   "cell_type": "code",
   "execution_count": 331,
   "id": "457e6617",
   "metadata": {},
   "outputs": [
    {
     "data": {
      "text/latex": [
       "$\\displaystyle \\left[\\begin{matrix}\\frac{\\left(e^{i \\left(\\theta - \\pi\\right)} - 1\\right) e^{- i \\left(\\lambda + \\phi - \\pi\\right)}}{2} & \\frac{\\left(1 - e^{i \\theta}\\right) e^{- i \\phi}}{2} & 0\\\\\\frac{\\left(1 - e^{i \\theta}\\right) e^{- i \\lambda}}{2} & \\frac{e^{i \\theta}}{2} + \\frac{1}{2} & 0\\\\0 & 0 & e^{- \\frac{i \\left(2 \\lambda + 2 \\phi - \\theta\\right)}{2}}\\end{matrix}\\right]$"
      ],
      "text/plain": [
       "Matrix([\n",
       "[(exp(I*(theta - pi)) - 1)*exp(-I*(lambda + phi - pi))/2, (1 - exp(I*theta))*exp(-I*phi)/2,                                    0],\n",
       "[                    (1 - exp(I*theta))*exp(-I*lambda)/2,             exp(I*theta)/2 + 1/2,                                    0],\n",
       "[                                                      0,                                0, exp(-I*(2*lambda + 2*phi - theta)/2)]])"
      ]
     },
     "execution_count": 331,
     "metadata": {},
     "output_type": "execute_result"
    }
   ],
   "source": [
    "# The decomposed one\n",
    "\n",
    "simplify(Z12(-lambda_p-phi+theta/2)*Z01(phi-pi/2)*X01(pi/2)*Z01(pi-theta)*X01(pi/2)*Z01(lambda_p-pi/2))"
   ]
  },
  {
   "cell_type": "code",
   "execution_count": 332,
   "id": "3d951f23",
   "metadata": {},
   "outputs": [
    {
     "data": {
      "text/latex": [
       "$\\displaystyle \\left[\\begin{matrix}\\cos{\\left(\\frac{\\theta}{2} \\right)} & \\frac{\\left(e^{i \\lambda} - e^{i \\left(\\lambda + \\theta\\right)}\\right) e^{- \\frac{i \\theta}{2}}}{2} & 0\\\\\\frac{\\left(e^{i \\phi} - e^{i \\left(\\phi + \\theta\\right)}\\right) e^{- \\frac{i \\theta}{2}}}{2} & \\frac{\\left(e^{i \\left(\\lambda + \\phi\\right)} + e^{i \\left(\\lambda + \\phi + \\theta\\right)}\\right) e^{- \\frac{i \\theta}{2}}}{2} & 0\\\\0 & 0 & 1\\end{matrix}\\right]$"
      ],
      "text/plain": [
       "Matrix([\n",
       "[                                         cos(theta/2),               (exp(I*lambda) - exp(I*(lambda + theta)))*exp(-I*theta/2)/2, 0],\n",
       "[(exp(I*phi) - exp(I*(phi + theta)))*exp(-I*theta/2)/2, (exp(I*(lambda + phi)) + exp(I*(lambda + phi + theta)))*exp(-I*theta/2)/2, 0],\n",
       "[                                                    0,                                                                         0, 1]])"
      ]
     },
     "execution_count": 332,
     "metadata": {},
     "output_type": "execute_result"
    }
   ],
   "source": [
    "# The above one is equivalent to the original one, up to a global phase of lambda+phi-theta/2\n",
    "\n",
    "factorize(-lambda_p-phi+theta/2, Z12(-lambda_p-phi+theta/2)*Z01(phi-pi/2)*X01(pi/2)*Z01(pi-theta)*X01(pi/2)*Z01(lambda_p-pi/2), 3)"
   ]
  },
  {
   "cell_type": "markdown",
   "id": "7618f766",
   "metadata": {},
   "source": [
    "## Matrix element [0, 0] is ok. For matrix element [1,1].\n",
    "\n",
    "## \\begin{align}\n",
    "M[1,1] &= e^{i(\\lambda+\\phi)}(1+e^{i\\theta})e^{-i\\theta/2}/2\\\\\n",
    "&=e^{i(\\lambda+\\phi)}(e^{-i\\theta/2}+e^{i\\theta/2})/2\\\\\n",
    "&=e^{i(\\lambda+\\phi)}\\cos(\\theta/2)\n",
    "\\end{align}\n",
    "\n",
    "## For matrix element [0, 1].\n",
    "\n",
    "## \\begin{align} \n",
    "M[0,1] &= e^{i\\lambda}(1-e^{i\\theta})e^{-i\\theta/2}/2\\\\\n",
    "&=e^{i\\lambda}(e^{-i\\theta/2}-e^{i\\theta/2})/2\\\\\n",
    "&=-ie^{i\\lambda}\\sin(\\theta/2)\n",
    "\\end{align}\n",
    "\n",
    "## Similarly for matrix element [1,0].\n",
    "\n",
    "## \\begin{align} \n",
    "M[0,1] &= e^{i\\phi}(1-e^{i\\theta})e^{-i\\theta/2}/2\\\\\n",
    "&=e^{i\\phi}(e^{-i\\theta/2}-e^{i\\theta/2})/2\\\\\n",
    "&=-ie^{i\\phi}\\sin(\\theta/2)\n",
    "\\end{align}\n",
    "\n",
    "## Hence Facto 4. $R^{01}(\\theta, \\phi, \\lambda)=\\mathbf{Z}^{12}(-\\lambda-\\phi+\\theta/2) Z^{01}(\\phi-\\pi/2)SX^{01}Z^{01}(\\pi-\\theta)SX^{01}Z^{01}(\\lambda-\\pi/2)$"
   ]
  },
  {
   "cell_type": "markdown",
   "id": "a50bd8ce",
   "metadata": {},
   "source": [
    "# Now I redo the above steps, only to find a similar decomposition for $(12)$ subspace. The origin of these $Z^{12}$ gates in $(01)$ decomposition shall be discussed later.\n",
    "\n",
    "Let us follow a heuristic approach. "
   ]
  },
  {
   "cell_type": "markdown",
   "id": "37517d4d",
   "metadata": {},
   "source": [
    "# Facto 5. $R^{12}(\\theta, \\phi, \\lambda)= Z^{12}(\\phi)X^{12}(\\theta)Z^{12}(\\lambda)$"
   ]
  },
  {
   "cell_type": "code",
   "execution_count": 333,
   "id": "103e85af",
   "metadata": {},
   "outputs": [
    {
     "data": {
      "text/latex": [
       "$\\displaystyle \\left[\\begin{matrix}1 & 0 & 0\\\\0 & \\cos{\\left(\\frac{\\theta}{2} \\right)} & - i e^{i \\lambda} \\sin{\\left(\\frac{\\theta}{2} \\right)}\\\\0 & - i e^{i \\phi} \\sin{\\left(\\frac{\\theta}{2} \\right)} & e^{i \\left(\\lambda + \\phi\\right)} \\cos{\\left(\\frac{\\theta}{2} \\right)}\\end{matrix}\\right]$"
      ],
      "text/plain": [
       "Matrix([\n",
       "[1,                          0,                                  0],\n",
       "[0,               cos(theta/2),      -I*exp(I*lambda)*sin(theta/2)],\n",
       "[0, -I*exp(I*phi)*sin(theta/2), exp(I*(lambda + phi))*cos(theta/2)]])"
      ]
     },
     "execution_count": 333,
     "metadata": {},
     "output_type": "execute_result"
    }
   ],
   "source": [
    "# The original one\n",
    "\n",
    "R12(theta, phi, lambda_p)"
   ]
  },
  {
   "cell_type": "code",
   "execution_count": 334,
   "id": "16bfd064",
   "metadata": {},
   "outputs": [
    {
     "data": {
      "text/latex": [
       "$\\displaystyle \\left[\\begin{matrix}1 & 0 & 0\\\\0 & \\cos{\\left(\\frac{\\theta}{2} \\right)} & - i e^{i \\lambda} \\sin{\\left(\\frac{\\theta}{2} \\right)}\\\\0 & - i e^{i \\phi} \\sin{\\left(\\frac{\\theta}{2} \\right)} & e^{i \\left(\\lambda + \\phi\\right)} \\cos{\\left(\\frac{\\theta}{2} \\right)}\\end{matrix}\\right]$"
      ],
      "text/plain": [
       "Matrix([\n",
       "[1,                          0,                                  0],\n",
       "[0,               cos(theta/2),      -I*exp(I*lambda)*sin(theta/2)],\n",
       "[0, -I*exp(I*phi)*sin(theta/2), exp(I*(lambda + phi))*cos(theta/2)]])"
      ]
     },
     "execution_count": 334,
     "metadata": {},
     "output_type": "execute_result"
    }
   ],
   "source": [
    "# The decomposed one, without an additional Z01 gate\n",
    "\n",
    "simplify(Z12(phi)*X12(theta)*Z12(lambda_p))"
   ]
  },
  {
   "cell_type": "markdown",
   "id": "04905202",
   "metadata": {},
   "source": [
    "# What!?"
   ]
  },
  {
   "cell_type": "markdown",
   "id": "2ab06e9b",
   "metadata": {},
   "source": [
    "# Facto 6. $X^{12}(\\theta)= Z^{01}(\\theta/2)Z^{12}(-\\pi/2)SX^{12}Z^{12}(\\pi-\\theta)SX^{12}Z^{12}(-\\pi/2)$"
   ]
  },
  {
   "cell_type": "code",
   "execution_count": 299,
   "id": "7995fec5",
   "metadata": {},
   "outputs": [
    {
     "data": {
      "text/latex": [
       "$\\displaystyle \\left[\\begin{matrix}1 & 0 & 0\\\\0 & \\cos{\\left(\\frac{\\theta}{2} \\right)} & - i \\sin{\\left(\\frac{\\theta}{2} \\right)}\\\\0 & - i \\sin{\\left(\\frac{\\theta}{2} \\right)} & \\cos{\\left(\\frac{\\theta}{2} \\right)}\\end{matrix}\\right]$"
      ],
      "text/plain": [
       "Matrix([\n",
       "[1,               0,               0],\n",
       "[0,    cos(theta/2), -I*sin(theta/2)],\n",
       "[0, -I*sin(theta/2),    cos(theta/2)]])"
      ]
     },
     "execution_count": 299,
     "metadata": {},
     "output_type": "execute_result"
    }
   ],
   "source": [
    "# The original one\n",
    "\n",
    "X12(theta) "
   ]
  },
  {
   "cell_type": "code",
   "execution_count": 301,
   "id": "96c46745",
   "metadata": {},
   "outputs": [
    {
     "data": {
      "text/latex": [
       "$\\displaystyle \\left[\\begin{matrix}1 & 0 & 0\\\\0 & \\frac{1}{2} + \\frac{e^{- i \\theta}}{2} & - \\frac{1}{2} + \\frac{e^{- i \\theta}}{2}\\\\0 & - \\frac{1}{2} + \\frac{e^{- i \\theta}}{2} & \\frac{1}{2} + \\frac{e^{- i \\theta}}{2}\\end{matrix}\\right]$"
      ],
      "text/plain": [
       "Matrix([\n",
       "[1,                      0,                      0],\n",
       "[0,  1/2 + exp(-I*theta)/2, -1/2 + exp(-I*theta)/2],\n",
       "[0, -1/2 + exp(-I*theta)/2,  1/2 + exp(-I*theta)/2]])"
      ]
     },
     "execution_count": 301,
     "metadata": {},
     "output_type": "execute_result"
    }
   ],
   "source": [
    "# The decomposed one, without an additional Z01 gate\n",
    "\n",
    "simplify(Z12(-pi/2)*X12(pi/2)*Z12(pi-theta)*X12(pi/2)*Z12(-pi/2))"
   ]
  },
  {
   "cell_type": "markdown",
   "id": "1b74f784",
   "metadata": {},
   "source": [
    "## $1/2(1+e^{-i\\theta})= e^{-i\\theta/2}\\cos(\\theta/2)$ and $-1/2(1-e^{-i\\theta})=-ie^{-i\\theta/2}\\sin(\\theta/2)$."
   ]
  },
  {
   "cell_type": "code",
   "execution_count": 305,
   "id": "2481e7be",
   "metadata": {},
   "outputs": [
    {
     "data": {
      "text/latex": [
       "$\\displaystyle \\left[\\begin{matrix}1 & 0 & 0\\\\0 & \\cos{\\left(\\frac{\\theta}{2} \\right)} & - i \\sin{\\left(\\frac{\\theta}{2} \\right)}\\\\0 & - i \\sin{\\left(\\frac{\\theta}{2} \\right)} & \\cos{\\left(\\frac{\\theta}{2} \\right)}\\end{matrix}\\right]$"
      ],
      "text/plain": [
       "Matrix([\n",
       "[1,               0,               0],\n",
       "[0,    cos(theta/2), -I*sin(theta/2)],\n",
       "[0, -I*sin(theta/2),    cos(theta/2)]])"
      ]
     },
     "execution_count": 305,
     "metadata": {},
     "output_type": "execute_result"
    }
   ],
   "source": [
    "# The decomposed one, with an additional Z01 gate to compensate for the additonal phase.\n",
    "# It is equivalent to the original one, up to a global phase of -theta/2.\n",
    "\n",
    "factorize(-theta/2, Z01(theta/2)*Z12(-pi/2)*X12(pi/2)*Z12(pi-theta)*X12(pi/2)*Z12(-pi/2), 3)"
   ]
  },
  {
   "cell_type": "markdown",
   "id": "48171962",
   "metadata": {},
   "source": [
    "Upon comibing Facto 5 and 6, we have \n",
    "\n",
    "\\begin{align}\n",
    "R^{12}(\\theta, \\phi, \\lambda) &= Z^{12}(\\phi)X^{12}(\\theta)Z^{12}(\\lambda)\\\\\n",
    "&= Z^{12}(\\phi)Z^{01}(\\theta/2)Z^{12}(-\\pi/2)SX^{12}Z^{12}(\\pi-\\theta)SX^{12}Z^{12}(-\\pi/2)Z^{12}(\\lambda)\n",
    "\\end{align}\n",
    "\n",
    "# Facto 7. $R^{12}(\\theta, \\phi, \\lambda)=\\mathbf{Z}^{01}(\\theta/2) Z^{12}(\\phi-\\pi/2)SX^{12}Z^{12}(\\pi-\\theta)SX^{12}Z^{12}(\\lambda-\\pi/2)$"
   ]
  },
  {
   "cell_type": "code",
   "execution_count": 306,
   "id": "5c3b275d",
   "metadata": {},
   "outputs": [
    {
     "data": {
      "text/latex": [
       "$\\displaystyle \\left[\\begin{matrix}1 & 0 & 0\\\\0 & \\cos{\\left(\\frac{\\theta}{2} \\right)} & - i e^{i \\lambda} \\sin{\\left(\\frac{\\theta}{2} \\right)}\\\\0 & - i e^{i \\phi} \\sin{\\left(\\frac{\\theta}{2} \\right)} & e^{i \\left(\\lambda + \\phi\\right)} \\cos{\\left(\\frac{\\theta}{2} \\right)}\\end{matrix}\\right]$"
      ],
      "text/plain": [
       "Matrix([\n",
       "[1,                          0,                                  0],\n",
       "[0,               cos(theta/2),      -I*exp(I*lambda)*sin(theta/2)],\n",
       "[0, -I*exp(I*phi)*sin(theta/2), exp(I*(lambda + phi))*cos(theta/2)]])"
      ]
     },
     "execution_count": 306,
     "metadata": {},
     "output_type": "execute_result"
    }
   ],
   "source": [
    "# The original one\n",
    "\n",
    "R12(theta, phi, lambda_p)"
   ]
  },
  {
   "cell_type": "code",
   "execution_count": 307,
   "id": "81e08acf",
   "metadata": {},
   "outputs": [
    {
     "data": {
      "text/latex": [
       "$\\displaystyle \\left[\\begin{matrix}e^{- \\frac{i \\theta}{2}} & 0 & 0\\\\0 & \\frac{1}{2} - \\frac{e^{i \\left(\\pi - \\theta\\right)}}{2} & \\left(- \\frac{i e^{i \\left(\\pi - \\theta\\right)}}{2} - \\frac{i}{2}\\right) e^{i \\left(\\lambda - \\frac{\\pi}{2}\\right)}\\\\0 & - \\frac{i e^{i \\left(\\pi - \\theta\\right)} e^{i \\left(\\phi - \\frac{\\pi}{2}\\right)}}{2} - \\frac{i e^{i \\left(\\phi - \\frac{\\pi}{2}\\right)}}{2} & \\left(\\frac{e^{i \\left(\\pi - \\theta\\right)} e^{i \\left(\\phi - \\frac{\\pi}{2}\\right)}}{2} - \\frac{e^{i \\left(\\phi - \\frac{\\pi}{2}\\right)}}{2}\\right) e^{i \\left(\\lambda - \\frac{\\pi}{2}\\right)}\\end{matrix}\\right]$"
      ],
      "text/plain": [
       "Matrix([\n",
       "[exp(-I*theta/2),                                                                      0,                                                                                          0],\n",
       "[              0,                                            1/2 - exp(I*(pi - theta))/2,                                    (-I*exp(I*(pi - theta))/2 - I/2)*exp(I*(lambda - pi/2))],\n",
       "[              0, -I*exp(I*(pi - theta))*exp(I*(phi - pi/2))/2 - I*exp(I*(phi - pi/2))/2, (exp(I*(pi - theta))*exp(I*(phi - pi/2))/2 - exp(I*(phi - pi/2))/2)*exp(I*(lambda - pi/2))]])"
      ]
     },
     "execution_count": 307,
     "metadata": {},
     "output_type": "execute_result"
    }
   ],
   "source": [
    "# The decomposed one, with an additional Z01 rotation\n",
    "\n",
    "Z01(theta/2)*Z12(phi-pi/2)*X12(pi/2)*Z12(pi-theta)*X12(pi/2)*Z12(lambda_p-pi/2)"
   ]
  },
  {
   "cell_type": "code",
   "execution_count": 309,
   "id": "6eb477d0",
   "metadata": {},
   "outputs": [
    {
     "data": {
      "text/latex": [
       "$\\displaystyle \\left[\\begin{matrix}1 & 0 & 0\\\\0 & \\cos{\\left(\\frac{\\theta}{2} \\right)} & \\frac{\\left(1 - e^{i \\theta}\\right) e^{i \\left(\\lambda - \\frac{\\theta}{2}\\right)}}{2}\\\\0 & \\frac{\\left(1 - e^{i \\theta}\\right) e^{i \\left(\\phi - \\frac{\\theta}{2}\\right)}}{2} & \\frac{\\left(e^{i \\theta} + 1\\right) e^{i \\left(\\lambda + \\phi - \\frac{\\theta}{2}\\right)}}{2}\\end{matrix}\\right]$"
      ],
      "text/plain": [
       "Matrix([\n",
       "[1,                                           0,                                                    0],\n",
       "[0,                                cos(theta/2),       (1 - exp(I*theta))*exp(I*(lambda - theta/2))/2],\n",
       "[0, (1 - exp(I*theta))*exp(I*(phi - theta/2))/2, (exp(I*theta) + 1)*exp(I*(lambda + phi - theta/2))/2]])"
      ]
     },
     "execution_count": 309,
     "metadata": {},
     "output_type": "execute_result"
    }
   ],
   "source": [
    "# They are equivalent, up to a global phase of -theta/2\n",
    "\n",
    "factorize(-theta/2, Z01(theta/2)*Z12(phi-pi/2)*X12(pi/2)*Z12(pi-theta)*X12(pi/2)*Z12(lambda_p-pi/2), 3)"
   ]
  },
  {
   "cell_type": "markdown",
   "id": "2f1e7de6",
   "metadata": {},
   "source": [
    "## Matrix element [1, 1] is ok. For matrix element [2, 2].\n",
    "\n",
    "## \\begin{align}\n",
    "M[2, 2] &= e^{i(\\lambda+\\phi)}(1+e^{i\\theta})e^{-i\\theta/2}/2\\\\\n",
    "&=e^{i(\\lambda+\\phi)}(e^{-i\\theta/2}+e^{i\\theta/2})/2\\\\\n",
    "&=e^{i(\\lambda+\\phi)}\\cos(\\theta/2)\n",
    "\\end{align}\n",
    "\n",
    "## For matrix element [1, 2].\n",
    "\n",
    "## \\begin{align} \n",
    "M[1,2] &= e^{i\\lambda}(1-e^{i\\theta})e^{-i\\theta/2}/2\\\\\n",
    "&=e^{i\\lambda}(e^{-i\\theta/2}-e^{i\\theta/2})/2\\\\\n",
    "&=-ie^{i\\lambda}\\sin(\\theta/2)\n",
    "\\end{align}\n",
    "\n",
    "## Similarly for matrix element [2, 1].\n",
    "\n",
    "## \\begin{align} \n",
    "M[2,1] &= e^{i\\phi}(1-e^{i\\theta})e^{-i\\theta/2}/2\\\\\n",
    "&=e^{i\\phi}(e^{-i\\theta/2}-e^{i\\theta/2})/2\\\\\n",
    "&=-ie^{i\\phi}\\sin(\\theta/2)\n",
    "\\end{align}"
   ]
  },
  {
   "cell_type": "markdown",
   "id": "2ce4fc9c",
   "metadata": {},
   "source": [
    "---"
   ]
  },
  {
   "cell_type": "markdown",
   "id": "dfe70695",
   "metadata": {},
   "source": [
    "# Geometric Berry phase"
   ]
  },
  {
   "cell_type": "code",
   "execution_count": null,
   "id": "d8ccc589",
   "metadata": {},
   "outputs": [],
   "source": [
    "def R01(phi, theta):\n",
    "    return Matrix([\n",
    "        [cos(theta/2), -I*exp(-I*phi)*sin(theta/2), 0],\n",
    "        [-I*exp(I*phi)*sin(theta/2), cos(theta/2), 0],\n",
    "        [0, 0, 1]\n",
    "    ])"
   ]
  }
 ],
 "metadata": {
  "kernelspec": {
   "display_name": "Python 3 (ipykernel)",
   "language": "python",
   "name": "python3"
  },
  "language_info": {
   "codemirror_mode": {
    "name": "ipython",
    "version": 3
   },
   "file_extension": ".py",
   "mimetype": "text/x-python",
   "name": "python",
   "nbconvert_exporter": "python",
   "pygments_lexer": "ipython3",
   "version": "3.9.6"
  }
 },
 "nbformat": 4,
 "nbformat_minor": 5
}
