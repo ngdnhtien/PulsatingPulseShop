{
 "cells": [
  {
   "cell_type": "markdown",
   "id": "d5b42508",
   "metadata": {},
   "source": [
    "In this notebook I describe how to decompose matrices."
   ]
  },
  {
   "cell_type": "code",
   "execution_count": 55,
   "id": "f66c8ffd",
   "metadata": {},
   "outputs": [
    {
     "data": {
      "text/plain": [
       "(varphi, theta, phi, lambda, pi)"
      ]
     },
     "execution_count": 55,
     "metadata": {},
     "output_type": "execute_result"
    }
   ],
   "source": [
    "from sympy import *\n",
    "from sympy.physics.quantum.dagger import Dagger\n",
    "\n",
    "varphi = Symbol('varphi')\n",
    "phi = Symbol('phi')\n",
    "theta = Symbol('theta')\n",
    "lambda_p = Symbol('lambda')\n",
    "\n",
    "varphi, theta, phi, lambda_p, pi"
   ]
  },
  {
   "cell_type": "code",
   "execution_count": 56,
   "id": "34f62d73",
   "metadata": {},
   "outputs": [],
   "source": [
    "import numpy as np"
   ]
  },
  {
   "cell_type": "code",
   "execution_count": 57,
   "id": "fceaeaaf",
   "metadata": {},
   "outputs": [],
   "source": [
    "def Z01(varphi):\n",
    "    return Matrix([\n",
    "        [exp(-I*varphi), 0, 0],\n",
    "        [0, 1, 0],\n",
    "        [0, 0, 1]\n",
    "    ])\n",
    "\n",
    "def Z12(varphi):\n",
    "    return Matrix([\n",
    "        [1, 0, 0],\n",
    "        [0, 1, 0],\n",
    "        [0, 0, exp(I*varphi)]\n",
    "    ])\n",
    "\n",
    "def X01(theta):\n",
    "    return Matrix([\n",
    "        [cos(theta/2), -I*sin(theta/2), 0],\n",
    "        [-I*sin(theta/2), cos(theta/2), 0],\n",
    "        [0, 0, 1]\n",
    "    ])\n",
    "\n",
    "def X12(theta):\n",
    "    return Matrix([\n",
    "        [1, 0, 0],\n",
    "        [0, cos(theta/2), -I*sin(theta/2)],\n",
    "        [0, -I*sin(theta/2), cos(theta/2)],\n",
    "    ])\n",
    "\n",
    "def R01(theta, phi, lambda_p):\n",
    "    return Matrix([\n",
    "        [cos(theta/2), -I*exp(-I*phi)*sin(theta/2), 0],\n",
    "        [-I*exp(I*phi)*sin(theta/2), exp(I*(lambda_p+phi))*cos(theta/2), 0],\n",
    "        [0, 0, 1]\n",
    "    ])\n",
    "\n",
    "def R12(theta, phi, lambda_p):\n",
    "    return Matrix([\n",
    "        [1, 0, 0],\n",
    "        [0, cos(theta/2), -I*exp(I*lambda_p)*sin(theta/2)],\n",
    "        [0, -I*exp(I*phi)*sin(theta/2), exp(I*(lambda_p+phi))*cos(theta/2)]\n",
    "    ])\n",
    "\n",
    "def ket0():\n",
    "    return Matrix([\n",
    "        [1], [0], [0]\n",
    "    ])\n",
    "\n",
    "def ket1():\n",
    "    return Matrix([\n",
    "        [0], [1], [0]\n",
    "    ])\n",
    "\n",
    "def ket2():\n",
    "    return Matrix([\n",
    "        [0], [0], [1]\n",
    "    ])"
   ]
  },
  {
   "cell_type": "code",
   "execution_count": 58,
   "id": "fb26e598",
   "metadata": {},
   "outputs": [],
   "source": [
    "# American way of factorizing: you pull out the exact amount you specify in factor.\n",
    "# For example, if you want to pull out exp(i*pi). Then factor is pi.\n",
    "# If you want to pull out exp(-ipi/2). Then your factor is -pi/2\n",
    "\n",
    "def factorize(factor, matrix, dim):\n",
    "    ID = eye(dim)\n",
    "    ID = exp(-I*factor)*ID\n",
    "    return simplify(cancel(ID*matrix))\n",
    "\n",
    "# British way of factorizing: you pull out the negated amount you specify in factor.\n",
    "# For example, if you want to pull out exp(i*pi). Then factor is -pi.\n",
    "# If you want to pull out exp(-ipi/2). Then your factor is +pi/2\n",
    "\n",
    "def factorise(factor, matrix, dim):\n",
    "    ID = eye(dim)\n",
    "    ID = exp(I*factor)*ID\n",
    "    return simplify(cancel(ID*matrix))"
   ]
  },
  {
   "cell_type": "markdown",
   "id": "a0b87a09",
   "metadata": {},
   "source": [
    "---"
   ]
  },
  {
   "cell_type": "markdown",
   "id": "fd8ad29f",
   "metadata": {},
   "source": [
    "# Facto 1. Any SU(2) gate can be written in the form of a 2x2 matrix with three parameters"
   ]
  },
  {
   "cell_type": "code",
   "execution_count": 319,
   "id": "d04ae024",
   "metadata": {},
   "outputs": [
    {
     "data": {
      "text/latex": [
       "$\\displaystyle \\left[\\begin{matrix}\\cos{\\left(\\frac{\\theta}{2} \\right)} & - i e^{i \\lambda} \\sin{\\left(\\frac{\\theta}{2} \\right)}\\\\- i e^{i \\phi} \\sin{\\left(\\frac{\\theta}{2} \\right)} & e^{i \\left(\\lambda + \\phi\\right)} \\cos{\\left(\\frac{\\theta}{2} \\right)}\\end{matrix}\\right]$"
      ],
      "text/plain": [
       "Matrix([\n",
       "[              cos(theta/2),      -I*exp(I*lambda)*sin(theta/2)],\n",
       "[-I*exp(I*phi)*sin(theta/2), exp(I*(lambda + phi))*cos(theta/2)]])"
      ]
     },
     "execution_count": 319,
     "metadata": {},
     "output_type": "execute_result"
    }
   ],
   "source": [
    "# This is the original one\n",
    "\n",
    "U3(theta, phi, lambda_p)"
   ]
  },
  {
   "cell_type": "code",
   "execution_count": 320,
   "id": "6fc6168a",
   "metadata": {},
   "outputs": [
    {
     "data": {
      "text/latex": [
       "$\\displaystyle \\left[\\begin{matrix}e^{- \\frac{i \\lambda}{2}} e^{- \\frac{i \\phi}{2}} \\cos{\\left(\\frac{\\theta}{2} \\right)} & - i e^{\\frac{i \\lambda}{2}} e^{- \\frac{i \\phi}{2}} \\sin{\\left(\\frac{\\theta}{2} \\right)}\\\\- i e^{- \\frac{i \\lambda}{2}} e^{\\frac{i \\phi}{2}} \\sin{\\left(\\frac{\\theta}{2} \\right)} & e^{\\frac{i \\lambda}{2}} e^{\\frac{i \\phi}{2}} \\cos{\\left(\\frac{\\theta}{2} \\right)}\\end{matrix}\\right]$"
      ],
      "text/plain": [
       "Matrix([\n",
       "[  exp(-I*lambda/2)*exp(-I*phi/2)*cos(theta/2), -I*exp(I*lambda/2)*exp(-I*phi/2)*sin(theta/2)],\n",
       "[-I*exp(-I*lambda/2)*exp(I*phi/2)*sin(theta/2),     exp(I*lambda/2)*exp(I*phi/2)*cos(theta/2)]])"
      ]
     },
     "execution_count": 320,
     "metadata": {},
     "output_type": "execute_result"
    }
   ],
   "source": [
    "# This is the decomposed one\n",
    "\n",
    "Z2x2(phi)*X2x2(theta)*Z2x2(lambda_p)"
   ]
  },
  {
   "cell_type": "code",
   "execution_count": 321,
   "id": "93b5a7f4",
   "metadata": {},
   "outputs": [
    {
     "data": {
      "text/latex": [
       "$\\displaystyle \\left[\\begin{matrix}\\cos{\\left(\\frac{\\theta}{2} \\right)} & - i e^{i \\lambda} \\sin{\\left(\\frac{\\theta}{2} \\right)}\\\\- i e^{i \\phi} \\sin{\\left(\\frac{\\theta}{2} \\right)} & e^{i \\left(\\lambda + \\phi\\right)} \\cos{\\left(\\frac{\\theta}{2} \\right)}\\end{matrix}\\right]$"
      ],
      "text/plain": [
       "Matrix([\n",
       "[              cos(theta/2),      -I*exp(I*lambda)*sin(theta/2)],\n",
       "[-I*exp(I*phi)*sin(theta/2), exp(I*(lambda + phi))*cos(theta/2)]])"
      ]
     },
     "execution_count": 321,
     "metadata": {},
     "output_type": "execute_result"
    }
   ],
   "source": [
    "# They are equivalent, up to a global phase of -(lambda+phi)/2\n",
    "\n",
    "factorize(-(lambda_p+phi)/2, Z2x2(phi)*X2x2(theta)*Z2x2(lambda_p), 2)"
   ]
  },
  {
   "cell_type": "markdown",
   "id": "0eeaf3f3",
   "metadata": {},
   "source": [
    "# Facto 2. $R^{01}(\\theta, \\phi, \\lambda)= \\mathbf{Z}^{12}(-\\lambda-\\phi) Z^{01}(\\phi)X^{01}(\\theta)Z^{01}(\\lambda)$"
   ]
  },
  {
   "cell_type": "code",
   "execution_count": 322,
   "id": "ec18aeca",
   "metadata": {},
   "outputs": [
    {
     "data": {
      "text/latex": [
       "$\\displaystyle \\left[\\begin{matrix}\\cos{\\left(\\frac{\\theta}{2} \\right)} & - i e^{i \\lambda} \\sin{\\left(\\frac{\\theta}{2} \\right)} & 0\\\\- i e^{i \\phi} \\sin{\\left(\\frac{\\theta}{2} \\right)} & e^{i \\left(\\lambda + \\phi\\right)} \\cos{\\left(\\frac{\\theta}{2} \\right)} & 0\\\\0 & 0 & 1\\end{matrix}\\right]$"
      ],
      "text/plain": [
       "Matrix([\n",
       "[              cos(theta/2),      -I*exp(I*lambda)*sin(theta/2), 0],\n",
       "[-I*exp(I*phi)*sin(theta/2), exp(I*(lambda + phi))*cos(theta/2), 0],\n",
       "[                         0,                                  0, 1]])"
      ]
     },
     "execution_count": 322,
     "metadata": {},
     "output_type": "execute_result"
    }
   ],
   "source": [
    "# The original one\n",
    "\n",
    "R01(theta, phi, lambda_p)"
   ]
  },
  {
   "cell_type": "code",
   "execution_count": 323,
   "id": "ff838931",
   "metadata": {},
   "outputs": [
    {
     "data": {
      "text/latex": [
       "$\\displaystyle \\left[\\begin{matrix}e^{- i \\left(\\lambda + \\phi\\right)} \\cos{\\left(\\frac{\\theta}{2} \\right)} & - i e^{- i \\phi} \\sin{\\left(\\frac{\\theta}{2} \\right)} & 0\\\\- i e^{- i \\lambda} \\sin{\\left(\\frac{\\theta}{2} \\right)} & \\cos{\\left(\\frac{\\theta}{2} \\right)} & 0\\\\0 & 0 & 1\\end{matrix}\\right]$"
      ],
      "text/plain": [
       "Matrix([\n",
       "[exp(-I*(lambda + phi))*cos(theta/2), -I*exp(-I*phi)*sin(theta/2), 0],\n",
       "[     -I*exp(-I*lambda)*sin(theta/2),                cos(theta/2), 0],\n",
       "[                                  0,                           0, 1]])"
      ]
     },
     "execution_count": 323,
     "metadata": {},
     "output_type": "execute_result"
    }
   ],
   "source": [
    "# The decomposed one, without an additional Z12 gate\n",
    "\n",
    "simplify(Z01(phi)*X01(theta)*Z01(lambda_p))"
   ]
  },
  {
   "cell_type": "code",
   "execution_count": 324,
   "id": "06c61ba8",
   "metadata": {},
   "outputs": [
    {
     "data": {
      "text/latex": [
       "$\\displaystyle \\left[\\begin{matrix}e^{- i \\left(\\lambda + \\phi\\right)} \\cos{\\left(\\frac{\\theta}{2} \\right)} & - i e^{- i \\phi} \\sin{\\left(\\frac{\\theta}{2} \\right)} & 0\\\\- i e^{- i \\lambda} \\sin{\\left(\\frac{\\theta}{2} \\right)} & \\cos{\\left(\\frac{\\theta}{2} \\right)} & 0\\\\0 & 0 & e^{- i \\left(\\lambda + \\phi\\right)}\\end{matrix}\\right]$"
      ],
      "text/plain": [
       "Matrix([\n",
       "[exp(-I*(lambda + phi))*cos(theta/2), -I*exp(-I*phi)*sin(theta/2),                      0],\n",
       "[     -I*exp(-I*lambda)*sin(theta/2),                cos(theta/2),                      0],\n",
       "[                                  0,                           0, exp(-I*(lambda + phi))]])"
      ]
     },
     "execution_count": 324,
     "metadata": {},
     "output_type": "execute_result"
    }
   ],
   "source": [
    "# Now we include a Z12 gate\n",
    "\n",
    "simplify(Z12(-lambda_p-phi)*Z01(phi)*X01(theta)*Z01(lambda_p))"
   ]
  },
  {
   "cell_type": "code",
   "execution_count": 325,
   "id": "7b4af849",
   "metadata": {
    "scrolled": true
   },
   "outputs": [
    {
     "data": {
      "text/latex": [
       "$\\displaystyle \\left[\\begin{matrix}\\cos{\\left(\\frac{\\theta}{2} \\right)} & - i e^{i \\lambda} \\sin{\\left(\\frac{\\theta}{2} \\right)} & 0\\\\- i e^{i \\phi} \\sin{\\left(\\frac{\\theta}{2} \\right)} & e^{i \\left(\\lambda + \\phi\\right)} \\cos{\\left(\\frac{\\theta}{2} \\right)} & 0\\\\0 & 0 & 1\\end{matrix}\\right]$"
      ],
      "text/plain": [
       "Matrix([\n",
       "[              cos(theta/2),      -I*exp(I*lambda)*sin(theta/2), 0],\n",
       "[-I*exp(I*phi)*sin(theta/2), exp(I*(lambda + phi))*cos(theta/2), 0],\n",
       "[                         0,                                  0, 1]])"
      ]
     },
     "execution_count": 325,
     "metadata": {},
     "output_type": "execute_result"
    }
   ],
   "source": [
    "# The above sequence is equivalent to the original one, up to a global phase of -lambda-phi\n",
    "\n",
    "factorize(-lambda_p-phi, Z12(-lambda_p-phi)*Z01(phi)*X01(theta)*Z01(lambda_p), 3)"
   ]
  },
  {
   "cell_type": "markdown",
   "id": "2fa450be",
   "metadata": {},
   "source": [
    "# Facto 3. $X^{01}(\\theta)= \\mathbf{Z}^{12}(\\theta/2)Z^{01}(-\\pi/2)SX^{01}Z^{01}(\\pi-\\theta)SX^{01}Z^{01}(-\\pi/2)$"
   ]
  },
  {
   "cell_type": "code",
   "execution_count": 326,
   "id": "2f720dfb",
   "metadata": {},
   "outputs": [
    {
     "data": {
      "text/latex": [
       "$\\displaystyle \\left[\\begin{matrix}\\cos{\\left(\\frac{\\theta}{2} \\right)} & - i \\sin{\\left(\\frac{\\theta}{2} \\right)} & 0\\\\- i \\sin{\\left(\\frac{\\theta}{2} \\right)} & \\cos{\\left(\\frac{\\theta}{2} \\right)} & 0\\\\0 & 0 & 1\\end{matrix}\\right]$"
      ],
      "text/plain": [
       "Matrix([\n",
       "[   cos(theta/2), -I*sin(theta/2), 0],\n",
       "[-I*sin(theta/2),    cos(theta/2), 0],\n",
       "[              0,               0, 1]])"
      ]
     },
     "execution_count": 326,
     "metadata": {},
     "output_type": "execute_result"
    }
   ],
   "source": [
    "# The original one \n",
    "\n",
    "X01(theta)"
   ]
  },
  {
   "cell_type": "code",
   "execution_count": 327,
   "id": "31082704",
   "metadata": {},
   "outputs": [
    {
     "data": {
      "text/latex": [
       "$\\displaystyle \\left[\\begin{matrix}\\frac{e^{i \\theta}}{2} + \\frac{1}{2} & \\frac{1}{2} - \\frac{e^{i \\theta}}{2} & 0\\\\\\frac{1}{2} - \\frac{e^{i \\theta}}{2} & \\frac{e^{i \\theta}}{2} + \\frac{1}{2} & 0\\\\0 & 0 & 1\\end{matrix}\\right]$"
      ],
      "text/plain": [
       "Matrix([\n",
       "[exp(I*theta)/2 + 1/2, 1/2 - exp(I*theta)/2, 0],\n",
       "[1/2 - exp(I*theta)/2, exp(I*theta)/2 + 1/2, 0],\n",
       "[                   0,                    0, 1]])"
      ]
     },
     "execution_count": 327,
     "metadata": {},
     "output_type": "execute_result"
    }
   ],
   "source": [
    "# The decomposed one, without an additional Z12 gate\n",
    "\n",
    "simplify(Z01(-pi/2)*X01(pi/2)*Z01(pi-theta)*X01(pi/2)*Z01(-pi/2))"
   ]
  },
  {
   "cell_type": "markdown",
   "id": "679b6699",
   "metadata": {},
   "source": [
    "### Note that $(1+e^{i\\theta})/2=e^{i\\theta/2}(e^{i\\theta/2}+e^{-i\\theta/2})/2= e^{i\\theta/2}\\cos(\\theta/2)$ and similarly for $(1-e^{i\\theta})/2=-ie^{i\\theta/2}\\sin(\\theta/2)$"
   ]
  },
  {
   "cell_type": "code",
   "execution_count": 328,
   "id": "89306796",
   "metadata": {},
   "outputs": [
    {
     "data": {
      "text/latex": [
       "$\\displaystyle \\left[\\begin{matrix}\\frac{e^{i \\theta}}{2} + \\frac{1}{2} & \\frac{1}{2} - \\frac{e^{i \\theta}}{2} & 0\\\\\\frac{1}{2} - \\frac{e^{i \\theta}}{2} & \\frac{e^{i \\theta}}{2} + \\frac{1}{2} & 0\\\\0 & 0 & e^{\\frac{i \\theta}{2}}\\end{matrix}\\right]$"
      ],
      "text/plain": [
       "Matrix([\n",
       "[exp(I*theta)/2 + 1/2, 1/2 - exp(I*theta)/2,              0],\n",
       "[1/2 - exp(I*theta)/2, exp(I*theta)/2 + 1/2,              0],\n",
       "[                   0,                    0, exp(I*theta/2)]])"
      ]
     },
     "execution_count": 328,
     "metadata": {},
     "output_type": "execute_result"
    }
   ],
   "source": [
    "# The decomposed one, with an additional Z12 gate\n",
    "\n",
    "simplify(Z12(theta/2)*Z01(-pi/2)*X01(pi/2)*Z01(pi-theta)*X01(pi/2)*Z01(-pi/2))"
   ]
  },
  {
   "cell_type": "code",
   "execution_count": 329,
   "id": "bea64a69",
   "metadata": {},
   "outputs": [
    {
     "data": {
      "text/latex": [
       "$\\displaystyle \\left[\\begin{matrix}\\cos{\\left(\\frac{\\theta}{2} \\right)} & - i \\sin{\\left(\\frac{\\theta}{2} \\right)} & 0\\\\- i \\sin{\\left(\\frac{\\theta}{2} \\right)} & \\cos{\\left(\\frac{\\theta}{2} \\right)} & 0\\\\0 & 0 & 1\\end{matrix}\\right]$"
      ],
      "text/plain": [
       "Matrix([\n",
       "[   cos(theta/2), -I*sin(theta/2), 0],\n",
       "[-I*sin(theta/2),    cos(theta/2), 0],\n",
       "[              0,               0, 1]])"
      ]
     },
     "execution_count": 329,
     "metadata": {},
     "output_type": "execute_result"
    }
   ],
   "source": [
    "# The above one is equivalent to the original one, up to a global phase of theta/2.\n",
    "\n",
    "factorize(theta/2, Z12(theta/2)*Z01(-pi/2)*X01(pi/2)*Z01(pi-theta)*X01(pi/2)*Z01(-pi/2), 3)"
   ]
  },
  {
   "cell_type": "markdown",
   "id": "f4ec3fe5",
   "metadata": {},
   "source": [
    "Upon combining Facto 2 and 3, we have \n",
    "\n",
    "# Fact 4. $R^{01}(\\theta, \\phi, \\lambda)=\\mathbf{Z}^{12}(-\\lambda-\\phi+\\theta/2) Z^{01}(\\phi-\\pi/2)SX^{01}Z^{01}(\\pi-\\theta)SX^{01}Z^{01}(\\lambda-\\pi/2)$"
   ]
  },
  {
   "cell_type": "code",
   "execution_count": 330,
   "id": "3eebe15b",
   "metadata": {},
   "outputs": [
    {
     "data": {
      "text/latex": [
       "$\\displaystyle \\left[\\begin{matrix}\\cos{\\left(\\frac{\\theta}{2} \\right)} & - i e^{i \\lambda} \\sin{\\left(\\frac{\\theta}{2} \\right)} & 0\\\\- i e^{i \\phi} \\sin{\\left(\\frac{\\theta}{2} \\right)} & e^{i \\left(\\lambda + \\phi\\right)} \\cos{\\left(\\frac{\\theta}{2} \\right)} & 0\\\\0 & 0 & 1\\end{matrix}\\right]$"
      ],
      "text/plain": [
       "Matrix([\n",
       "[              cos(theta/2),      -I*exp(I*lambda)*sin(theta/2), 0],\n",
       "[-I*exp(I*phi)*sin(theta/2), exp(I*(lambda + phi))*cos(theta/2), 0],\n",
       "[                         0,                                  0, 1]])"
      ]
     },
     "execution_count": 330,
     "metadata": {},
     "output_type": "execute_result"
    }
   ],
   "source": [
    "# The original one\n",
    "\n",
    "R01(theta, phi, lambda_p)"
   ]
  },
  {
   "cell_type": "code",
   "execution_count": 331,
   "id": "457e6617",
   "metadata": {},
   "outputs": [
    {
     "data": {
      "text/latex": [
       "$\\displaystyle \\left[\\begin{matrix}\\frac{\\left(e^{i \\left(\\theta - \\pi\\right)} - 1\\right) e^{- i \\left(\\lambda + \\phi - \\pi\\right)}}{2} & \\frac{\\left(1 - e^{i \\theta}\\right) e^{- i \\phi}}{2} & 0\\\\\\frac{\\left(1 - e^{i \\theta}\\right) e^{- i \\lambda}}{2} & \\frac{e^{i \\theta}}{2} + \\frac{1}{2} & 0\\\\0 & 0 & e^{- \\frac{i \\left(2 \\lambda + 2 \\phi - \\theta\\right)}{2}}\\end{matrix}\\right]$"
      ],
      "text/plain": [
       "Matrix([\n",
       "[(exp(I*(theta - pi)) - 1)*exp(-I*(lambda + phi - pi))/2, (1 - exp(I*theta))*exp(-I*phi)/2,                                    0],\n",
       "[                    (1 - exp(I*theta))*exp(-I*lambda)/2,             exp(I*theta)/2 + 1/2,                                    0],\n",
       "[                                                      0,                                0, exp(-I*(2*lambda + 2*phi - theta)/2)]])"
      ]
     },
     "execution_count": 331,
     "metadata": {},
     "output_type": "execute_result"
    }
   ],
   "source": [
    "# The decomposed one\n",
    "\n",
    "simplify(Z12(-lambda_p-phi+theta/2)*Z01(phi-pi/2)*X01(pi/2)*Z01(pi-theta)*X01(pi/2)*Z01(lambda_p-pi/2))"
   ]
  },
  {
   "cell_type": "code",
   "execution_count": 332,
   "id": "3d951f23",
   "metadata": {},
   "outputs": [
    {
     "data": {
      "text/latex": [
       "$\\displaystyle \\left[\\begin{matrix}\\cos{\\left(\\frac{\\theta}{2} \\right)} & \\frac{\\left(e^{i \\lambda} - e^{i \\left(\\lambda + \\theta\\right)}\\right) e^{- \\frac{i \\theta}{2}}}{2} & 0\\\\\\frac{\\left(e^{i \\phi} - e^{i \\left(\\phi + \\theta\\right)}\\right) e^{- \\frac{i \\theta}{2}}}{2} & \\frac{\\left(e^{i \\left(\\lambda + \\phi\\right)} + e^{i \\left(\\lambda + \\phi + \\theta\\right)}\\right) e^{- \\frac{i \\theta}{2}}}{2} & 0\\\\0 & 0 & 1\\end{matrix}\\right]$"
      ],
      "text/plain": [
       "Matrix([\n",
       "[                                         cos(theta/2),               (exp(I*lambda) - exp(I*(lambda + theta)))*exp(-I*theta/2)/2, 0],\n",
       "[(exp(I*phi) - exp(I*(phi + theta)))*exp(-I*theta/2)/2, (exp(I*(lambda + phi)) + exp(I*(lambda + phi + theta)))*exp(-I*theta/2)/2, 0],\n",
       "[                                                    0,                                                                         0, 1]])"
      ]
     },
     "execution_count": 332,
     "metadata": {},
     "output_type": "execute_result"
    }
   ],
   "source": [
    "# The above one is equivalent to the original one, up to a global phase of lambda+phi-theta/2\n",
    "\n",
    "factorize(-lambda_p-phi+theta/2, Z12(-lambda_p-phi+theta/2)*Z01(phi-pi/2)*X01(pi/2)*Z01(pi-theta)*X01(pi/2)*Z01(lambda_p-pi/2), 3)"
   ]
  },
  {
   "cell_type": "markdown",
   "id": "7618f766",
   "metadata": {},
   "source": [
    "## Matrix element [0, 0] is ok. For matrix element [1,1].\n",
    "\n",
    "## \\begin{align}\n",
    "M[1,1] &= e^{i(\\lambda+\\phi)}(1+e^{i\\theta})e^{-i\\theta/2}/2\\\\\n",
    "&=e^{i(\\lambda+\\phi)}(e^{-i\\theta/2}+e^{i\\theta/2})/2\\\\\n",
    "&=e^{i(\\lambda+\\phi)}\\cos(\\theta/2)\n",
    "\\end{align}\n",
    "\n",
    "## For matrix element [0, 1].\n",
    "\n",
    "## \\begin{align} \n",
    "M[0,1] &= e^{i\\lambda}(1-e^{i\\theta})e^{-i\\theta/2}/2\\\\\n",
    "&=e^{i\\lambda}(e^{-i\\theta/2}-e^{i\\theta/2})/2\\\\\n",
    "&=-ie^{i\\lambda}\\sin(\\theta/2)\n",
    "\\end{align}\n",
    "\n",
    "## Similarly for matrix element [1,0].\n",
    "\n",
    "## \\begin{align} \n",
    "M[0,1] &= e^{i\\phi}(1-e^{i\\theta})e^{-i\\theta/2}/2\\\\\n",
    "&=e^{i\\phi}(e^{-i\\theta/2}-e^{i\\theta/2})/2\\\\\n",
    "&=-ie^{i\\phi}\\sin(\\theta/2)\n",
    "\\end{align}\n",
    "\n",
    "## Hence Facto 4. $R^{01}(\\theta, \\phi, \\lambda)=\\mathbf{Z}^{12}(-\\lambda-\\phi+\\theta/2) Z^{01}(\\phi-\\pi/2)SX^{01}Z^{01}(\\pi-\\theta)SX^{01}Z^{01}(\\lambda-\\pi/2)$"
   ]
  },
  {
   "cell_type": "markdown",
   "id": "a50bd8ce",
   "metadata": {},
   "source": [
    "# Now I redo the above steps, only to find a similar decomposition for $(12)$ subspace. The origin of these $Z^{12}$ gates in $(01)$ decomposition shall be discussed later.\n",
    "\n",
    "Let us follow a heuristic approach. "
   ]
  },
  {
   "cell_type": "markdown",
   "id": "37517d4d",
   "metadata": {},
   "source": [
    "# Facto 5. $R^{12}(\\theta, \\phi, \\lambda)= Z^{12}(\\phi)X^{12}(\\theta)Z^{12}(\\lambda)$"
   ]
  },
  {
   "cell_type": "code",
   "execution_count": 333,
   "id": "103e85af",
   "metadata": {},
   "outputs": [
    {
     "data": {
      "text/latex": [
       "$\\displaystyle \\left[\\begin{matrix}1 & 0 & 0\\\\0 & \\cos{\\left(\\frac{\\theta}{2} \\right)} & - i e^{i \\lambda} \\sin{\\left(\\frac{\\theta}{2} \\right)}\\\\0 & - i e^{i \\phi} \\sin{\\left(\\frac{\\theta}{2} \\right)} & e^{i \\left(\\lambda + \\phi\\right)} \\cos{\\left(\\frac{\\theta}{2} \\right)}\\end{matrix}\\right]$"
      ],
      "text/plain": [
       "Matrix([\n",
       "[1,                          0,                                  0],\n",
       "[0,               cos(theta/2),      -I*exp(I*lambda)*sin(theta/2)],\n",
       "[0, -I*exp(I*phi)*sin(theta/2), exp(I*(lambda + phi))*cos(theta/2)]])"
      ]
     },
     "execution_count": 333,
     "metadata": {},
     "output_type": "execute_result"
    }
   ],
   "source": [
    "# The original one\n",
    "\n",
    "R12(theta, phi, lambda_p)"
   ]
  },
  {
   "cell_type": "code",
   "execution_count": 334,
   "id": "16bfd064",
   "metadata": {},
   "outputs": [
    {
     "data": {
      "text/latex": [
       "$\\displaystyle \\left[\\begin{matrix}1 & 0 & 0\\\\0 & \\cos{\\left(\\frac{\\theta}{2} \\right)} & - i e^{i \\lambda} \\sin{\\left(\\frac{\\theta}{2} \\right)}\\\\0 & - i e^{i \\phi} \\sin{\\left(\\frac{\\theta}{2} \\right)} & e^{i \\left(\\lambda + \\phi\\right)} \\cos{\\left(\\frac{\\theta}{2} \\right)}\\end{matrix}\\right]$"
      ],
      "text/plain": [
       "Matrix([\n",
       "[1,                          0,                                  0],\n",
       "[0,               cos(theta/2),      -I*exp(I*lambda)*sin(theta/2)],\n",
       "[0, -I*exp(I*phi)*sin(theta/2), exp(I*(lambda + phi))*cos(theta/2)]])"
      ]
     },
     "execution_count": 334,
     "metadata": {},
     "output_type": "execute_result"
    }
   ],
   "source": [
    "# The decomposed one, without an additional Z01 gate\n",
    "\n",
    "simplify(Z12(phi)*X12(theta)*Z12(lambda_p))"
   ]
  },
  {
   "cell_type": "markdown",
   "id": "04905202",
   "metadata": {},
   "source": [
    "# What!?"
   ]
  },
  {
   "cell_type": "markdown",
   "id": "2ab06e9b",
   "metadata": {},
   "source": [
    "# Facto 6. $X^{12}(\\theta)= Z^{01}(\\theta/2)Z^{12}(-\\pi/2)SX^{12}Z^{12}(\\pi-\\theta)SX^{12}Z^{12}(-\\pi/2)$"
   ]
  },
  {
   "cell_type": "code",
   "execution_count": 299,
   "id": "7995fec5",
   "metadata": {},
   "outputs": [
    {
     "data": {
      "text/latex": [
       "$\\displaystyle \\left[\\begin{matrix}1 & 0 & 0\\\\0 & \\cos{\\left(\\frac{\\theta}{2} \\right)} & - i \\sin{\\left(\\frac{\\theta}{2} \\right)}\\\\0 & - i \\sin{\\left(\\frac{\\theta}{2} \\right)} & \\cos{\\left(\\frac{\\theta}{2} \\right)}\\end{matrix}\\right]$"
      ],
      "text/plain": [
       "Matrix([\n",
       "[1,               0,               0],\n",
       "[0,    cos(theta/2), -I*sin(theta/2)],\n",
       "[0, -I*sin(theta/2),    cos(theta/2)]])"
      ]
     },
     "execution_count": 299,
     "metadata": {},
     "output_type": "execute_result"
    }
   ],
   "source": [
    "# The original one\n",
    "\n",
    "X12(theta) "
   ]
  },
  {
   "cell_type": "code",
   "execution_count": 301,
   "id": "96c46745",
   "metadata": {},
   "outputs": [
    {
     "data": {
      "text/latex": [
       "$\\displaystyle \\left[\\begin{matrix}1 & 0 & 0\\\\0 & \\frac{1}{2} + \\frac{e^{- i \\theta}}{2} & - \\frac{1}{2} + \\frac{e^{- i \\theta}}{2}\\\\0 & - \\frac{1}{2} + \\frac{e^{- i \\theta}}{2} & \\frac{1}{2} + \\frac{e^{- i \\theta}}{2}\\end{matrix}\\right]$"
      ],
      "text/plain": [
       "Matrix([\n",
       "[1,                      0,                      0],\n",
       "[0,  1/2 + exp(-I*theta)/2, -1/2 + exp(-I*theta)/2],\n",
       "[0, -1/2 + exp(-I*theta)/2,  1/2 + exp(-I*theta)/2]])"
      ]
     },
     "execution_count": 301,
     "metadata": {},
     "output_type": "execute_result"
    }
   ],
   "source": [
    "# The decomposed one, without an additional Z01 gate\n",
    "\n",
    "simplify(Z12(-pi/2)*X12(pi/2)*Z12(pi-theta)*X12(pi/2)*Z12(-pi/2))"
   ]
  },
  {
   "cell_type": "markdown",
   "id": "1b74f784",
   "metadata": {},
   "source": [
    "## $1/2(1+e^{-i\\theta})= e^{-i\\theta/2}\\cos(\\theta/2)$ and $-1/2(1-e^{-i\\theta})=-ie^{-i\\theta/2}\\sin(\\theta/2)$."
   ]
  },
  {
   "cell_type": "code",
   "execution_count": 305,
   "id": "2481e7be",
   "metadata": {},
   "outputs": [
    {
     "data": {
      "text/latex": [
       "$\\displaystyle \\left[\\begin{matrix}1 & 0 & 0\\\\0 & \\cos{\\left(\\frac{\\theta}{2} \\right)} & - i \\sin{\\left(\\frac{\\theta}{2} \\right)}\\\\0 & - i \\sin{\\left(\\frac{\\theta}{2} \\right)} & \\cos{\\left(\\frac{\\theta}{2} \\right)}\\end{matrix}\\right]$"
      ],
      "text/plain": [
       "Matrix([\n",
       "[1,               0,               0],\n",
       "[0,    cos(theta/2), -I*sin(theta/2)],\n",
       "[0, -I*sin(theta/2),    cos(theta/2)]])"
      ]
     },
     "execution_count": 305,
     "metadata": {},
     "output_type": "execute_result"
    }
   ],
   "source": [
    "# The decomposed one, with an additional Z01 gate to compensate for the additonal phase.\n",
    "# It is equivalent to the original one, up to a global phase of -theta/2.\n",
    "\n",
    "factorize(-theta/2, Z01(theta/2)*Z12(-pi/2)*X12(pi/2)*Z12(pi-theta)*X12(pi/2)*Z12(-pi/2), 3)"
   ]
  },
  {
   "cell_type": "markdown",
   "id": "48171962",
   "metadata": {},
   "source": [
    "Upon comibing Facto 5 and 6, we have \n",
    "\n",
    "\\begin{align}\n",
    "R^{12}(\\theta, \\phi, \\lambda) &= Z^{12}(\\phi)X^{12}(\\theta)Z^{12}(\\lambda)\\\\\n",
    "&= Z^{12}(\\phi)Z^{01}(\\theta/2)Z^{12}(-\\pi/2)SX^{12}Z^{12}(\\pi-\\theta)SX^{12}Z^{12}(-\\pi/2)Z^{12}(\\lambda)\n",
    "\\end{align}\n",
    "\n",
    "# Facto 7. $R^{12}(\\theta, \\phi, \\lambda)=\\mathbf{Z}^{01}(\\theta/2) Z^{12}(\\phi-\\pi/2)SX^{12}Z^{12}(\\pi-\\theta)SX^{12}Z^{12}(\\lambda-\\pi/2)$"
   ]
  },
  {
   "cell_type": "code",
   "execution_count": 306,
   "id": "5c3b275d",
   "metadata": {},
   "outputs": [
    {
     "data": {
      "text/latex": [
       "$\\displaystyle \\left[\\begin{matrix}1 & 0 & 0\\\\0 & \\cos{\\left(\\frac{\\theta}{2} \\right)} & - i e^{i \\lambda} \\sin{\\left(\\frac{\\theta}{2} \\right)}\\\\0 & - i e^{i \\phi} \\sin{\\left(\\frac{\\theta}{2} \\right)} & e^{i \\left(\\lambda + \\phi\\right)} \\cos{\\left(\\frac{\\theta}{2} \\right)}\\end{matrix}\\right]$"
      ],
      "text/plain": [
       "Matrix([\n",
       "[1,                          0,                                  0],\n",
       "[0,               cos(theta/2),      -I*exp(I*lambda)*sin(theta/2)],\n",
       "[0, -I*exp(I*phi)*sin(theta/2), exp(I*(lambda + phi))*cos(theta/2)]])"
      ]
     },
     "execution_count": 306,
     "metadata": {},
     "output_type": "execute_result"
    }
   ],
   "source": [
    "# The original one\n",
    "\n",
    "R12(theta, phi, lambda_p)"
   ]
  },
  {
   "cell_type": "code",
   "execution_count": 307,
   "id": "81e08acf",
   "metadata": {},
   "outputs": [
    {
     "data": {
      "text/latex": [
       "$\\displaystyle \\left[\\begin{matrix}e^{- \\frac{i \\theta}{2}} & 0 & 0\\\\0 & \\frac{1}{2} - \\frac{e^{i \\left(\\pi - \\theta\\right)}}{2} & \\left(- \\frac{i e^{i \\left(\\pi - \\theta\\right)}}{2} - \\frac{i}{2}\\right) e^{i \\left(\\lambda - \\frac{\\pi}{2}\\right)}\\\\0 & - \\frac{i e^{i \\left(\\pi - \\theta\\right)} e^{i \\left(\\phi - \\frac{\\pi}{2}\\right)}}{2} - \\frac{i e^{i \\left(\\phi - \\frac{\\pi}{2}\\right)}}{2} & \\left(\\frac{e^{i \\left(\\pi - \\theta\\right)} e^{i \\left(\\phi - \\frac{\\pi}{2}\\right)}}{2} - \\frac{e^{i \\left(\\phi - \\frac{\\pi}{2}\\right)}}{2}\\right) e^{i \\left(\\lambda - \\frac{\\pi}{2}\\right)}\\end{matrix}\\right]$"
      ],
      "text/plain": [
       "Matrix([\n",
       "[exp(-I*theta/2),                                                                      0,                                                                                          0],\n",
       "[              0,                                            1/2 - exp(I*(pi - theta))/2,                                    (-I*exp(I*(pi - theta))/2 - I/2)*exp(I*(lambda - pi/2))],\n",
       "[              0, -I*exp(I*(pi - theta))*exp(I*(phi - pi/2))/2 - I*exp(I*(phi - pi/2))/2, (exp(I*(pi - theta))*exp(I*(phi - pi/2))/2 - exp(I*(phi - pi/2))/2)*exp(I*(lambda - pi/2))]])"
      ]
     },
     "execution_count": 307,
     "metadata": {},
     "output_type": "execute_result"
    }
   ],
   "source": [
    "# The decomposed one, with an additional Z01 rotation\n",
    "\n",
    "Z01(theta/2)*Z12(phi-pi/2)*X12(pi/2)*Z12(pi-theta)*X12(pi/2)*Z12(lambda_p-pi/2)"
   ]
  },
  {
   "cell_type": "code",
   "execution_count": 309,
   "id": "6eb477d0",
   "metadata": {},
   "outputs": [
    {
     "data": {
      "text/latex": [
       "$\\displaystyle \\left[\\begin{matrix}1 & 0 & 0\\\\0 & \\cos{\\left(\\frac{\\theta}{2} \\right)} & \\frac{\\left(1 - e^{i \\theta}\\right) e^{i \\left(\\lambda - \\frac{\\theta}{2}\\right)}}{2}\\\\0 & \\frac{\\left(1 - e^{i \\theta}\\right) e^{i \\left(\\phi - \\frac{\\theta}{2}\\right)}}{2} & \\frac{\\left(e^{i \\theta} + 1\\right) e^{i \\left(\\lambda + \\phi - \\frac{\\theta}{2}\\right)}}{2}\\end{matrix}\\right]$"
      ],
      "text/plain": [
       "Matrix([\n",
       "[1,                                           0,                                                    0],\n",
       "[0,                                cos(theta/2),       (1 - exp(I*theta))*exp(I*(lambda - theta/2))/2],\n",
       "[0, (1 - exp(I*theta))*exp(I*(phi - theta/2))/2, (exp(I*theta) + 1)*exp(I*(lambda + phi - theta/2))/2]])"
      ]
     },
     "execution_count": 309,
     "metadata": {},
     "output_type": "execute_result"
    }
   ],
   "source": [
    "# They are equivalent, up to a global phase of -theta/2\n",
    "\n",
    "factorize(-theta/2, Z01(theta/2)*Z12(phi-pi/2)*X12(pi/2)*Z12(pi-theta)*X12(pi/2)*Z12(lambda_p-pi/2), 3)"
   ]
  },
  {
   "cell_type": "markdown",
   "id": "2f1e7de6",
   "metadata": {},
   "source": [
    "## Matrix element [1, 1] is ok. For matrix element [2, 2].\n",
    "\n",
    "## \\begin{align}\n",
    "M[2, 2] &= e^{i(\\lambda+\\phi)}(1+e^{i\\theta})e^{-i\\theta/2}/2\\\\\n",
    "&=e^{i(\\lambda+\\phi)}(e^{-i\\theta/2}+e^{i\\theta/2})/2\\\\\n",
    "&=e^{i(\\lambda+\\phi)}\\cos(\\theta/2)\n",
    "\\end{align}\n",
    "\n",
    "## For matrix element [1, 2].\n",
    "\n",
    "## \\begin{align} \n",
    "M[1,2] &= e^{i\\lambda}(1-e^{i\\theta})e^{-i\\theta/2}/2\\\\\n",
    "&=e^{i\\lambda}(e^{-i\\theta/2}-e^{i\\theta/2})/2\\\\\n",
    "&=-ie^{i\\lambda}\\sin(\\theta/2)\n",
    "\\end{align}\n",
    "\n",
    "## Similarly for matrix element [2, 1].\n",
    "\n",
    "## \\begin{align} \n",
    "M[2,1] &= e^{i\\phi}(1-e^{i\\theta})e^{-i\\theta/2}/2\\\\\n",
    "&=e^{i\\phi}(e^{-i\\theta/2}-e^{i\\theta/2})/2\\\\\n",
    "&=-ie^{i\\phi}\\sin(\\theta/2)\n",
    "\\end{align}"
   ]
  },
  {
   "cell_type": "markdown",
   "id": "24641365",
   "metadata": {},
   "source": [
    "---"
   ]
  },
  {
   "cell_type": "markdown",
   "id": "1b08755d",
   "metadata": {},
   "source": [
    "# Geometric Berry phase"
   ]
  },
  {
   "cell_type": "code",
   "execution_count": 89,
   "id": "9f2bf002",
   "metadata": {},
   "outputs": [],
   "source": [
    "def R01(phi, theta):\n",
    "    return Matrix([\n",
    "        [cos(theta/2), -I*exp(-I*phi)*sin(theta/2), 0],\n",
    "        [-I*exp(I*phi)*sin(theta/2), cos(theta/2), 0],\n",
    "        [0, 0, 1]\n",
    "    ])\n",
    "\n",
    "def R12(phi, theta):\n",
    "    return Matrix([\n",
    "        [1, 0, 0],\n",
    "        [0, cos(theta/2), -I*exp(-I*phi)*sin(theta/2)],\n",
    "        [0, -I*exp(I*phi)*sin(theta/2), cos(theta/2)]\n",
    "    ])"
   ]
  },
  {
   "cell_type": "code",
   "execution_count": 90,
   "id": "6ac9c608",
   "metadata": {},
   "outputs": [],
   "source": [
    "def ket0():\n",
    "    return Matrix([\n",
    "        [1], [0], [0]\n",
    "    ])"
   ]
  },
  {
   "cell_type": "code",
   "execution_count": 91,
   "id": "3afbfcd9",
   "metadata": {},
   "outputs": [
    {
     "data": {
      "text/latex": [
       "$\\displaystyle \\left[\\begin{matrix}1 & 0 & 0\\\\0 & 1 & 0\\\\0 & 0 & 1\\end{matrix}\\right]$"
      ],
      "text/plain": [
       "Matrix([\n",
       "[1, 0, 0],\n",
       "[0, 1, 0],\n",
       "[0, 0, 1]])"
      ]
     },
     "execution_count": 91,
     "metadata": {},
     "output_type": "execute_result"
    }
   ],
   "source": [
    "Dagger(R12(pi/2,pi/4)) * R12(pi/2,pi/4)"
   ]
  },
  {
   "cell_type": "code",
   "execution_count": 92,
   "id": "034d0087",
   "metadata": {},
   "outputs": [],
   "source": [
    "state = ket0()\n",
    "state = R01(0, pi/2) * state"
   ]
  },
  {
   "cell_type": "code",
   "execution_count": 93,
   "id": "87b71f1d",
   "metadata": {},
   "outputs": [
    {
     "data": {
      "text/latex": [
       "$\\displaystyle \\left[\\begin{matrix}\\frac{\\sqrt{2}}{2}\\\\- \\frac{\\sqrt{2} i}{2}\\\\0\\end{matrix}\\right]$"
      ],
      "text/plain": [
       "Matrix([\n",
       "[   sqrt(2)/2],\n",
       "[-sqrt(2)*I/2],\n",
       "[           0]])"
      ]
     },
     "execution_count": 93,
     "metadata": {},
     "output_type": "execute_result"
    }
   ],
   "source": [
    "state"
   ]
  },
  {
   "cell_type": "code",
   "execution_count": 94,
   "id": "6986f42a",
   "metadata": {},
   "outputs": [
    {
     "data": {
      "text/latex": [
       "$\\displaystyle \\left[\\begin{matrix}\\frac{\\sqrt{2}}{2}\\\\0\\\\- \\frac{\\sqrt{2}}{2}\\end{matrix}\\right]$"
      ],
      "text/plain": [
       "Matrix([\n",
       "[ sqrt(2)/2],\n",
       "[         0],\n",
       "[-sqrt(2)/2]])"
      ]
     },
     "execution_count": 94,
     "metadata": {},
     "output_type": "execute_result"
    }
   ],
   "source": [
    "state = R12(0, pi) * state\n",
    "# state = R12(pi/4, pi) * state\n",
    "\n",
    "state"
   ]
  },
  {
   "cell_type": "code",
   "execution_count": 95,
   "id": "10123859",
   "metadata": {},
   "outputs": [
    {
     "data": {
      "text/latex": [
       "$\\displaystyle \\left[\\begin{matrix}\\frac{\\sqrt{2}}{2}\\\\\\frac{\\sqrt{2} i e^{- i \\phi}}{2}\\\\0\\end{matrix}\\right]$"
      ],
      "text/plain": [
       "Matrix([\n",
       "[              sqrt(2)/2],\n",
       "[sqrt(2)*I*exp(-I*phi)/2],\n",
       "[                      0]])"
      ]
     },
     "execution_count": 95,
     "metadata": {},
     "output_type": "execute_result"
    }
   ],
   "source": [
    "state = R12(phi, pi) * state\n",
    "\n",
    "state"
   ]
  },
  {
   "cell_type": "code",
   "execution_count": 96,
   "id": "816291cb",
   "metadata": {},
   "outputs": [
    {
     "data": {
      "text/latex": [
       "$\\displaystyle \\left[\\begin{matrix}\\frac{1}{2} + \\frac{e^{- i \\phi} e^{- i \\varphi}}{2}\\\\- \\frac{i e^{i \\varphi}}{2} + \\frac{i e^{- i \\phi}}{2}\\\\0\\end{matrix}\\right]$"
      ],
      "text/plain": [
       "Matrix([\n",
       "[  1/2 + exp(-I*phi)*exp(-I*varphi)/2],\n",
       "[-I*exp(I*varphi)/2 + I*exp(-I*phi)/2],\n",
       "[                                   0]])"
      ]
     },
     "execution_count": 96,
     "metadata": {},
     "output_type": "execute_result"
    }
   ],
   "source": [
    "state = R01(varphi, pi/2) * state\n",
    "\n",
    "state"
   ]
  },
  {
   "cell_type": "code",
   "execution_count": 98,
   "id": "c3bf5e6f",
   "metadata": {},
   "outputs": [
    {
     "data": {
      "text/latex": [
       "$\\displaystyle \\left[\\begin{matrix}\\frac{\\left(- \\left(1 - e^{i \\left(\\phi + \\varphi\\right)}\\right) \\left(1 - e^{i \\left(\\overline{\\phi} + \\overline{\\varphi}\\right)}\\right) e^{i \\left(\\phi + \\varphi\\right)} + \\left(e^{i \\left(\\phi + \\varphi\\right)} + 1\\right) \\left(e^{i \\left(\\overline{\\phi} + \\overline{\\varphi}\\right)} + 1\\right) e^{i \\left(\\phi + \\overline{\\varphi}\\right)}\\right) e^{- i \\left(2 \\phi + \\varphi + \\overline{\\varphi}\\right)}}{4}\\end{matrix}\\right]$"
      ],
      "text/plain": [
       "Matrix([[(-(1 - exp(I*(phi + varphi)))*(1 - exp(I*(conjugate(phi) + conjugate(varphi))))*exp(I*(phi + varphi)) + (exp(I*(phi + varphi)) + 1)*(exp(I*(conjugate(phi) + conjugate(varphi))) + 1)*exp(I*(phi + conjugate(varphi))))*exp(-I*(2*phi + varphi + conjugate(varphi)))/4]])"
      ]
     },
     "execution_count": 98,
     "metadata": {},
     "output_type": "execute_result"
    }
   ],
   "source": [
    "simplify(Dagger(state) * state)"
   ]
  },
  {
   "cell_type": "code",
   "execution_count": 44,
   "id": "b144dbb0",
   "metadata": {},
   "outputs": [
    {
     "ename": "KeyboardInterrupt",
     "evalue": "",
     "output_type": "error",
     "traceback": [
      "\u001b[0;31m---------------------------------------------------------------------------\u001b[0m",
      "\u001b[0;31mKeyboardInterrupt\u001b[0m                         Traceback (most recent call last)",
      "Cell \u001b[0;32mIn[44], line 6\u001b[0m\n\u001b[1;32m      4\u001b[0m \u001b[38;5;28;01mfor\u001b[39;00m varphi \u001b[38;5;129;01min\u001b[39;00m varphi_list:\n\u001b[1;32m      5\u001b[0m     state \u001b[38;5;241m=\u001b[39m R01(varphi, pi\u001b[38;5;241m/\u001b[39m\u001b[38;5;241m2\u001b[39m) \u001b[38;5;241m*\u001b[39m state\n\u001b[0;32m----> 6\u001b[0m     pop0 \u001b[38;5;241m=\u001b[39m \u001b[38;5;28;43mabs\u001b[39;49m\u001b[43m(\u001b[49m\u001b[43m(\u001b[49m\u001b[43mDagger\u001b[49m\u001b[43m(\u001b[49m\u001b[43mket0\u001b[49m\u001b[43m(\u001b[49m\u001b[43m)\u001b[49m\u001b[43m)\u001b[49m\u001b[43m \u001b[49m\u001b[38;5;241;43m*\u001b[39;49m\u001b[43m \u001b[49m\u001b[43mstate\u001b[49m\u001b[43m)\u001b[49m\u001b[43m[\u001b[49m\u001b[38;5;241;43m0\u001b[39;49m\u001b[43m]\u001b[49m\u001b[43m)\u001b[49m\u001b[38;5;241m*\u001b[39m\u001b[38;5;241m*\u001b[39m\u001b[38;5;241m2\u001b[39m\n\u001b[1;32m      7\u001b[0m     pop1 \u001b[38;5;241m=\u001b[39m \u001b[38;5;28mabs\u001b[39m((Dagger(ket1()) \u001b[38;5;241m*\u001b[39m state)[\u001b[38;5;241m0\u001b[39m])\u001b[38;5;241m*\u001b[39m\u001b[38;5;241m*\u001b[39m\u001b[38;5;241m2\u001b[39m\n\u001b[1;32m      8\u001b[0m     pop2 \u001b[38;5;241m=\u001b[39m \u001b[38;5;28mabs\u001b[39m((Dagger(ket2()) \u001b[38;5;241m*\u001b[39m state)[\u001b[38;5;241m0\u001b[39m])\u001b[38;5;241m*\u001b[39m\u001b[38;5;241m*\u001b[39m\u001b[38;5;241m2\u001b[39m\n",
      "File \u001b[0;32m~/Library/Python/3.9/lib/python/site-packages/sympy/core/expr.py:193\u001b[0m, in \u001b[0;36mExpr.__abs__\u001b[0;34m(self)\u001b[0m\n\u001b[1;32m    191\u001b[0m \u001b[38;5;28;01mdef\u001b[39;00m \u001b[38;5;21m__abs__\u001b[39m(\u001b[38;5;28mself\u001b[39m) \u001b[38;5;241m-\u001b[39m\u001b[38;5;241m>\u001b[39m Expr:\n\u001b[1;32m    192\u001b[0m     \u001b[38;5;28;01mfrom\u001b[39;00m \u001b[38;5;21;01msympy\u001b[39;00m\u001b[38;5;21;01m.\u001b[39;00m\u001b[38;5;21;01mfunctions\u001b[39;00m\u001b[38;5;21;01m.\u001b[39;00m\u001b[38;5;21;01melementary\u001b[39;00m\u001b[38;5;21;01m.\u001b[39;00m\u001b[38;5;21;01mcomplexes\u001b[39;00m \u001b[38;5;28;01mimport\u001b[39;00m Abs\n\u001b[0;32m--> 193\u001b[0m     \u001b[38;5;28;01mreturn\u001b[39;00m \u001b[43mAbs\u001b[49m\u001b[43m(\u001b[49m\u001b[38;5;28;43mself\u001b[39;49m\u001b[43m)\u001b[49m\n",
      "File \u001b[0;32m~/Library/Python/3.9/lib/python/site-packages/sympy/core/cache.py:72\u001b[0m, in \u001b[0;36m__cacheit.<locals>.func_wrapper.<locals>.wrapper\u001b[0;34m(*args, **kwargs)\u001b[0m\n\u001b[1;32m     69\u001b[0m \u001b[38;5;129m@wraps\u001b[39m(func)\n\u001b[1;32m     70\u001b[0m \u001b[38;5;28;01mdef\u001b[39;00m \u001b[38;5;21mwrapper\u001b[39m(\u001b[38;5;241m*\u001b[39margs, \u001b[38;5;241m*\u001b[39m\u001b[38;5;241m*\u001b[39mkwargs):\n\u001b[1;32m     71\u001b[0m     \u001b[38;5;28;01mtry\u001b[39;00m:\n\u001b[0;32m---> 72\u001b[0m         retval \u001b[38;5;241m=\u001b[39m \u001b[43mcfunc\u001b[49m\u001b[43m(\u001b[49m\u001b[38;5;241;43m*\u001b[39;49m\u001b[43margs\u001b[49m\u001b[43m,\u001b[49m\u001b[43m \u001b[49m\u001b[38;5;241;43m*\u001b[39;49m\u001b[38;5;241;43m*\u001b[39;49m\u001b[43mkwargs\u001b[49m\u001b[43m)\u001b[49m\n\u001b[1;32m     73\u001b[0m     \u001b[38;5;28;01mexcept\u001b[39;00m \u001b[38;5;167;01mTypeError\u001b[39;00m \u001b[38;5;28;01mas\u001b[39;00m e:\n\u001b[1;32m     74\u001b[0m         \u001b[38;5;28;01mif\u001b[39;00m \u001b[38;5;129;01mnot\u001b[39;00m e\u001b[38;5;241m.\u001b[39margs \u001b[38;5;129;01mor\u001b[39;00m \u001b[38;5;129;01mnot\u001b[39;00m e\u001b[38;5;241m.\u001b[39margs[\u001b[38;5;241m0\u001b[39m]\u001b[38;5;241m.\u001b[39mstartswith(\u001b[38;5;124m'\u001b[39m\u001b[38;5;124munhashable type:\u001b[39m\u001b[38;5;124m'\u001b[39m):\n",
      "File \u001b[0;32m~/Library/Python/3.9/lib/python/site-packages/sympy/core/function.py:466\u001b[0m, in \u001b[0;36mFunction.__new__\u001b[0;34m(cls, *args, **options)\u001b[0m\n\u001b[1;32m    458\u001b[0m     \u001b[38;5;28;01mraise\u001b[39;00m \u001b[38;5;167;01mTypeError\u001b[39;00m(temp \u001b[38;5;241m%\u001b[39m {\n\u001b[1;32m    459\u001b[0m         \u001b[38;5;124m'\u001b[39m\u001b[38;5;124mname\u001b[39m\u001b[38;5;124m'\u001b[39m: \u001b[38;5;28mcls\u001b[39m,\n\u001b[1;32m    460\u001b[0m         \u001b[38;5;124m'\u001b[39m\u001b[38;5;124mqual\u001b[39m\u001b[38;5;124m'\u001b[39m: \u001b[38;5;124m'\u001b[39m\u001b[38;5;124mexactly\u001b[39m\u001b[38;5;124m'\u001b[39m \u001b[38;5;28;01mif\u001b[39;00m \u001b[38;5;28mlen\u001b[39m(\u001b[38;5;28mcls\u001b[39m\u001b[38;5;241m.\u001b[39mnargs) \u001b[38;5;241m==\u001b[39m \u001b[38;5;241m1\u001b[39m \u001b[38;5;28;01melse\u001b[39;00m \u001b[38;5;124m'\u001b[39m\u001b[38;5;124mat least\u001b[39m\u001b[38;5;124m'\u001b[39m,\n\u001b[1;32m    461\u001b[0m         \u001b[38;5;124m'\u001b[39m\u001b[38;5;124margs\u001b[39m\u001b[38;5;124m'\u001b[39m: \u001b[38;5;28mmin\u001b[39m(\u001b[38;5;28mcls\u001b[39m\u001b[38;5;241m.\u001b[39mnargs),\n\u001b[1;32m    462\u001b[0m         \u001b[38;5;124m'\u001b[39m\u001b[38;5;124mplural\u001b[39m\u001b[38;5;124m'\u001b[39m: \u001b[38;5;124m'\u001b[39m\u001b[38;5;124ms\u001b[39m\u001b[38;5;124m'\u001b[39m\u001b[38;5;241m*\u001b[39m(\u001b[38;5;28mmin\u001b[39m(\u001b[38;5;28mcls\u001b[39m\u001b[38;5;241m.\u001b[39mnargs) \u001b[38;5;241m!=\u001b[39m \u001b[38;5;241m1\u001b[39m),\n\u001b[1;32m    463\u001b[0m         \u001b[38;5;124m'\u001b[39m\u001b[38;5;124mgiven\u001b[39m\u001b[38;5;124m'\u001b[39m: n})\n\u001b[1;32m    465\u001b[0m evaluate \u001b[38;5;241m=\u001b[39m options\u001b[38;5;241m.\u001b[39mget(\u001b[38;5;124m'\u001b[39m\u001b[38;5;124mevaluate\u001b[39m\u001b[38;5;124m'\u001b[39m, global_parameters\u001b[38;5;241m.\u001b[39mevaluate)\n\u001b[0;32m--> 466\u001b[0m result \u001b[38;5;241m=\u001b[39m \u001b[38;5;28;43msuper\u001b[39;49m\u001b[43m(\u001b[49m\u001b[43m)\u001b[49m\u001b[38;5;241;43m.\u001b[39;49m\u001b[38;5;21;43m__new__\u001b[39;49m\u001b[43m(\u001b[49m\u001b[38;5;28;43mcls\u001b[39;49m\u001b[43m,\u001b[49m\u001b[43m \u001b[49m\u001b[38;5;241;43m*\u001b[39;49m\u001b[43margs\u001b[49m\u001b[43m,\u001b[49m\u001b[43m \u001b[49m\u001b[38;5;241;43m*\u001b[39;49m\u001b[38;5;241;43m*\u001b[39;49m\u001b[43moptions\u001b[49m\u001b[43m)\u001b[49m\n\u001b[1;32m    467\u001b[0m \u001b[38;5;28;01mif\u001b[39;00m evaluate \u001b[38;5;129;01mand\u001b[39;00m \u001b[38;5;28misinstance\u001b[39m(result, \u001b[38;5;28mcls\u001b[39m) \u001b[38;5;129;01mand\u001b[39;00m result\u001b[38;5;241m.\u001b[39margs:\n\u001b[1;32m    468\u001b[0m     _should_evalf \u001b[38;5;241m=\u001b[39m [\u001b[38;5;28mcls\u001b[39m\u001b[38;5;241m.\u001b[39m_should_evalf(a) \u001b[38;5;28;01mfor\u001b[39;00m a \u001b[38;5;129;01min\u001b[39;00m result\u001b[38;5;241m.\u001b[39margs]\n",
      "File \u001b[0;32m~/Library/Python/3.9/lib/python/site-packages/sympy/core/cache.py:72\u001b[0m, in \u001b[0;36m__cacheit.<locals>.func_wrapper.<locals>.wrapper\u001b[0;34m(*args, **kwargs)\u001b[0m\n\u001b[1;32m     69\u001b[0m \u001b[38;5;129m@wraps\u001b[39m(func)\n\u001b[1;32m     70\u001b[0m \u001b[38;5;28;01mdef\u001b[39;00m \u001b[38;5;21mwrapper\u001b[39m(\u001b[38;5;241m*\u001b[39margs, \u001b[38;5;241m*\u001b[39m\u001b[38;5;241m*\u001b[39mkwargs):\n\u001b[1;32m     71\u001b[0m     \u001b[38;5;28;01mtry\u001b[39;00m:\n\u001b[0;32m---> 72\u001b[0m         retval \u001b[38;5;241m=\u001b[39m \u001b[43mcfunc\u001b[49m\u001b[43m(\u001b[49m\u001b[38;5;241;43m*\u001b[39;49m\u001b[43margs\u001b[49m\u001b[43m,\u001b[49m\u001b[43m \u001b[49m\u001b[38;5;241;43m*\u001b[39;49m\u001b[38;5;241;43m*\u001b[39;49m\u001b[43mkwargs\u001b[49m\u001b[43m)\u001b[49m\n\u001b[1;32m     73\u001b[0m     \u001b[38;5;28;01mexcept\u001b[39;00m \u001b[38;5;167;01mTypeError\u001b[39;00m \u001b[38;5;28;01mas\u001b[39;00m e:\n\u001b[1;32m     74\u001b[0m         \u001b[38;5;28;01mif\u001b[39;00m \u001b[38;5;129;01mnot\u001b[39;00m e\u001b[38;5;241m.\u001b[39margs \u001b[38;5;129;01mor\u001b[39;00m \u001b[38;5;129;01mnot\u001b[39;00m e\u001b[38;5;241m.\u001b[39margs[\u001b[38;5;241m0\u001b[39m]\u001b[38;5;241m.\u001b[39mstartswith(\u001b[38;5;124m'\u001b[39m\u001b[38;5;124munhashable type:\u001b[39m\u001b[38;5;124m'\u001b[39m):\n",
      "File \u001b[0;32m~/Library/Python/3.9/lib/python/site-packages/sympy/core/function.py:307\u001b[0m, in \u001b[0;36mApplication.__new__\u001b[0;34m(cls, *args, **options)\u001b[0m\n\u001b[1;32m    304\u001b[0m     \u001b[38;5;28;01mraise\u001b[39;00m \u001b[38;5;167;01mValueError\u001b[39;00m(\u001b[38;5;124m\"\u001b[39m\u001b[38;5;124mUnknown options: \u001b[39m\u001b[38;5;132;01m%s\u001b[39;00m\u001b[38;5;124m\"\u001b[39m \u001b[38;5;241m%\u001b[39m options)\n\u001b[1;32m    306\u001b[0m \u001b[38;5;28;01mif\u001b[39;00m evaluate:\n\u001b[0;32m--> 307\u001b[0m     evaluated \u001b[38;5;241m=\u001b[39m \u001b[38;5;28;43mcls\u001b[39;49m\u001b[38;5;241;43m.\u001b[39;49m\u001b[43meval\u001b[49m\u001b[43m(\u001b[49m\u001b[38;5;241;43m*\u001b[39;49m\u001b[43margs\u001b[49m\u001b[43m)\u001b[49m\n\u001b[1;32m    308\u001b[0m     \u001b[38;5;28;01mif\u001b[39;00m evaluated \u001b[38;5;129;01mis\u001b[39;00m \u001b[38;5;129;01mnot\u001b[39;00m \u001b[38;5;28;01mNone\u001b[39;00m:\n\u001b[1;32m    309\u001b[0m         \u001b[38;5;28;01mreturn\u001b[39;00m evaluated\n",
      "File \u001b[0;32m~/Library/Python/3.9/lib/python/site-packages/sympy/functions/elementary/complexes.py:534\u001b[0m, in \u001b[0;36mAbs.eval\u001b[0;34m(cls, arg)\u001b[0m\n\u001b[1;32m    531\u001b[0m     \u001b[38;5;28;01mraise\u001b[39;00m \u001b[38;5;167;01mTypeError\u001b[39;00m(\u001b[38;5;124m\"\u001b[39m\u001b[38;5;124mBad argument type for Abs(): \u001b[39m\u001b[38;5;132;01m%s\u001b[39;00m\u001b[38;5;124m\"\u001b[39m \u001b[38;5;241m%\u001b[39m \u001b[38;5;28mtype\u001b[39m(arg))\n\u001b[1;32m    533\u001b[0m \u001b[38;5;66;03m# handle what we can\u001b[39;00m\n\u001b[0;32m--> 534\u001b[0m arg \u001b[38;5;241m=\u001b[39m \u001b[43msignsimp\u001b[49m\u001b[43m(\u001b[49m\u001b[43marg\u001b[49m\u001b[43m,\u001b[49m\u001b[43m \u001b[49m\u001b[43mevaluate\u001b[49m\u001b[38;5;241;43m=\u001b[39;49m\u001b[38;5;28;43;01mFalse\u001b[39;49;00m\u001b[43m)\u001b[49m\n\u001b[1;32m    535\u001b[0m n, d \u001b[38;5;241m=\u001b[39m arg\u001b[38;5;241m.\u001b[39mas_numer_denom()\n\u001b[1;32m    536\u001b[0m \u001b[38;5;28;01mif\u001b[39;00m d\u001b[38;5;241m.\u001b[39mfree_symbols \u001b[38;5;129;01mand\u001b[39;00m \u001b[38;5;129;01mnot\u001b[39;00m n\u001b[38;5;241m.\u001b[39mfree_symbols:\n",
      "File \u001b[0;32m~/Library/Python/3.9/lib/python/site-packages/sympy/simplify/simplify.py:406\u001b[0m, in \u001b[0;36msignsimp\u001b[0;34m(expr, evaluate)\u001b[0m\n\u001b[1;32m    404\u001b[0m \u001b[38;5;66;03m# get rid of an pre-existing unevaluation regarding sign\u001b[39;00m\n\u001b[1;32m    405\u001b[0m e \u001b[38;5;241m=\u001b[39m expr\u001b[38;5;241m.\u001b[39mreplace(\u001b[38;5;28;01mlambda\u001b[39;00m x: x\u001b[38;5;241m.\u001b[39mis_Mul \u001b[38;5;129;01mand\u001b[39;00m \u001b[38;5;241m-\u001b[39m(\u001b[38;5;241m-\u001b[39mx) \u001b[38;5;241m!=\u001b[39m x, \u001b[38;5;28;01mlambda\u001b[39;00m x: \u001b[38;5;241m-\u001b[39m(\u001b[38;5;241m-\u001b[39mx))\n\u001b[0;32m--> 406\u001b[0m e \u001b[38;5;241m=\u001b[39m sub_post(\u001b[43msub_pre\u001b[49m\u001b[43m(\u001b[49m\u001b[43me\u001b[49m\u001b[43m)\u001b[49m)\n\u001b[1;32m    407\u001b[0m \u001b[38;5;28;01mif\u001b[39;00m \u001b[38;5;129;01mnot\u001b[39;00m \u001b[38;5;28misinstance\u001b[39m(e, (Expr, Relational)) \u001b[38;5;129;01mor\u001b[39;00m e\u001b[38;5;241m.\u001b[39mis_Atom:\n\u001b[1;32m    408\u001b[0m     \u001b[38;5;28;01mreturn\u001b[39;00m e\n",
      "File \u001b[0;32m~/Library/Python/3.9/lib/python/site-packages/sympy/simplify/cse_opts.py:14\u001b[0m, in \u001b[0;36msub_pre\u001b[0;34m(e)\u001b[0m\n\u001b[1;32m     11\u001b[0m \u001b[38;5;250m\u001b[39m\u001b[38;5;124;03m\"\"\" Replace y - x with -(x - y) if -1 can be extracted from y - x.\u001b[39;00m\n\u001b[1;32m     12\u001b[0m \u001b[38;5;124;03m\"\"\"\u001b[39;00m\n\u001b[1;32m     13\u001b[0m \u001b[38;5;66;03m# replacing Add, A, from which -1 can be extracted with -1*-A\u001b[39;00m\n\u001b[0;32m---> 14\u001b[0m adds \u001b[38;5;241m=\u001b[39m [a \u001b[38;5;28;01mfor\u001b[39;00m a \u001b[38;5;129;01min\u001b[39;00m e\u001b[38;5;241m.\u001b[39matoms(Add) \u001b[38;5;28;01mif\u001b[39;00m a\u001b[38;5;241m.\u001b[39mcould_extract_minus_sign()]\n\u001b[1;32m     15\u001b[0m reps \u001b[38;5;241m=\u001b[39m {}\n\u001b[1;32m     16\u001b[0m ignore \u001b[38;5;241m=\u001b[39m \u001b[38;5;28mset\u001b[39m()\n",
      "File \u001b[0;32m~/Library/Python/3.9/lib/python/site-packages/sympy/simplify/cse_opts.py:14\u001b[0m, in \u001b[0;36m<listcomp>\u001b[0;34m(.0)\u001b[0m\n\u001b[1;32m     11\u001b[0m \u001b[38;5;250m\u001b[39m\u001b[38;5;124;03m\"\"\" Replace y - x with -(x - y) if -1 can be extracted from y - x.\u001b[39;00m\n\u001b[1;32m     12\u001b[0m \u001b[38;5;124;03m\"\"\"\u001b[39;00m\n\u001b[1;32m     13\u001b[0m \u001b[38;5;66;03m# replacing Add, A, from which -1 can be extracted with -1*-A\u001b[39;00m\n\u001b[0;32m---> 14\u001b[0m adds \u001b[38;5;241m=\u001b[39m [a \u001b[38;5;28;01mfor\u001b[39;00m a \u001b[38;5;129;01min\u001b[39;00m e\u001b[38;5;241m.\u001b[39matoms(Add) \u001b[38;5;28;01mif\u001b[39;00m \u001b[43ma\u001b[49m\u001b[38;5;241;43m.\u001b[39;49m\u001b[43mcould_extract_minus_sign\u001b[49m\u001b[43m(\u001b[49m\u001b[43m)\u001b[49m]\n\u001b[1;32m     15\u001b[0m reps \u001b[38;5;241m=\u001b[39m {}\n\u001b[1;32m     16\u001b[0m ignore \u001b[38;5;241m=\u001b[39m \u001b[38;5;28mset\u001b[39m()\n",
      "File \u001b[0;32m~/Library/Python/3.9/lib/python/site-packages/sympy/core/add.py:415\u001b[0m, in \u001b[0;36mAdd.could_extract_minus_sign\u001b[0;34m(self)\u001b[0m\n\u001b[1;32m    414\u001b[0m \u001b[38;5;28;01mdef\u001b[39;00m \u001b[38;5;21mcould_extract_minus_sign\u001b[39m(\u001b[38;5;28mself\u001b[39m):\n\u001b[0;32m--> 415\u001b[0m     \u001b[38;5;28;01mreturn\u001b[39;00m \u001b[43m_could_extract_minus_sign\u001b[49m\u001b[43m(\u001b[49m\u001b[38;5;28;43mself\u001b[39;49m\u001b[43m)\u001b[49m\n",
      "File \u001b[0;32m~/Library/Python/3.9/lib/python/site-packages/sympy/core/add.py:33\u001b[0m, in \u001b[0;36m_could_extract_minus_sign\u001b[0;34m(expr)\u001b[0m\n\u001b[1;32m     29\u001b[0m     \u001b[38;5;28;01mreturn\u001b[39;00m \u001b[38;5;28;01mTrue\u001b[39;00m\n\u001b[1;32m     30\u001b[0m \u001b[38;5;66;03m# choose based on .sort_key() to prefer\u001b[39;00m\n\u001b[1;32m     31\u001b[0m \u001b[38;5;66;03m# x - 1 instead of 1 - x and\u001b[39;00m\n\u001b[1;32m     32\u001b[0m \u001b[38;5;66;03m# 3 - sqrt(2) instead of -3 + sqrt(2)\u001b[39;00m\n\u001b[0;32m---> 33\u001b[0m \u001b[38;5;28;01mreturn\u001b[39;00m \u001b[38;5;28mbool\u001b[39m(\u001b[43mexpr\u001b[49m\u001b[38;5;241;43m.\u001b[39;49m\u001b[43msort_key\u001b[49m\u001b[43m(\u001b[49m\u001b[43m)\u001b[49m \u001b[38;5;241m<\u001b[39m (\u001b[38;5;241m-\u001b[39mexpr)\u001b[38;5;241m.\u001b[39msort_key())\n",
      "File \u001b[0;32m~/Library/Python/3.9/lib/python/site-packages/sympy/core/cache.py:72\u001b[0m, in \u001b[0;36m__cacheit.<locals>.func_wrapper.<locals>.wrapper\u001b[0;34m(*args, **kwargs)\u001b[0m\n\u001b[1;32m     69\u001b[0m \u001b[38;5;129m@wraps\u001b[39m(func)\n\u001b[1;32m     70\u001b[0m \u001b[38;5;28;01mdef\u001b[39;00m \u001b[38;5;21mwrapper\u001b[39m(\u001b[38;5;241m*\u001b[39margs, \u001b[38;5;241m*\u001b[39m\u001b[38;5;241m*\u001b[39mkwargs):\n\u001b[1;32m     71\u001b[0m     \u001b[38;5;28;01mtry\u001b[39;00m:\n\u001b[0;32m---> 72\u001b[0m         retval \u001b[38;5;241m=\u001b[39m \u001b[43mcfunc\u001b[49m\u001b[43m(\u001b[49m\u001b[38;5;241;43m*\u001b[39;49m\u001b[43margs\u001b[49m\u001b[43m,\u001b[49m\u001b[43m \u001b[49m\u001b[38;5;241;43m*\u001b[39;49m\u001b[38;5;241;43m*\u001b[39;49m\u001b[43mkwargs\u001b[49m\u001b[43m)\u001b[49m\n\u001b[1;32m     73\u001b[0m     \u001b[38;5;28;01mexcept\u001b[39;00m \u001b[38;5;167;01mTypeError\u001b[39;00m \u001b[38;5;28;01mas\u001b[39;00m e:\n\u001b[1;32m     74\u001b[0m         \u001b[38;5;28;01mif\u001b[39;00m \u001b[38;5;129;01mnot\u001b[39;00m e\u001b[38;5;241m.\u001b[39margs \u001b[38;5;129;01mor\u001b[39;00m \u001b[38;5;129;01mnot\u001b[39;00m e\u001b[38;5;241m.\u001b[39margs[\u001b[38;5;241m0\u001b[39m]\u001b[38;5;241m.\u001b[39mstartswith(\u001b[38;5;124m'\u001b[39m\u001b[38;5;124munhashable type:\u001b[39m\u001b[38;5;124m'\u001b[39m):\n",
      "File \u001b[0;32m~/Library/Python/3.9/lib/python/site-packages/sympy/core/expr.py:142\u001b[0m, in \u001b[0;36mExpr.sort_key\u001b[0;34m(self, order)\u001b[0m\n\u001b[1;32m    138\u001b[0m     \u001b[38;5;28;01melse\u001b[39;00m:\n\u001b[1;32m    139\u001b[0m         args \u001b[38;5;241m=\u001b[39m expr\u001b[38;5;241m.\u001b[39margs\n\u001b[1;32m    141\u001b[0m     args \u001b[38;5;241m=\u001b[39m \u001b[38;5;28mtuple\u001b[39m(\n\u001b[0;32m--> 142\u001b[0m         [ default_sort_key(arg, order\u001b[38;5;241m=\u001b[39morder) \u001b[38;5;28;01mfor\u001b[39;00m arg \u001b[38;5;129;01min\u001b[39;00m args ])\n\u001b[1;32m    144\u001b[0m args \u001b[38;5;241m=\u001b[39m (\u001b[38;5;28mlen\u001b[39m(args), \u001b[38;5;28mtuple\u001b[39m(args))\n\u001b[1;32m    145\u001b[0m exp \u001b[38;5;241m=\u001b[39m exp\u001b[38;5;241m.\u001b[39msort_key(order\u001b[38;5;241m=\u001b[39morder)\n",
      "File \u001b[0;32m~/Library/Python/3.9/lib/python/site-packages/sympy/core/expr.py:142\u001b[0m, in \u001b[0;36m<listcomp>\u001b[0;34m(.0)\u001b[0m\n\u001b[1;32m    138\u001b[0m     \u001b[38;5;28;01melse\u001b[39;00m:\n\u001b[1;32m    139\u001b[0m         args \u001b[38;5;241m=\u001b[39m expr\u001b[38;5;241m.\u001b[39margs\n\u001b[1;32m    141\u001b[0m     args \u001b[38;5;241m=\u001b[39m \u001b[38;5;28mtuple\u001b[39m(\n\u001b[0;32m--> 142\u001b[0m         [ \u001b[43mdefault_sort_key\u001b[49m\u001b[43m(\u001b[49m\u001b[43marg\u001b[49m\u001b[43m,\u001b[49m\u001b[43m \u001b[49m\u001b[43morder\u001b[49m\u001b[38;5;241;43m=\u001b[39;49m\u001b[43morder\u001b[49m\u001b[43m)\u001b[49m \u001b[38;5;28;01mfor\u001b[39;00m arg \u001b[38;5;129;01min\u001b[39;00m args ])\n\u001b[1;32m    144\u001b[0m args \u001b[38;5;241m=\u001b[39m (\u001b[38;5;28mlen\u001b[39m(args), \u001b[38;5;28mtuple\u001b[39m(args))\n\u001b[1;32m    145\u001b[0m exp \u001b[38;5;241m=\u001b[39m exp\u001b[38;5;241m.\u001b[39msort_key(order\u001b[38;5;241m=\u001b[39morder)\n",
      "File \u001b[0;32m~/Library/Python/3.9/lib/python/site-packages/sympy/core/sorting.py:127\u001b[0m, in \u001b[0;36mdefault_sort_key\u001b[0;34m(item, order)\u001b[0m\n\u001b[1;32m    124\u001b[0m \u001b[38;5;28;01mfrom\u001b[39;00m \u001b[38;5;21;01m.\u001b[39;00m\u001b[38;5;21;01msingleton\u001b[39;00m \u001b[38;5;28;01mimport\u001b[39;00m S\n\u001b[1;32m    126\u001b[0m \u001b[38;5;28;01mif\u001b[39;00m \u001b[38;5;28misinstance\u001b[39m(item, Basic):\n\u001b[0;32m--> 127\u001b[0m     \u001b[38;5;28;01mreturn\u001b[39;00m \u001b[43mitem\u001b[49m\u001b[38;5;241;43m.\u001b[39;49m\u001b[43msort_key\u001b[49m\u001b[43m(\u001b[49m\u001b[43morder\u001b[49m\u001b[38;5;241;43m=\u001b[39;49m\u001b[43morder\u001b[49m\u001b[43m)\u001b[49m\n\u001b[1;32m    129\u001b[0m \u001b[38;5;28;01mif\u001b[39;00m iterable(item, exclude\u001b[38;5;241m=\u001b[39m\u001b[38;5;28mstr\u001b[39m):\n\u001b[1;32m    130\u001b[0m     \u001b[38;5;28;01mif\u001b[39;00m \u001b[38;5;28misinstance\u001b[39m(item, \u001b[38;5;28mdict\u001b[39m):\n",
      "File \u001b[0;32m~/Library/Python/3.9/lib/python/site-packages/sympy/core/cache.py:72\u001b[0m, in \u001b[0;36m__cacheit.<locals>.func_wrapper.<locals>.wrapper\u001b[0;34m(*args, **kwargs)\u001b[0m\n\u001b[1;32m     69\u001b[0m \u001b[38;5;129m@wraps\u001b[39m(func)\n\u001b[1;32m     70\u001b[0m \u001b[38;5;28;01mdef\u001b[39;00m \u001b[38;5;21mwrapper\u001b[39m(\u001b[38;5;241m*\u001b[39margs, \u001b[38;5;241m*\u001b[39m\u001b[38;5;241m*\u001b[39mkwargs):\n\u001b[1;32m     71\u001b[0m     \u001b[38;5;28;01mtry\u001b[39;00m:\n\u001b[0;32m---> 72\u001b[0m         retval \u001b[38;5;241m=\u001b[39m \u001b[43mcfunc\u001b[49m\u001b[43m(\u001b[49m\u001b[38;5;241;43m*\u001b[39;49m\u001b[43margs\u001b[49m\u001b[43m,\u001b[49m\u001b[43m \u001b[49m\u001b[38;5;241;43m*\u001b[39;49m\u001b[38;5;241;43m*\u001b[39;49m\u001b[43mkwargs\u001b[49m\u001b[43m)\u001b[49m\n\u001b[1;32m     73\u001b[0m     \u001b[38;5;28;01mexcept\u001b[39;00m \u001b[38;5;167;01mTypeError\u001b[39;00m \u001b[38;5;28;01mas\u001b[39;00m e:\n\u001b[1;32m     74\u001b[0m         \u001b[38;5;28;01mif\u001b[39;00m \u001b[38;5;129;01mnot\u001b[39;00m e\u001b[38;5;241m.\u001b[39margs \u001b[38;5;129;01mor\u001b[39;00m \u001b[38;5;129;01mnot\u001b[39;00m e\u001b[38;5;241m.\u001b[39margs[\u001b[38;5;241m0\u001b[39m]\u001b[38;5;241m.\u001b[39mstartswith(\u001b[38;5;124m'\u001b[39m\u001b[38;5;124munhashable type:\u001b[39m\u001b[38;5;124m'\u001b[39m):\n",
      "File \u001b[0;32m~/Library/Python/3.9/lib/python/site-packages/sympy/core/expr.py:137\u001b[0m, in \u001b[0;36mExpr.sort_key\u001b[0;34m(self, order)\u001b[0m\n\u001b[1;32m    135\u001b[0m     args \u001b[38;5;241m=\u001b[39m expr\u001b[38;5;241m.\u001b[39mas_ordered_terms(order\u001b[38;5;241m=\u001b[39morder)\n\u001b[1;32m    136\u001b[0m \u001b[38;5;28;01melif\u001b[39;00m expr\u001b[38;5;241m.\u001b[39mis_Mul:\n\u001b[0;32m--> 137\u001b[0m     args \u001b[38;5;241m=\u001b[39m \u001b[43mexpr\u001b[49m\u001b[38;5;241;43m.\u001b[39;49m\u001b[43mas_ordered_factors\u001b[49m\u001b[43m(\u001b[49m\u001b[43morder\u001b[49m\u001b[38;5;241;43m=\u001b[39;49m\u001b[43morder\u001b[49m\u001b[43m)\u001b[49m\n\u001b[1;32m    138\u001b[0m \u001b[38;5;28;01melse\u001b[39;00m:\n\u001b[1;32m    139\u001b[0m     args \u001b[38;5;241m=\u001b[39m expr\u001b[38;5;241m.\u001b[39margs\n",
      "File \u001b[0;32m~/Library/Python/3.9/lib/python/site-packages/sympy/core/mul.py:2086\u001b[0m, in \u001b[0;36mMul.as_ordered_factors\u001b[0;34m(self, order)\u001b[0m\n\u001b[1;32m   2073\u001b[0m \u001b[38;5;250m\u001b[39m\u001b[38;5;124;03m\"\"\"Transform an expression into an ordered list of factors.\u001b[39;00m\n\u001b[1;32m   2074\u001b[0m \n\u001b[1;32m   2075\u001b[0m \u001b[38;5;124;03mExamples\u001b[39;00m\n\u001b[0;32m   (...)\u001b[0m\n\u001b[1;32m   2083\u001b[0m \n\u001b[1;32m   2084\u001b[0m \u001b[38;5;124;03m\"\"\"\u001b[39;00m\n\u001b[1;32m   2085\u001b[0m cpart, ncpart \u001b[38;5;241m=\u001b[39m \u001b[38;5;28mself\u001b[39m\u001b[38;5;241m.\u001b[39margs_cnc()\n\u001b[0;32m-> 2086\u001b[0m \u001b[43mcpart\u001b[49m\u001b[38;5;241;43m.\u001b[39;49m\u001b[43msort\u001b[49m\u001b[43m(\u001b[49m\u001b[43mkey\u001b[49m\u001b[38;5;241;43m=\u001b[39;49m\u001b[38;5;28;43;01mlambda\u001b[39;49;00m\u001b[43m \u001b[49m\u001b[43mexpr\u001b[49m\u001b[43m:\u001b[49m\u001b[43m \u001b[49m\u001b[43mexpr\u001b[49m\u001b[38;5;241;43m.\u001b[39;49m\u001b[43msort_key\u001b[49m\u001b[43m(\u001b[49m\u001b[43morder\u001b[49m\u001b[38;5;241;43m=\u001b[39;49m\u001b[43morder\u001b[49m\u001b[43m)\u001b[49m\u001b[43m)\u001b[49m\n\u001b[1;32m   2087\u001b[0m \u001b[38;5;28;01mreturn\u001b[39;00m cpart \u001b[38;5;241m+\u001b[39m ncpart\n",
      "File \u001b[0;32m~/Library/Python/3.9/lib/python/site-packages/sympy/core/mul.py:2086\u001b[0m, in \u001b[0;36mMul.as_ordered_factors.<locals>.<lambda>\u001b[0;34m(expr)\u001b[0m\n\u001b[1;32m   2073\u001b[0m \u001b[38;5;250m\u001b[39m\u001b[38;5;124;03m\"\"\"Transform an expression into an ordered list of factors.\u001b[39;00m\n\u001b[1;32m   2074\u001b[0m \n\u001b[1;32m   2075\u001b[0m \u001b[38;5;124;03mExamples\u001b[39;00m\n\u001b[0;32m   (...)\u001b[0m\n\u001b[1;32m   2083\u001b[0m \n\u001b[1;32m   2084\u001b[0m \u001b[38;5;124;03m\"\"\"\u001b[39;00m\n\u001b[1;32m   2085\u001b[0m cpart, ncpart \u001b[38;5;241m=\u001b[39m \u001b[38;5;28mself\u001b[39m\u001b[38;5;241m.\u001b[39margs_cnc()\n\u001b[0;32m-> 2086\u001b[0m cpart\u001b[38;5;241m.\u001b[39msort(key\u001b[38;5;241m=\u001b[39m\u001b[38;5;28;01mlambda\u001b[39;00m expr: \u001b[43mexpr\u001b[49m\u001b[38;5;241;43m.\u001b[39;49m\u001b[43msort_key\u001b[49m\u001b[43m(\u001b[49m\u001b[43morder\u001b[49m\u001b[38;5;241;43m=\u001b[39;49m\u001b[43morder\u001b[49m\u001b[43m)\u001b[49m)\n\u001b[1;32m   2087\u001b[0m \u001b[38;5;28;01mreturn\u001b[39;00m cpart \u001b[38;5;241m+\u001b[39m ncpart\n",
      "File \u001b[0;32m~/Library/Python/3.9/lib/python/site-packages/sympy/core/cache.py:72\u001b[0m, in \u001b[0;36m__cacheit.<locals>.func_wrapper.<locals>.wrapper\u001b[0;34m(*args, **kwargs)\u001b[0m\n\u001b[1;32m     69\u001b[0m \u001b[38;5;129m@wraps\u001b[39m(func)\n\u001b[1;32m     70\u001b[0m \u001b[38;5;28;01mdef\u001b[39;00m \u001b[38;5;21mwrapper\u001b[39m(\u001b[38;5;241m*\u001b[39margs, \u001b[38;5;241m*\u001b[39m\u001b[38;5;241m*\u001b[39mkwargs):\n\u001b[1;32m     71\u001b[0m     \u001b[38;5;28;01mtry\u001b[39;00m:\n\u001b[0;32m---> 72\u001b[0m         retval \u001b[38;5;241m=\u001b[39m \u001b[43mcfunc\u001b[49m\u001b[43m(\u001b[49m\u001b[38;5;241;43m*\u001b[39;49m\u001b[43margs\u001b[49m\u001b[43m,\u001b[49m\u001b[43m \u001b[49m\u001b[38;5;241;43m*\u001b[39;49m\u001b[38;5;241;43m*\u001b[39;49m\u001b[43mkwargs\u001b[49m\u001b[43m)\u001b[49m\n\u001b[1;32m     73\u001b[0m     \u001b[38;5;28;01mexcept\u001b[39;00m \u001b[38;5;167;01mTypeError\u001b[39;00m \u001b[38;5;28;01mas\u001b[39;00m e:\n\u001b[1;32m     74\u001b[0m         \u001b[38;5;28;01mif\u001b[39;00m \u001b[38;5;129;01mnot\u001b[39;00m e\u001b[38;5;241m.\u001b[39margs \u001b[38;5;129;01mor\u001b[39;00m \u001b[38;5;129;01mnot\u001b[39;00m e\u001b[38;5;241m.\u001b[39margs[\u001b[38;5;241m0\u001b[39m]\u001b[38;5;241m.\u001b[39mstartswith(\u001b[38;5;124m'\u001b[39m\u001b[38;5;124munhashable type:\u001b[39m\u001b[38;5;124m'\u001b[39m):\n",
      "File \u001b[0;32m~/Library/Python/3.9/lib/python/site-packages/sympy/core/expr.py:135\u001b[0m, in \u001b[0;36mExpr.sort_key\u001b[0;34m(self, order)\u001b[0m\n\u001b[1;32m    133\u001b[0m \u001b[38;5;28;01melse\u001b[39;00m:\n\u001b[1;32m    134\u001b[0m     \u001b[38;5;28;01mif\u001b[39;00m expr\u001b[38;5;241m.\u001b[39mis_Add:\n\u001b[0;32m--> 135\u001b[0m         args \u001b[38;5;241m=\u001b[39m \u001b[43mexpr\u001b[49m\u001b[38;5;241;43m.\u001b[39;49m\u001b[43mas_ordered_terms\u001b[49m\u001b[43m(\u001b[49m\u001b[43morder\u001b[49m\u001b[38;5;241;43m=\u001b[39;49m\u001b[43morder\u001b[49m\u001b[43m)\u001b[49m\n\u001b[1;32m    136\u001b[0m     \u001b[38;5;28;01melif\u001b[39;00m expr\u001b[38;5;241m.\u001b[39mis_Mul:\n\u001b[1;32m    137\u001b[0m         args \u001b[38;5;241m=\u001b[39m expr\u001b[38;5;241m.\u001b[39mas_ordered_factors(order\u001b[38;5;241m=\u001b[39morder)\n",
      "File \u001b[0;32m~/Library/Python/3.9/lib/python/site-packages/sympy/core/expr.py:1146\u001b[0m, in \u001b[0;36mExpr.as_ordered_terms\u001b[0;34m(self, order, data)\u001b[0m\n\u001b[1;32m   1143\u001b[0m             \u001b[38;5;28;01mreturn\u001b[39;00m add_args\n\u001b[1;32m   1145\u001b[0m key, reverse \u001b[38;5;241m=\u001b[39m \u001b[38;5;28mself\u001b[39m\u001b[38;5;241m.\u001b[39m_parse_order(order)\n\u001b[0;32m-> 1146\u001b[0m terms, gens \u001b[38;5;241m=\u001b[39m \u001b[38;5;28;43mself\u001b[39;49m\u001b[38;5;241;43m.\u001b[39;49m\u001b[43mas_terms\u001b[49m\u001b[43m(\u001b[49m\u001b[43m)\u001b[49m\n\u001b[1;32m   1148\u001b[0m \u001b[38;5;28;01mif\u001b[39;00m \u001b[38;5;129;01mnot\u001b[39;00m \u001b[38;5;28many\u001b[39m(term\u001b[38;5;241m.\u001b[39mis_Order \u001b[38;5;28;01mfor\u001b[39;00m term, _ \u001b[38;5;129;01min\u001b[39;00m terms):\n\u001b[1;32m   1149\u001b[0m     ordered \u001b[38;5;241m=\u001b[39m \u001b[38;5;28msorted\u001b[39m(terms, key\u001b[38;5;241m=\u001b[39mkey, reverse\u001b[38;5;241m=\u001b[39mreverse)\n",
      "File \u001b[0;32m~/Library/Python/3.9/lib/python/site-packages/sympy/core/expr.py:1183\u001b[0m, in \u001b[0;36mExpr.as_terms\u001b[0;34m(self)\u001b[0m\n\u001b[1;32m   1181\u001b[0m \u001b[38;5;28;01mif\u001b[39;00m factor\u001b[38;5;241m.\u001b[39mis_number:\n\u001b[1;32m   1182\u001b[0m     \u001b[38;5;28;01mtry\u001b[39;00m:\n\u001b[0;32m-> 1183\u001b[0m         coeff \u001b[38;5;241m*\u001b[39m\u001b[38;5;241m=\u001b[39m \u001b[38;5;28;43mcomplex\u001b[39;49m\u001b[43m(\u001b[49m\u001b[43mfactor\u001b[49m\u001b[43m)\u001b[49m\n\u001b[1;32m   1184\u001b[0m     \u001b[38;5;28;01mexcept\u001b[39;00m (\u001b[38;5;167;01mTypeError\u001b[39;00m, \u001b[38;5;167;01mValueError\u001b[39;00m):\n\u001b[1;32m   1185\u001b[0m         \u001b[38;5;28;01mpass\u001b[39;00m\n",
      "File \u001b[0;32m~/Library/Python/3.9/lib/python/site-packages/sympy/core/expr.py:354\u001b[0m, in \u001b[0;36mExpr.__complex__\u001b[0;34m(self)\u001b[0m\n\u001b[1;32m    353\u001b[0m \u001b[38;5;28;01mdef\u001b[39;00m \u001b[38;5;21m__complex__\u001b[39m(\u001b[38;5;28mself\u001b[39m):\n\u001b[0;32m--> 354\u001b[0m     result \u001b[38;5;241m=\u001b[39m \u001b[38;5;28;43mself\u001b[39;49m\u001b[38;5;241;43m.\u001b[39;49m\u001b[43mevalf\u001b[49m\u001b[43m(\u001b[49m\u001b[43m)\u001b[49m\n\u001b[1;32m    355\u001b[0m     re, im \u001b[38;5;241m=\u001b[39m result\u001b[38;5;241m.\u001b[39mas_real_imag()\n\u001b[1;32m    356\u001b[0m     \u001b[38;5;28;01mreturn\u001b[39;00m \u001b[38;5;28mcomplex\u001b[39m(\u001b[38;5;28mfloat\u001b[39m(re), \u001b[38;5;28mfloat\u001b[39m(im))\n",
      "File \u001b[0;32m~/Library/Python/3.9/lib/python/site-packages/sympy/core/evalf.py:1647\u001b[0m, in \u001b[0;36mEvalfMixin.evalf\u001b[0;34m(self, n, subs, maxn, chop, strict, quad, verbose)\u001b[0m\n\u001b[1;32m   1645\u001b[0m     options[\u001b[38;5;124m'\u001b[39m\u001b[38;5;124mquad\u001b[39m\u001b[38;5;124m'\u001b[39m] \u001b[38;5;241m=\u001b[39m quad\n\u001b[1;32m   1646\u001b[0m \u001b[38;5;28;01mtry\u001b[39;00m:\n\u001b[0;32m-> 1647\u001b[0m     result \u001b[38;5;241m=\u001b[39m \u001b[43mevalf\u001b[49m\u001b[43m(\u001b[49m\u001b[38;5;28;43mself\u001b[39;49m\u001b[43m,\u001b[49m\u001b[43m \u001b[49m\u001b[43mprec\u001b[49m\u001b[43m \u001b[49m\u001b[38;5;241;43m+\u001b[39;49m\u001b[43m \u001b[49m\u001b[38;5;241;43m4\u001b[39;49m\u001b[43m,\u001b[49m\u001b[43m \u001b[49m\u001b[43moptions\u001b[49m\u001b[43m)\u001b[49m\n\u001b[1;32m   1648\u001b[0m \u001b[38;5;28;01mexcept\u001b[39;00m \u001b[38;5;167;01mNotImplementedError\u001b[39;00m:\n\u001b[1;32m   1649\u001b[0m     \u001b[38;5;66;03m# Fall back to the ordinary evalf\u001b[39;00m\n\u001b[1;32m   1650\u001b[0m     \u001b[38;5;28;01mif\u001b[39;00m \u001b[38;5;28mhasattr\u001b[39m(\u001b[38;5;28mself\u001b[39m, \u001b[38;5;124m'\u001b[39m\u001b[38;5;124msubs\u001b[39m\u001b[38;5;124m'\u001b[39m) \u001b[38;5;129;01mand\u001b[39;00m subs \u001b[38;5;129;01mis\u001b[39;00m \u001b[38;5;129;01mnot\u001b[39;00m \u001b[38;5;28;01mNone\u001b[39;00m:  \u001b[38;5;66;03m# issue 20291\u001b[39;00m\n",
      "File \u001b[0;32m~/Library/Python/3.9/lib/python/site-packages/sympy/core/evalf.py:1482\u001b[0m, in \u001b[0;36mevalf\u001b[0;34m(x, prec, options)\u001b[0m\n\u001b[1;32m   1480\u001b[0m \u001b[38;5;28;01mtry\u001b[39;00m:\n\u001b[1;32m   1481\u001b[0m     rf \u001b[38;5;241m=\u001b[39m evalf_table[\u001b[38;5;28mtype\u001b[39m(x)]\n\u001b[0;32m-> 1482\u001b[0m     r \u001b[38;5;241m=\u001b[39m \u001b[43mrf\u001b[49m\u001b[43m(\u001b[49m\u001b[43mx\u001b[49m\u001b[43m,\u001b[49m\u001b[43m \u001b[49m\u001b[43mprec\u001b[49m\u001b[43m,\u001b[49m\u001b[43m \u001b[49m\u001b[43moptions\u001b[49m\u001b[43m)\u001b[49m\n\u001b[1;32m   1483\u001b[0m \u001b[38;5;28;01mexcept\u001b[39;00m \u001b[38;5;167;01mKeyError\u001b[39;00m:\n\u001b[1;32m   1484\u001b[0m     \u001b[38;5;66;03m# Fall back to ordinary evalf if possible\u001b[39;00m\n\u001b[1;32m   1485\u001b[0m     \u001b[38;5;28;01mif\u001b[39;00m \u001b[38;5;124m'\u001b[39m\u001b[38;5;124msubs\u001b[39m\u001b[38;5;124m'\u001b[39m \u001b[38;5;129;01min\u001b[39;00m options:\n",
      "File \u001b[0;32m~/Library/Python/3.9/lib/python/site-packages/sympy/core/evalf.py:600\u001b[0m, in \u001b[0;36mevalf_add\u001b[0;34m(v, prec, options)\u001b[0m\n\u001b[1;32m    597\u001b[0m \u001b[38;5;28;01mwhile\u001b[39;00m \u001b[38;5;241m1\u001b[39m:\n\u001b[1;32m    598\u001b[0m     options[\u001b[38;5;124m'\u001b[39m\u001b[38;5;124mmaxprec\u001b[39m\u001b[38;5;124m'\u001b[39m] \u001b[38;5;241m=\u001b[39m \u001b[38;5;28mmin\u001b[39m(oldmaxprec, \u001b[38;5;241m2\u001b[39m\u001b[38;5;241m*\u001b[39mprec)\n\u001b[0;32m--> 600\u001b[0m     terms \u001b[38;5;241m=\u001b[39m [evalf(arg, prec \u001b[38;5;241m+\u001b[39m \u001b[38;5;241m10\u001b[39m, options) \u001b[38;5;28;01mfor\u001b[39;00m arg \u001b[38;5;129;01min\u001b[39;00m v\u001b[38;5;241m.\u001b[39margs]\n\u001b[1;32m    601\u001b[0m     n \u001b[38;5;241m=\u001b[39m terms\u001b[38;5;241m.\u001b[39mcount(S\u001b[38;5;241m.\u001b[39mComplexInfinity)\n\u001b[1;32m    602\u001b[0m     \u001b[38;5;28;01mif\u001b[39;00m n \u001b[38;5;241m>\u001b[39m\u001b[38;5;241m=\u001b[39m \u001b[38;5;241m2\u001b[39m:\n",
      "File \u001b[0;32m~/Library/Python/3.9/lib/python/site-packages/sympy/core/evalf.py:600\u001b[0m, in \u001b[0;36m<listcomp>\u001b[0;34m(.0)\u001b[0m\n\u001b[1;32m    597\u001b[0m \u001b[38;5;28;01mwhile\u001b[39;00m \u001b[38;5;241m1\u001b[39m:\n\u001b[1;32m    598\u001b[0m     options[\u001b[38;5;124m'\u001b[39m\u001b[38;5;124mmaxprec\u001b[39m\u001b[38;5;124m'\u001b[39m] \u001b[38;5;241m=\u001b[39m \u001b[38;5;28mmin\u001b[39m(oldmaxprec, \u001b[38;5;241m2\u001b[39m\u001b[38;5;241m*\u001b[39mprec)\n\u001b[0;32m--> 600\u001b[0m     terms \u001b[38;5;241m=\u001b[39m [\u001b[43mevalf\u001b[49m\u001b[43m(\u001b[49m\u001b[43marg\u001b[49m\u001b[43m,\u001b[49m\u001b[43m \u001b[49m\u001b[43mprec\u001b[49m\u001b[43m \u001b[49m\u001b[38;5;241;43m+\u001b[39;49m\u001b[43m \u001b[49m\u001b[38;5;241;43m10\u001b[39;49m\u001b[43m,\u001b[49m\u001b[43m \u001b[49m\u001b[43moptions\u001b[49m\u001b[43m)\u001b[49m \u001b[38;5;28;01mfor\u001b[39;00m arg \u001b[38;5;129;01min\u001b[39;00m v\u001b[38;5;241m.\u001b[39margs]\n\u001b[1;32m    601\u001b[0m     n \u001b[38;5;241m=\u001b[39m terms\u001b[38;5;241m.\u001b[39mcount(S\u001b[38;5;241m.\u001b[39mComplexInfinity)\n\u001b[1;32m    602\u001b[0m     \u001b[38;5;28;01mif\u001b[39;00m n \u001b[38;5;241m>\u001b[39m\u001b[38;5;241m=\u001b[39m \u001b[38;5;241m2\u001b[39m:\n",
      "File \u001b[0;32m~/Library/Python/3.9/lib/python/site-packages/sympy/core/evalf.py:1482\u001b[0m, in \u001b[0;36mevalf\u001b[0;34m(x, prec, options)\u001b[0m\n\u001b[1;32m   1480\u001b[0m \u001b[38;5;28;01mtry\u001b[39;00m:\n\u001b[1;32m   1481\u001b[0m     rf \u001b[38;5;241m=\u001b[39m evalf_table[\u001b[38;5;28mtype\u001b[39m(x)]\n\u001b[0;32m-> 1482\u001b[0m     r \u001b[38;5;241m=\u001b[39m \u001b[43mrf\u001b[49m\u001b[43m(\u001b[49m\u001b[43mx\u001b[49m\u001b[43m,\u001b[49m\u001b[43m \u001b[49m\u001b[43mprec\u001b[49m\u001b[43m,\u001b[49m\u001b[43m \u001b[49m\u001b[43moptions\u001b[49m\u001b[43m)\u001b[49m\n\u001b[1;32m   1483\u001b[0m \u001b[38;5;28;01mexcept\u001b[39;00m \u001b[38;5;167;01mKeyError\u001b[39;00m:\n\u001b[1;32m   1484\u001b[0m     \u001b[38;5;66;03m# Fall back to ordinary evalf if possible\u001b[39;00m\n\u001b[1;32m   1485\u001b[0m     \u001b[38;5;28;01mif\u001b[39;00m \u001b[38;5;124m'\u001b[39m\u001b[38;5;124msubs\u001b[39m\u001b[38;5;124m'\u001b[39m \u001b[38;5;129;01min\u001b[39;00m options:\n",
      "File \u001b[0;32m~/Library/Python/3.9/lib/python/site-packages/sympy/core/evalf.py:696\u001b[0m, in \u001b[0;36mevalf_mul\u001b[0;34m(v, prec, options)\u001b[0m\n\u001b[1;32m    694\u001b[0m \u001b[38;5;28;01melif\u001b[39;00m i \u001b[38;5;241m==\u001b[39m last \u001b[38;5;129;01mand\u001b[39;00m arg \u001b[38;5;129;01mis\u001b[39;00m S\u001b[38;5;241m.\u001b[39mOne:\n\u001b[1;32m    695\u001b[0m     \u001b[38;5;28;01mcontinue\u001b[39;00m\n\u001b[0;32m--> 696\u001b[0m re, im, re_acc, im_acc \u001b[38;5;241m=\u001b[39m \u001b[43mevalf\u001b[49m\u001b[43m(\u001b[49m\u001b[43marg\u001b[49m\u001b[43m,\u001b[49m\u001b[43m \u001b[49m\u001b[43mworking_prec\u001b[49m\u001b[43m,\u001b[49m\u001b[43m \u001b[49m\u001b[43moptions\u001b[49m\u001b[43m)\u001b[49m\n\u001b[1;32m    697\u001b[0m \u001b[38;5;28;01mif\u001b[39;00m re \u001b[38;5;129;01mand\u001b[39;00m im:\n\u001b[1;32m    698\u001b[0m     complex_factors\u001b[38;5;241m.\u001b[39mappend((re, im, re_acc, im_acc))\n",
      "File \u001b[0;32m~/Library/Python/3.9/lib/python/site-packages/sympy/core/evalf.py:1482\u001b[0m, in \u001b[0;36mevalf\u001b[0;34m(x, prec, options)\u001b[0m\n\u001b[1;32m   1480\u001b[0m \u001b[38;5;28;01mtry\u001b[39;00m:\n\u001b[1;32m   1481\u001b[0m     rf \u001b[38;5;241m=\u001b[39m evalf_table[\u001b[38;5;28mtype\u001b[39m(x)]\n\u001b[0;32m-> 1482\u001b[0m     r \u001b[38;5;241m=\u001b[39m \u001b[43mrf\u001b[49m\u001b[43m(\u001b[49m\u001b[43mx\u001b[49m\u001b[43m,\u001b[49m\u001b[43m \u001b[49m\u001b[43mprec\u001b[49m\u001b[43m,\u001b[49m\u001b[43m \u001b[49m\u001b[43moptions\u001b[49m\u001b[43m)\u001b[49m\n\u001b[1;32m   1483\u001b[0m \u001b[38;5;28;01mexcept\u001b[39;00m \u001b[38;5;167;01mKeyError\u001b[39;00m:\n\u001b[1;32m   1484\u001b[0m     \u001b[38;5;66;03m# Fall back to ordinary evalf if possible\u001b[39;00m\n\u001b[1;32m   1485\u001b[0m     \u001b[38;5;28;01mif\u001b[39;00m \u001b[38;5;124m'\u001b[39m\u001b[38;5;124msubs\u001b[39m\u001b[38;5;124m'\u001b[39m \u001b[38;5;129;01min\u001b[39;00m options:\n",
      "File \u001b[0;32m~/Library/Python/3.9/lib/python/site-packages/sympy/core/evalf.py:600\u001b[0m, in \u001b[0;36mevalf_add\u001b[0;34m(v, prec, options)\u001b[0m\n\u001b[1;32m    597\u001b[0m \u001b[38;5;28;01mwhile\u001b[39;00m \u001b[38;5;241m1\u001b[39m:\n\u001b[1;32m    598\u001b[0m     options[\u001b[38;5;124m'\u001b[39m\u001b[38;5;124mmaxprec\u001b[39m\u001b[38;5;124m'\u001b[39m] \u001b[38;5;241m=\u001b[39m \u001b[38;5;28mmin\u001b[39m(oldmaxprec, \u001b[38;5;241m2\u001b[39m\u001b[38;5;241m*\u001b[39mprec)\n\u001b[0;32m--> 600\u001b[0m     terms \u001b[38;5;241m=\u001b[39m [evalf(arg, prec \u001b[38;5;241m+\u001b[39m \u001b[38;5;241m10\u001b[39m, options) \u001b[38;5;28;01mfor\u001b[39;00m arg \u001b[38;5;129;01min\u001b[39;00m v\u001b[38;5;241m.\u001b[39margs]\n\u001b[1;32m    601\u001b[0m     n \u001b[38;5;241m=\u001b[39m terms\u001b[38;5;241m.\u001b[39mcount(S\u001b[38;5;241m.\u001b[39mComplexInfinity)\n\u001b[1;32m    602\u001b[0m     \u001b[38;5;28;01mif\u001b[39;00m n \u001b[38;5;241m>\u001b[39m\u001b[38;5;241m=\u001b[39m \u001b[38;5;241m2\u001b[39m:\n",
      "File \u001b[0;32m~/Library/Python/3.9/lib/python/site-packages/sympy/core/evalf.py:600\u001b[0m, in \u001b[0;36m<listcomp>\u001b[0;34m(.0)\u001b[0m\n\u001b[1;32m    597\u001b[0m \u001b[38;5;28;01mwhile\u001b[39;00m \u001b[38;5;241m1\u001b[39m:\n\u001b[1;32m    598\u001b[0m     options[\u001b[38;5;124m'\u001b[39m\u001b[38;5;124mmaxprec\u001b[39m\u001b[38;5;124m'\u001b[39m] \u001b[38;5;241m=\u001b[39m \u001b[38;5;28mmin\u001b[39m(oldmaxprec, \u001b[38;5;241m2\u001b[39m\u001b[38;5;241m*\u001b[39mprec)\n\u001b[0;32m--> 600\u001b[0m     terms \u001b[38;5;241m=\u001b[39m [\u001b[43mevalf\u001b[49m\u001b[43m(\u001b[49m\u001b[43marg\u001b[49m\u001b[43m,\u001b[49m\u001b[43m \u001b[49m\u001b[43mprec\u001b[49m\u001b[43m \u001b[49m\u001b[38;5;241;43m+\u001b[39;49m\u001b[43m \u001b[49m\u001b[38;5;241;43m10\u001b[39;49m\u001b[43m,\u001b[49m\u001b[43m \u001b[49m\u001b[43moptions\u001b[49m\u001b[43m)\u001b[49m \u001b[38;5;28;01mfor\u001b[39;00m arg \u001b[38;5;129;01min\u001b[39;00m v\u001b[38;5;241m.\u001b[39margs]\n\u001b[1;32m    601\u001b[0m     n \u001b[38;5;241m=\u001b[39m terms\u001b[38;5;241m.\u001b[39mcount(S\u001b[38;5;241m.\u001b[39mComplexInfinity)\n\u001b[1;32m    602\u001b[0m     \u001b[38;5;28;01mif\u001b[39;00m n \u001b[38;5;241m>\u001b[39m\u001b[38;5;241m=\u001b[39m \u001b[38;5;241m2\u001b[39m:\n",
      "File \u001b[0;32m~/Library/Python/3.9/lib/python/site-packages/sympy/core/evalf.py:1482\u001b[0m, in \u001b[0;36mevalf\u001b[0;34m(x, prec, options)\u001b[0m\n\u001b[1;32m   1480\u001b[0m \u001b[38;5;28;01mtry\u001b[39;00m:\n\u001b[1;32m   1481\u001b[0m     rf \u001b[38;5;241m=\u001b[39m evalf_table[\u001b[38;5;28mtype\u001b[39m(x)]\n\u001b[0;32m-> 1482\u001b[0m     r \u001b[38;5;241m=\u001b[39m \u001b[43mrf\u001b[49m\u001b[43m(\u001b[49m\u001b[43mx\u001b[49m\u001b[43m,\u001b[49m\u001b[43m \u001b[49m\u001b[43mprec\u001b[49m\u001b[43m,\u001b[49m\u001b[43m \u001b[49m\u001b[43moptions\u001b[49m\u001b[43m)\u001b[49m\n\u001b[1;32m   1483\u001b[0m \u001b[38;5;28;01mexcept\u001b[39;00m \u001b[38;5;167;01mKeyError\u001b[39;00m:\n\u001b[1;32m   1484\u001b[0m     \u001b[38;5;66;03m# Fall back to ordinary evalf if possible\u001b[39;00m\n\u001b[1;32m   1485\u001b[0m     \u001b[38;5;28;01mif\u001b[39;00m \u001b[38;5;124m'\u001b[39m\u001b[38;5;124msubs\u001b[39m\u001b[38;5;124m'\u001b[39m \u001b[38;5;129;01min\u001b[39;00m options:\n",
      "File \u001b[0;32m~/Library/Python/3.9/lib/python/site-packages/sympy/core/evalf.py:648\u001b[0m, in \u001b[0;36mevalf_mul\u001b[0;34m(v, prec, options)\u001b[0m\n\u001b[1;32m    646\u001b[0m \u001b[38;5;28;01mfrom\u001b[39;00m \u001b[38;5;21;01m.\u001b[39;00m\u001b[38;5;21;01mnumbers\u001b[39;00m \u001b[38;5;28;01mimport\u001b[39;00m Float\n\u001b[1;32m    647\u001b[0m \u001b[38;5;28;01mfor\u001b[39;00m arg \u001b[38;5;129;01min\u001b[39;00m args:\n\u001b[0;32m--> 648\u001b[0m     result \u001b[38;5;241m=\u001b[39m \u001b[43mevalf\u001b[49m\u001b[43m(\u001b[49m\u001b[43marg\u001b[49m\u001b[43m,\u001b[49m\u001b[43m \u001b[49m\u001b[43mprec\u001b[49m\u001b[43m,\u001b[49m\u001b[43m \u001b[49m\u001b[43moptions\u001b[49m\u001b[43m)\u001b[49m\n\u001b[1;32m    649\u001b[0m     \u001b[38;5;28;01mif\u001b[39;00m result \u001b[38;5;129;01mis\u001b[39;00m S\u001b[38;5;241m.\u001b[39mComplexInfinity:\n\u001b[1;32m    650\u001b[0m         special\u001b[38;5;241m.\u001b[39mappend(result)\n",
      "    \u001b[0;31m[... skipping similar frames: evalf at line 1482 (1 times)]\u001b[0m\n",
      "File \u001b[0;32m~/Library/Python/3.9/lib/python/site-packages/sympy/core/evalf.py:600\u001b[0m, in \u001b[0;36mevalf_add\u001b[0;34m(v, prec, options)\u001b[0m\n\u001b[1;32m    597\u001b[0m \u001b[38;5;28;01mwhile\u001b[39;00m \u001b[38;5;241m1\u001b[39m:\n\u001b[1;32m    598\u001b[0m     options[\u001b[38;5;124m'\u001b[39m\u001b[38;5;124mmaxprec\u001b[39m\u001b[38;5;124m'\u001b[39m] \u001b[38;5;241m=\u001b[39m \u001b[38;5;28mmin\u001b[39m(oldmaxprec, \u001b[38;5;241m2\u001b[39m\u001b[38;5;241m*\u001b[39mprec)\n\u001b[0;32m--> 600\u001b[0m     terms \u001b[38;5;241m=\u001b[39m [evalf(arg, prec \u001b[38;5;241m+\u001b[39m \u001b[38;5;241m10\u001b[39m, options) \u001b[38;5;28;01mfor\u001b[39;00m arg \u001b[38;5;129;01min\u001b[39;00m v\u001b[38;5;241m.\u001b[39margs]\n\u001b[1;32m    601\u001b[0m     n \u001b[38;5;241m=\u001b[39m terms\u001b[38;5;241m.\u001b[39mcount(S\u001b[38;5;241m.\u001b[39mComplexInfinity)\n\u001b[1;32m    602\u001b[0m     \u001b[38;5;28;01mif\u001b[39;00m n \u001b[38;5;241m>\u001b[39m\u001b[38;5;241m=\u001b[39m \u001b[38;5;241m2\u001b[39m:\n",
      "File \u001b[0;32m~/Library/Python/3.9/lib/python/site-packages/sympy/core/evalf.py:600\u001b[0m, in \u001b[0;36m<listcomp>\u001b[0;34m(.0)\u001b[0m\n\u001b[1;32m    597\u001b[0m \u001b[38;5;28;01mwhile\u001b[39;00m \u001b[38;5;241m1\u001b[39m:\n\u001b[1;32m    598\u001b[0m     options[\u001b[38;5;124m'\u001b[39m\u001b[38;5;124mmaxprec\u001b[39m\u001b[38;5;124m'\u001b[39m] \u001b[38;5;241m=\u001b[39m \u001b[38;5;28mmin\u001b[39m(oldmaxprec, \u001b[38;5;241m2\u001b[39m\u001b[38;5;241m*\u001b[39mprec)\n\u001b[0;32m--> 600\u001b[0m     terms \u001b[38;5;241m=\u001b[39m [\u001b[43mevalf\u001b[49m\u001b[43m(\u001b[49m\u001b[43marg\u001b[49m\u001b[43m,\u001b[49m\u001b[43m \u001b[49m\u001b[43mprec\u001b[49m\u001b[43m \u001b[49m\u001b[38;5;241;43m+\u001b[39;49m\u001b[43m \u001b[49m\u001b[38;5;241;43m10\u001b[39;49m\u001b[43m,\u001b[49m\u001b[43m \u001b[49m\u001b[43moptions\u001b[49m\u001b[43m)\u001b[49m \u001b[38;5;28;01mfor\u001b[39;00m arg \u001b[38;5;129;01min\u001b[39;00m v\u001b[38;5;241m.\u001b[39margs]\n\u001b[1;32m    601\u001b[0m     n \u001b[38;5;241m=\u001b[39m terms\u001b[38;5;241m.\u001b[39mcount(S\u001b[38;5;241m.\u001b[39mComplexInfinity)\n\u001b[1;32m    602\u001b[0m     \u001b[38;5;28;01mif\u001b[39;00m n \u001b[38;5;241m>\u001b[39m\u001b[38;5;241m=\u001b[39m \u001b[38;5;241m2\u001b[39m:\n",
      "    \u001b[0;31m[... skipping similar frames: evalf at line 1482 (1 times)]\u001b[0m\n",
      "File \u001b[0;32m~/Library/Python/3.9/lib/python/site-packages/sympy/core/evalf.py:648\u001b[0m, in \u001b[0;36mevalf_mul\u001b[0;34m(v, prec, options)\u001b[0m\n\u001b[1;32m    646\u001b[0m \u001b[38;5;28;01mfrom\u001b[39;00m \u001b[38;5;21;01m.\u001b[39;00m\u001b[38;5;21;01mnumbers\u001b[39;00m \u001b[38;5;28;01mimport\u001b[39;00m Float\n\u001b[1;32m    647\u001b[0m \u001b[38;5;28;01mfor\u001b[39;00m arg \u001b[38;5;129;01min\u001b[39;00m args:\n\u001b[0;32m--> 648\u001b[0m     result \u001b[38;5;241m=\u001b[39m \u001b[43mevalf\u001b[49m\u001b[43m(\u001b[49m\u001b[43marg\u001b[49m\u001b[43m,\u001b[49m\u001b[43m \u001b[49m\u001b[43mprec\u001b[49m\u001b[43m,\u001b[49m\u001b[43m \u001b[49m\u001b[43moptions\u001b[49m\u001b[43m)\u001b[49m\n\u001b[1;32m    649\u001b[0m     \u001b[38;5;28;01mif\u001b[39;00m result \u001b[38;5;129;01mis\u001b[39;00m S\u001b[38;5;241m.\u001b[39mComplexInfinity:\n\u001b[1;32m    650\u001b[0m         special\u001b[38;5;241m.\u001b[39mappend(result)\n",
      "    \u001b[0;31m[... skipping similar frames: evalf at line 1482 (2 times), <listcomp> at line 600 (1 times), evalf_add at line 600 (1 times)]\u001b[0m\n",
      "File \u001b[0;32m~/Library/Python/3.9/lib/python/site-packages/sympy/core/evalf.py:648\u001b[0m, in \u001b[0;36mevalf_mul\u001b[0;34m(v, prec, options)\u001b[0m\n\u001b[1;32m    646\u001b[0m \u001b[38;5;28;01mfrom\u001b[39;00m \u001b[38;5;21;01m.\u001b[39;00m\u001b[38;5;21;01mnumbers\u001b[39;00m \u001b[38;5;28;01mimport\u001b[39;00m Float\n\u001b[1;32m    647\u001b[0m \u001b[38;5;28;01mfor\u001b[39;00m arg \u001b[38;5;129;01min\u001b[39;00m args:\n\u001b[0;32m--> 648\u001b[0m     result \u001b[38;5;241m=\u001b[39m \u001b[43mevalf\u001b[49m\u001b[43m(\u001b[49m\u001b[43marg\u001b[49m\u001b[43m,\u001b[49m\u001b[43m \u001b[49m\u001b[43mprec\u001b[49m\u001b[43m,\u001b[49m\u001b[43m \u001b[49m\u001b[43moptions\u001b[49m\u001b[43m)\u001b[49m\n\u001b[1;32m    649\u001b[0m     \u001b[38;5;28;01mif\u001b[39;00m result \u001b[38;5;129;01mis\u001b[39;00m S\u001b[38;5;241m.\u001b[39mComplexInfinity:\n\u001b[1;32m    650\u001b[0m         special\u001b[38;5;241m.\u001b[39mappend(result)\n",
      "    \u001b[0;31m[... skipping similar frames: evalf at line 1482 (1 times)]\u001b[0m\n",
      "File \u001b[0;32m~/Library/Python/3.9/lib/python/site-packages/sympy/core/evalf.py:600\u001b[0m, in \u001b[0;36mevalf_add\u001b[0;34m(v, prec, options)\u001b[0m\n\u001b[1;32m    597\u001b[0m \u001b[38;5;28;01mwhile\u001b[39;00m \u001b[38;5;241m1\u001b[39m:\n\u001b[1;32m    598\u001b[0m     options[\u001b[38;5;124m'\u001b[39m\u001b[38;5;124mmaxprec\u001b[39m\u001b[38;5;124m'\u001b[39m] \u001b[38;5;241m=\u001b[39m \u001b[38;5;28mmin\u001b[39m(oldmaxprec, \u001b[38;5;241m2\u001b[39m\u001b[38;5;241m*\u001b[39mprec)\n\u001b[0;32m--> 600\u001b[0m     terms \u001b[38;5;241m=\u001b[39m [evalf(arg, prec \u001b[38;5;241m+\u001b[39m \u001b[38;5;241m10\u001b[39m, options) \u001b[38;5;28;01mfor\u001b[39;00m arg \u001b[38;5;129;01min\u001b[39;00m v\u001b[38;5;241m.\u001b[39margs]\n\u001b[1;32m    601\u001b[0m     n \u001b[38;5;241m=\u001b[39m terms\u001b[38;5;241m.\u001b[39mcount(S\u001b[38;5;241m.\u001b[39mComplexInfinity)\n\u001b[1;32m    602\u001b[0m     \u001b[38;5;28;01mif\u001b[39;00m n \u001b[38;5;241m>\u001b[39m\u001b[38;5;241m=\u001b[39m \u001b[38;5;241m2\u001b[39m:\n",
      "File \u001b[0;32m~/Library/Python/3.9/lib/python/site-packages/sympy/core/evalf.py:600\u001b[0m, in \u001b[0;36m<listcomp>\u001b[0;34m(.0)\u001b[0m\n\u001b[1;32m    597\u001b[0m \u001b[38;5;28;01mwhile\u001b[39;00m \u001b[38;5;241m1\u001b[39m:\n\u001b[1;32m    598\u001b[0m     options[\u001b[38;5;124m'\u001b[39m\u001b[38;5;124mmaxprec\u001b[39m\u001b[38;5;124m'\u001b[39m] \u001b[38;5;241m=\u001b[39m \u001b[38;5;28mmin\u001b[39m(oldmaxprec, \u001b[38;5;241m2\u001b[39m\u001b[38;5;241m*\u001b[39mprec)\n\u001b[0;32m--> 600\u001b[0m     terms \u001b[38;5;241m=\u001b[39m [\u001b[43mevalf\u001b[49m\u001b[43m(\u001b[49m\u001b[43marg\u001b[49m\u001b[43m,\u001b[49m\u001b[43m \u001b[49m\u001b[43mprec\u001b[49m\u001b[43m \u001b[49m\u001b[38;5;241;43m+\u001b[39;49m\u001b[43m \u001b[49m\u001b[38;5;241;43m10\u001b[39;49m\u001b[43m,\u001b[49m\u001b[43m \u001b[49m\u001b[43moptions\u001b[49m\u001b[43m)\u001b[49m \u001b[38;5;28;01mfor\u001b[39;00m arg \u001b[38;5;129;01min\u001b[39;00m v\u001b[38;5;241m.\u001b[39margs]\n\u001b[1;32m    601\u001b[0m     n \u001b[38;5;241m=\u001b[39m terms\u001b[38;5;241m.\u001b[39mcount(S\u001b[38;5;241m.\u001b[39mComplexInfinity)\n\u001b[1;32m    602\u001b[0m     \u001b[38;5;28;01mif\u001b[39;00m n \u001b[38;5;241m>\u001b[39m\u001b[38;5;241m=\u001b[39m \u001b[38;5;241m2\u001b[39m:\n",
      "File \u001b[0;32m~/Library/Python/3.9/lib/python/site-packages/sympy/core/evalf.py:1482\u001b[0m, in \u001b[0;36mevalf\u001b[0;34m(x, prec, options)\u001b[0m\n\u001b[1;32m   1480\u001b[0m \u001b[38;5;28;01mtry\u001b[39;00m:\n\u001b[1;32m   1481\u001b[0m     rf \u001b[38;5;241m=\u001b[39m evalf_table[\u001b[38;5;28mtype\u001b[39m(x)]\n\u001b[0;32m-> 1482\u001b[0m     r \u001b[38;5;241m=\u001b[39m \u001b[43mrf\u001b[49m\u001b[43m(\u001b[49m\u001b[43mx\u001b[49m\u001b[43m,\u001b[49m\u001b[43m \u001b[49m\u001b[43mprec\u001b[49m\u001b[43m,\u001b[49m\u001b[43m \u001b[49m\u001b[43moptions\u001b[49m\u001b[43m)\u001b[49m\n\u001b[1;32m   1483\u001b[0m \u001b[38;5;28;01mexcept\u001b[39;00m \u001b[38;5;167;01mKeyError\u001b[39;00m:\n\u001b[1;32m   1484\u001b[0m     \u001b[38;5;66;03m# Fall back to ordinary evalf if possible\u001b[39;00m\n\u001b[1;32m   1485\u001b[0m     \u001b[38;5;28;01mif\u001b[39;00m \u001b[38;5;124m'\u001b[39m\u001b[38;5;124msubs\u001b[39m\u001b[38;5;124m'\u001b[39m \u001b[38;5;129;01min\u001b[39;00m options:\n",
      "File \u001b[0;32m~/Library/Python/3.9/lib/python/site-packages/sympy/core/evalf.py:696\u001b[0m, in \u001b[0;36mevalf_mul\u001b[0;34m(v, prec, options)\u001b[0m\n\u001b[1;32m    694\u001b[0m \u001b[38;5;28;01melif\u001b[39;00m i \u001b[38;5;241m==\u001b[39m last \u001b[38;5;129;01mand\u001b[39;00m arg \u001b[38;5;129;01mis\u001b[39;00m S\u001b[38;5;241m.\u001b[39mOne:\n\u001b[1;32m    695\u001b[0m     \u001b[38;5;28;01mcontinue\u001b[39;00m\n\u001b[0;32m--> 696\u001b[0m re, im, re_acc, im_acc \u001b[38;5;241m=\u001b[39m \u001b[43mevalf\u001b[49m\u001b[43m(\u001b[49m\u001b[43marg\u001b[49m\u001b[43m,\u001b[49m\u001b[43m \u001b[49m\u001b[43mworking_prec\u001b[49m\u001b[43m,\u001b[49m\u001b[43m \u001b[49m\u001b[43moptions\u001b[49m\u001b[43m)\u001b[49m\n\u001b[1;32m    697\u001b[0m \u001b[38;5;28;01mif\u001b[39;00m re \u001b[38;5;129;01mand\u001b[39;00m im:\n\u001b[1;32m    698\u001b[0m     complex_factors\u001b[38;5;241m.\u001b[39mappend((re, im, re_acc, im_acc))\n",
      "File \u001b[0;32m~/Library/Python/3.9/lib/python/site-packages/sympy/core/evalf.py:1482\u001b[0m, in \u001b[0;36mevalf\u001b[0;34m(x, prec, options)\u001b[0m\n\u001b[1;32m   1480\u001b[0m \u001b[38;5;28;01mtry\u001b[39;00m:\n\u001b[1;32m   1481\u001b[0m     rf \u001b[38;5;241m=\u001b[39m evalf_table[\u001b[38;5;28mtype\u001b[39m(x)]\n\u001b[0;32m-> 1482\u001b[0m     r \u001b[38;5;241m=\u001b[39m \u001b[43mrf\u001b[49m\u001b[43m(\u001b[49m\u001b[43mx\u001b[49m\u001b[43m,\u001b[49m\u001b[43m \u001b[49m\u001b[43mprec\u001b[49m\u001b[43m,\u001b[49m\u001b[43m \u001b[49m\u001b[43moptions\u001b[49m\u001b[43m)\u001b[49m\n\u001b[1;32m   1483\u001b[0m \u001b[38;5;28;01mexcept\u001b[39;00m \u001b[38;5;167;01mKeyError\u001b[39;00m:\n\u001b[1;32m   1484\u001b[0m     \u001b[38;5;66;03m# Fall back to ordinary evalf if possible\u001b[39;00m\n\u001b[1;32m   1485\u001b[0m     \u001b[38;5;28;01mif\u001b[39;00m \u001b[38;5;124m'\u001b[39m\u001b[38;5;124msubs\u001b[39m\u001b[38;5;124m'\u001b[39m \u001b[38;5;129;01min\u001b[39;00m options:\n",
      "File \u001b[0;32m~/Library/Python/3.9/lib/python/site-packages/sympy/core/evalf.py:600\u001b[0m, in \u001b[0;36mevalf_add\u001b[0;34m(v, prec, options)\u001b[0m\n\u001b[1;32m    597\u001b[0m \u001b[38;5;28;01mwhile\u001b[39;00m \u001b[38;5;241m1\u001b[39m:\n\u001b[1;32m    598\u001b[0m     options[\u001b[38;5;124m'\u001b[39m\u001b[38;5;124mmaxprec\u001b[39m\u001b[38;5;124m'\u001b[39m] \u001b[38;5;241m=\u001b[39m \u001b[38;5;28mmin\u001b[39m(oldmaxprec, \u001b[38;5;241m2\u001b[39m\u001b[38;5;241m*\u001b[39mprec)\n\u001b[0;32m--> 600\u001b[0m     terms \u001b[38;5;241m=\u001b[39m [evalf(arg, prec \u001b[38;5;241m+\u001b[39m \u001b[38;5;241m10\u001b[39m, options) \u001b[38;5;28;01mfor\u001b[39;00m arg \u001b[38;5;129;01min\u001b[39;00m v\u001b[38;5;241m.\u001b[39margs]\n\u001b[1;32m    601\u001b[0m     n \u001b[38;5;241m=\u001b[39m terms\u001b[38;5;241m.\u001b[39mcount(S\u001b[38;5;241m.\u001b[39mComplexInfinity)\n\u001b[1;32m    602\u001b[0m     \u001b[38;5;28;01mif\u001b[39;00m n \u001b[38;5;241m>\u001b[39m\u001b[38;5;241m=\u001b[39m \u001b[38;5;241m2\u001b[39m:\n",
      "File \u001b[0;32m~/Library/Python/3.9/lib/python/site-packages/sympy/core/evalf.py:600\u001b[0m, in \u001b[0;36m<listcomp>\u001b[0;34m(.0)\u001b[0m\n\u001b[1;32m    597\u001b[0m \u001b[38;5;28;01mwhile\u001b[39;00m \u001b[38;5;241m1\u001b[39m:\n\u001b[1;32m    598\u001b[0m     options[\u001b[38;5;124m'\u001b[39m\u001b[38;5;124mmaxprec\u001b[39m\u001b[38;5;124m'\u001b[39m] \u001b[38;5;241m=\u001b[39m \u001b[38;5;28mmin\u001b[39m(oldmaxprec, \u001b[38;5;241m2\u001b[39m\u001b[38;5;241m*\u001b[39mprec)\n\u001b[0;32m--> 600\u001b[0m     terms \u001b[38;5;241m=\u001b[39m [\u001b[43mevalf\u001b[49m\u001b[43m(\u001b[49m\u001b[43marg\u001b[49m\u001b[43m,\u001b[49m\u001b[43m \u001b[49m\u001b[43mprec\u001b[49m\u001b[43m \u001b[49m\u001b[38;5;241;43m+\u001b[39;49m\u001b[43m \u001b[49m\u001b[38;5;241;43m10\u001b[39;49m\u001b[43m,\u001b[49m\u001b[43m \u001b[49m\u001b[43moptions\u001b[49m\u001b[43m)\u001b[49m \u001b[38;5;28;01mfor\u001b[39;00m arg \u001b[38;5;129;01min\u001b[39;00m v\u001b[38;5;241m.\u001b[39margs]\n\u001b[1;32m    601\u001b[0m     n \u001b[38;5;241m=\u001b[39m terms\u001b[38;5;241m.\u001b[39mcount(S\u001b[38;5;241m.\u001b[39mComplexInfinity)\n\u001b[1;32m    602\u001b[0m     \u001b[38;5;28;01mif\u001b[39;00m n \u001b[38;5;241m>\u001b[39m\u001b[38;5;241m=\u001b[39m \u001b[38;5;241m2\u001b[39m:\n",
      "File \u001b[0;32m~/Library/Python/3.9/lib/python/site-packages/sympy/core/evalf.py:1482\u001b[0m, in \u001b[0;36mevalf\u001b[0;34m(x, prec, options)\u001b[0m\n\u001b[1;32m   1480\u001b[0m \u001b[38;5;28;01mtry\u001b[39;00m:\n\u001b[1;32m   1481\u001b[0m     rf \u001b[38;5;241m=\u001b[39m evalf_table[\u001b[38;5;28mtype\u001b[39m(x)]\n\u001b[0;32m-> 1482\u001b[0m     r \u001b[38;5;241m=\u001b[39m \u001b[43mrf\u001b[49m\u001b[43m(\u001b[49m\u001b[43mx\u001b[49m\u001b[43m,\u001b[49m\u001b[43m \u001b[49m\u001b[43mprec\u001b[49m\u001b[43m,\u001b[49m\u001b[43m \u001b[49m\u001b[43moptions\u001b[49m\u001b[43m)\u001b[49m\n\u001b[1;32m   1483\u001b[0m \u001b[38;5;28;01mexcept\u001b[39;00m \u001b[38;5;167;01mKeyError\u001b[39;00m:\n\u001b[1;32m   1484\u001b[0m     \u001b[38;5;66;03m# Fall back to ordinary evalf if possible\u001b[39;00m\n\u001b[1;32m   1485\u001b[0m     \u001b[38;5;28;01mif\u001b[39;00m \u001b[38;5;124m'\u001b[39m\u001b[38;5;124msubs\u001b[39m\u001b[38;5;124m'\u001b[39m \u001b[38;5;129;01min\u001b[39;00m options:\n",
      "File \u001b[0;32m~/Library/Python/3.9/lib/python/site-packages/sympy/core/evalf.py:648\u001b[0m, in \u001b[0;36mevalf_mul\u001b[0;34m(v, prec, options)\u001b[0m\n\u001b[1;32m    646\u001b[0m \u001b[38;5;28;01mfrom\u001b[39;00m \u001b[38;5;21;01m.\u001b[39;00m\u001b[38;5;21;01mnumbers\u001b[39;00m \u001b[38;5;28;01mimport\u001b[39;00m Float\n\u001b[1;32m    647\u001b[0m \u001b[38;5;28;01mfor\u001b[39;00m arg \u001b[38;5;129;01min\u001b[39;00m args:\n\u001b[0;32m--> 648\u001b[0m     result \u001b[38;5;241m=\u001b[39m \u001b[43mevalf\u001b[49m\u001b[43m(\u001b[49m\u001b[43marg\u001b[49m\u001b[43m,\u001b[49m\u001b[43m \u001b[49m\u001b[43mprec\u001b[49m\u001b[43m,\u001b[49m\u001b[43m \u001b[49m\u001b[43moptions\u001b[49m\u001b[43m)\u001b[49m\n\u001b[1;32m    649\u001b[0m     \u001b[38;5;28;01mif\u001b[39;00m result \u001b[38;5;129;01mis\u001b[39;00m S\u001b[38;5;241m.\u001b[39mComplexInfinity:\n\u001b[1;32m    650\u001b[0m         special\u001b[38;5;241m.\u001b[39mappend(result)\n",
      "    \u001b[0;31m[... skipping similar frames: evalf at line 1482 (1 times)]\u001b[0m\n",
      "File \u001b[0;32m~/Library/Python/3.9/lib/python/site-packages/sympy/core/evalf.py:600\u001b[0m, in \u001b[0;36mevalf_add\u001b[0;34m(v, prec, options)\u001b[0m\n\u001b[1;32m    597\u001b[0m \u001b[38;5;28;01mwhile\u001b[39;00m \u001b[38;5;241m1\u001b[39m:\n\u001b[1;32m    598\u001b[0m     options[\u001b[38;5;124m'\u001b[39m\u001b[38;5;124mmaxprec\u001b[39m\u001b[38;5;124m'\u001b[39m] \u001b[38;5;241m=\u001b[39m \u001b[38;5;28mmin\u001b[39m(oldmaxprec, \u001b[38;5;241m2\u001b[39m\u001b[38;5;241m*\u001b[39mprec)\n\u001b[0;32m--> 600\u001b[0m     terms \u001b[38;5;241m=\u001b[39m [evalf(arg, prec \u001b[38;5;241m+\u001b[39m \u001b[38;5;241m10\u001b[39m, options) \u001b[38;5;28;01mfor\u001b[39;00m arg \u001b[38;5;129;01min\u001b[39;00m v\u001b[38;5;241m.\u001b[39margs]\n\u001b[1;32m    601\u001b[0m     n \u001b[38;5;241m=\u001b[39m terms\u001b[38;5;241m.\u001b[39mcount(S\u001b[38;5;241m.\u001b[39mComplexInfinity)\n\u001b[1;32m    602\u001b[0m     \u001b[38;5;28;01mif\u001b[39;00m n \u001b[38;5;241m>\u001b[39m\u001b[38;5;241m=\u001b[39m \u001b[38;5;241m2\u001b[39m:\n",
      "File \u001b[0;32m~/Library/Python/3.9/lib/python/site-packages/sympy/core/evalf.py:600\u001b[0m, in \u001b[0;36m<listcomp>\u001b[0;34m(.0)\u001b[0m\n\u001b[1;32m    597\u001b[0m \u001b[38;5;28;01mwhile\u001b[39;00m \u001b[38;5;241m1\u001b[39m:\n\u001b[1;32m    598\u001b[0m     options[\u001b[38;5;124m'\u001b[39m\u001b[38;5;124mmaxprec\u001b[39m\u001b[38;5;124m'\u001b[39m] \u001b[38;5;241m=\u001b[39m \u001b[38;5;28mmin\u001b[39m(oldmaxprec, \u001b[38;5;241m2\u001b[39m\u001b[38;5;241m*\u001b[39mprec)\n\u001b[0;32m--> 600\u001b[0m     terms \u001b[38;5;241m=\u001b[39m [\u001b[43mevalf\u001b[49m\u001b[43m(\u001b[49m\u001b[43marg\u001b[49m\u001b[43m,\u001b[49m\u001b[43m \u001b[49m\u001b[43mprec\u001b[49m\u001b[43m \u001b[49m\u001b[38;5;241;43m+\u001b[39;49m\u001b[43m \u001b[49m\u001b[38;5;241;43m10\u001b[39;49m\u001b[43m,\u001b[49m\u001b[43m \u001b[49m\u001b[43moptions\u001b[49m\u001b[43m)\u001b[49m \u001b[38;5;28;01mfor\u001b[39;00m arg \u001b[38;5;129;01min\u001b[39;00m v\u001b[38;5;241m.\u001b[39margs]\n\u001b[1;32m    601\u001b[0m     n \u001b[38;5;241m=\u001b[39m terms\u001b[38;5;241m.\u001b[39mcount(S\u001b[38;5;241m.\u001b[39mComplexInfinity)\n\u001b[1;32m    602\u001b[0m     \u001b[38;5;28;01mif\u001b[39;00m n \u001b[38;5;241m>\u001b[39m\u001b[38;5;241m=\u001b[39m \u001b[38;5;241m2\u001b[39m:\n",
      "File \u001b[0;32m~/Library/Python/3.9/lib/python/site-packages/sympy/core/evalf.py:1482\u001b[0m, in \u001b[0;36mevalf\u001b[0;34m(x, prec, options)\u001b[0m\n\u001b[1;32m   1480\u001b[0m \u001b[38;5;28;01mtry\u001b[39;00m:\n\u001b[1;32m   1481\u001b[0m     rf \u001b[38;5;241m=\u001b[39m evalf_table[\u001b[38;5;28mtype\u001b[39m(x)]\n\u001b[0;32m-> 1482\u001b[0m     r \u001b[38;5;241m=\u001b[39m \u001b[43mrf\u001b[49m\u001b[43m(\u001b[49m\u001b[43mx\u001b[49m\u001b[43m,\u001b[49m\u001b[43m \u001b[49m\u001b[43mprec\u001b[49m\u001b[43m,\u001b[49m\u001b[43m \u001b[49m\u001b[43moptions\u001b[49m\u001b[43m)\u001b[49m\n\u001b[1;32m   1483\u001b[0m \u001b[38;5;28;01mexcept\u001b[39;00m \u001b[38;5;167;01mKeyError\u001b[39;00m:\n\u001b[1;32m   1484\u001b[0m     \u001b[38;5;66;03m# Fall back to ordinary evalf if possible\u001b[39;00m\n\u001b[1;32m   1485\u001b[0m     \u001b[38;5;28;01mif\u001b[39;00m \u001b[38;5;124m'\u001b[39m\u001b[38;5;124msubs\u001b[39m\u001b[38;5;124m'\u001b[39m \u001b[38;5;129;01min\u001b[39;00m options:\n",
      "File \u001b[0;32m~/Library/Python/3.9/lib/python/site-packages/sympy/core/evalf.py:696\u001b[0m, in \u001b[0;36mevalf_mul\u001b[0;34m(v, prec, options)\u001b[0m\n\u001b[1;32m    694\u001b[0m \u001b[38;5;28;01melif\u001b[39;00m i \u001b[38;5;241m==\u001b[39m last \u001b[38;5;129;01mand\u001b[39;00m arg \u001b[38;5;129;01mis\u001b[39;00m S\u001b[38;5;241m.\u001b[39mOne:\n\u001b[1;32m    695\u001b[0m     \u001b[38;5;28;01mcontinue\u001b[39;00m\n\u001b[0;32m--> 696\u001b[0m re, im, re_acc, im_acc \u001b[38;5;241m=\u001b[39m \u001b[43mevalf\u001b[49m\u001b[43m(\u001b[49m\u001b[43marg\u001b[49m\u001b[43m,\u001b[49m\u001b[43m \u001b[49m\u001b[43mworking_prec\u001b[49m\u001b[43m,\u001b[49m\u001b[43m \u001b[49m\u001b[43moptions\u001b[49m\u001b[43m)\u001b[49m\n\u001b[1;32m    697\u001b[0m \u001b[38;5;28;01mif\u001b[39;00m re \u001b[38;5;129;01mand\u001b[39;00m im:\n\u001b[1;32m    698\u001b[0m     complex_factors\u001b[38;5;241m.\u001b[39mappend((re, im, re_acc, im_acc))\n",
      "File \u001b[0;32m~/Library/Python/3.9/lib/python/site-packages/sympy/core/evalf.py:1482\u001b[0m, in \u001b[0;36mevalf\u001b[0;34m(x, prec, options)\u001b[0m\n\u001b[1;32m   1480\u001b[0m \u001b[38;5;28;01mtry\u001b[39;00m:\n\u001b[1;32m   1481\u001b[0m     rf \u001b[38;5;241m=\u001b[39m evalf_table[\u001b[38;5;28mtype\u001b[39m(x)]\n\u001b[0;32m-> 1482\u001b[0m     r \u001b[38;5;241m=\u001b[39m \u001b[43mrf\u001b[49m\u001b[43m(\u001b[49m\u001b[43mx\u001b[49m\u001b[43m,\u001b[49m\u001b[43m \u001b[49m\u001b[43mprec\u001b[49m\u001b[43m,\u001b[49m\u001b[43m \u001b[49m\u001b[43moptions\u001b[49m\u001b[43m)\u001b[49m\n\u001b[1;32m   1483\u001b[0m \u001b[38;5;28;01mexcept\u001b[39;00m \u001b[38;5;167;01mKeyError\u001b[39;00m:\n\u001b[1;32m   1484\u001b[0m     \u001b[38;5;66;03m# Fall back to ordinary evalf if possible\u001b[39;00m\n\u001b[1;32m   1485\u001b[0m     \u001b[38;5;28;01mif\u001b[39;00m \u001b[38;5;124m'\u001b[39m\u001b[38;5;124msubs\u001b[39m\u001b[38;5;124m'\u001b[39m \u001b[38;5;129;01min\u001b[39;00m options:\n",
      "File \u001b[0;32m~/Library/Python/3.9/lib/python/site-packages/sympy/core/evalf.py:892\u001b[0m, in \u001b[0;36mevalf_exp\u001b[0;34m(expr, prec, options)\u001b[0m\n\u001b[1;32m    890\u001b[0m \u001b[38;5;28;01mdef\u001b[39;00m \u001b[38;5;21mevalf_exp\u001b[39m(expr: \u001b[38;5;124m'\u001b[39m\u001b[38;5;124mexp\u001b[39m\u001b[38;5;124m'\u001b[39m, prec: \u001b[38;5;28mint\u001b[39m, options: OPT_DICT) \u001b[38;5;241m-\u001b[39m\u001b[38;5;241m>\u001b[39m TMP_RES:\n\u001b[1;32m    891\u001b[0m     \u001b[38;5;28;01mfrom\u001b[39;00m \u001b[38;5;21;01m.\u001b[39;00m\u001b[38;5;21;01mpower\u001b[39;00m \u001b[38;5;28;01mimport\u001b[39;00m Pow\n\u001b[0;32m--> 892\u001b[0m     \u001b[38;5;28;01mreturn\u001b[39;00m \u001b[43mevalf_pow\u001b[49m\u001b[43m(\u001b[49m\u001b[43mPow\u001b[49m\u001b[43m(\u001b[49m\u001b[43mS\u001b[49m\u001b[38;5;241;43m.\u001b[39;49m\u001b[43mExp1\u001b[49m\u001b[43m,\u001b[49m\u001b[43m \u001b[49m\u001b[43mexpr\u001b[49m\u001b[38;5;241;43m.\u001b[39;49m\u001b[43mexp\u001b[49m\u001b[43m,\u001b[49m\u001b[43m \u001b[49m\u001b[43mevaluate\u001b[49m\u001b[38;5;241;43m=\u001b[39;49m\u001b[38;5;28;43;01mFalse\u001b[39;49;00m\u001b[43m)\u001b[49m\u001b[43m,\u001b[49m\u001b[43m \u001b[49m\u001b[43mprec\u001b[49m\u001b[43m,\u001b[49m\u001b[43m \u001b[49m\u001b[43moptions\u001b[49m\u001b[43m)\u001b[49m\n",
      "File \u001b[0;32m~/Library/Python/3.9/lib/python/site-packages/sympy/core/evalf.py:833\u001b[0m, in \u001b[0;36mevalf_pow\u001b[0;34m(v, prec, options)\u001b[0m\n\u001b[1;32m    830\u001b[0m \u001b[38;5;66;03m# We first evaluate the exponent to find its magnitude\u001b[39;00m\n\u001b[1;32m    831\u001b[0m \u001b[38;5;66;03m# This determines the working precision that must be used\u001b[39;00m\n\u001b[1;32m    832\u001b[0m prec \u001b[38;5;241m+\u001b[39m\u001b[38;5;241m=\u001b[39m \u001b[38;5;241m10\u001b[39m\n\u001b[0;32m--> 833\u001b[0m result \u001b[38;5;241m=\u001b[39m \u001b[43mevalf\u001b[49m\u001b[43m(\u001b[49m\u001b[43mexp\u001b[49m\u001b[43m,\u001b[49m\u001b[43m \u001b[49m\u001b[43mprec\u001b[49m\u001b[43m,\u001b[49m\u001b[43m \u001b[49m\u001b[43moptions\u001b[49m\u001b[43m)\u001b[49m\n\u001b[1;32m    834\u001b[0m \u001b[38;5;28;01mif\u001b[39;00m result \u001b[38;5;129;01mis\u001b[39;00m S\u001b[38;5;241m.\u001b[39mComplexInfinity:\n\u001b[1;32m    835\u001b[0m     \u001b[38;5;28;01mreturn\u001b[39;00m fnan, \u001b[38;5;28;01mNone\u001b[39;00m, prec, \u001b[38;5;28;01mNone\u001b[39;00m\n",
      "File \u001b[0;32m~/Library/Python/3.9/lib/python/site-packages/sympy/core/evalf.py:1482\u001b[0m, in \u001b[0;36mevalf\u001b[0;34m(x, prec, options)\u001b[0m\n\u001b[1;32m   1480\u001b[0m \u001b[38;5;28;01mtry\u001b[39;00m:\n\u001b[1;32m   1481\u001b[0m     rf \u001b[38;5;241m=\u001b[39m evalf_table[\u001b[38;5;28mtype\u001b[39m(x)]\n\u001b[0;32m-> 1482\u001b[0m     r \u001b[38;5;241m=\u001b[39m \u001b[43mrf\u001b[49m\u001b[43m(\u001b[49m\u001b[43mx\u001b[49m\u001b[43m,\u001b[49m\u001b[43m \u001b[49m\u001b[43mprec\u001b[49m\u001b[43m,\u001b[49m\u001b[43m \u001b[49m\u001b[43moptions\u001b[49m\u001b[43m)\u001b[49m\n\u001b[1;32m   1483\u001b[0m \u001b[38;5;28;01mexcept\u001b[39;00m \u001b[38;5;167;01mKeyError\u001b[39;00m:\n\u001b[1;32m   1484\u001b[0m     \u001b[38;5;66;03m# Fall back to ordinary evalf if possible\u001b[39;00m\n\u001b[1;32m   1485\u001b[0m     \u001b[38;5;28;01mif\u001b[39;00m \u001b[38;5;124m'\u001b[39m\u001b[38;5;124msubs\u001b[39m\u001b[38;5;124m'\u001b[39m \u001b[38;5;129;01min\u001b[39;00m options:\n",
      "File \u001b[0;32m~/Library/Python/3.9/lib/python/site-packages/sympy/core/evalf.py:648\u001b[0m, in \u001b[0;36mevalf_mul\u001b[0;34m(v, prec, options)\u001b[0m\n\u001b[1;32m    646\u001b[0m \u001b[38;5;28;01mfrom\u001b[39;00m \u001b[38;5;21;01m.\u001b[39;00m\u001b[38;5;21;01mnumbers\u001b[39;00m \u001b[38;5;28;01mimport\u001b[39;00m Float\n\u001b[1;32m    647\u001b[0m \u001b[38;5;28;01mfor\u001b[39;00m arg \u001b[38;5;129;01min\u001b[39;00m args:\n\u001b[0;32m--> 648\u001b[0m     result \u001b[38;5;241m=\u001b[39m \u001b[43mevalf\u001b[49m\u001b[43m(\u001b[49m\u001b[43marg\u001b[49m\u001b[43m,\u001b[49m\u001b[43m \u001b[49m\u001b[43mprec\u001b[49m\u001b[43m,\u001b[49m\u001b[43m \u001b[49m\u001b[43moptions\u001b[49m\u001b[43m)\u001b[49m\n\u001b[1;32m    649\u001b[0m     \u001b[38;5;28;01mif\u001b[39;00m result \u001b[38;5;129;01mis\u001b[39;00m S\u001b[38;5;241m.\u001b[39mComplexInfinity:\n\u001b[1;32m    650\u001b[0m         special\u001b[38;5;241m.\u001b[39mappend(result)\n",
      "File \u001b[0;32m~/Library/Python/3.9/lib/python/site-packages/sympy/core/evalf.py:1479\u001b[0m, in \u001b[0;36mevalf\u001b[0;34m(x, prec, options)\u001b[0m\n\u001b[1;32m   1448\u001b[0m \u001b[38;5;28;01mdef\u001b[39;00m \u001b[38;5;21mevalf\u001b[39m(x: \u001b[38;5;124m'\u001b[39m\u001b[38;5;124mExpr\u001b[39m\u001b[38;5;124m'\u001b[39m, prec: \u001b[38;5;28mint\u001b[39m, options: OPT_DICT) \u001b[38;5;241m-\u001b[39m\u001b[38;5;241m>\u001b[39m TMP_RES:\n\u001b[1;32m   1449\u001b[0m \u001b[38;5;250m    \u001b[39m\u001b[38;5;124;03m\"\"\"\u001b[39;00m\n\u001b[1;32m   1450\u001b[0m \u001b[38;5;124;03m    Evaluate the ``Expr`` instance, ``x``\u001b[39;00m\n\u001b[1;32m   1451\u001b[0m \u001b[38;5;124;03m    to a binary precision of ``prec``. This\u001b[39;00m\n\u001b[0;32m   (...)\u001b[0m\n\u001b[1;32m   1477\u001b[0m \u001b[38;5;124;03m    Note that 0 is also represented as ``fzero = (0, 0, 0, 0)``.\u001b[39;00m\n\u001b[1;32m   1478\u001b[0m \u001b[38;5;124;03m    \"\"\"\u001b[39;00m\n\u001b[0;32m-> 1479\u001b[0m     \u001b[38;5;28;01mfrom\u001b[39;00m \u001b[38;5;21;01msympy\u001b[39;00m\u001b[38;5;21;01m.\u001b[39;00m\u001b[38;5;21;01mfunctions\u001b[39;00m\u001b[38;5;21;01m.\u001b[39;00m\u001b[38;5;21;01melementary\u001b[39;00m\u001b[38;5;21;01m.\u001b[39;00m\u001b[38;5;21;01mcomplexes\u001b[39;00m \u001b[38;5;28;01mimport\u001b[39;00m re \u001b[38;5;28;01mas\u001b[39;00m re_, im \u001b[38;5;28;01mas\u001b[39;00m im_\n\u001b[1;32m   1480\u001b[0m     \u001b[38;5;28;01mtry\u001b[39;00m:\n\u001b[1;32m   1481\u001b[0m         rf \u001b[38;5;241m=\u001b[39m evalf_table[\u001b[38;5;28mtype\u001b[39m(x)]\n",
      "\u001b[0;31mKeyboardInterrupt\u001b[0m: "
     ]
    }
   ],
   "source": [
    "population = []\n",
    "varphi_list = [n*2*pi for n in np.linspace(0, 1, 10)]\n",
    "\n",
    "for varphi in varphi_list:\n",
    "    state = R01(varphi, pi/2) * state\n",
    "    pop0 = abs((Dagger(ket0()) * state)[0])**2\n",
    "    pop1 = abs((Dagger(ket1()) * state)[0])**2\n",
    "    pop2 = abs((Dagger(ket2()) * state)[0])**2\n",
    "    population.append((pop0, pop1, pop2))"
   ]
  },
  {
   "cell_type": "code",
   "execution_count": 38,
   "id": "5696bf35",
   "metadata": {},
   "outputs": [],
   "source": [
    "varphi_list = [n*2*pi for n in np.linspace(0, 1, 100)]"
   ]
  }
 ],
 "metadata": {
  "kernelspec": {
   "display_name": "Python 3 (ipykernel)",
   "language": "python",
   "name": "python3"
  },
  "language_info": {
   "codemirror_mode": {
    "name": "ipython",
    "version": 3
   },
   "file_extension": ".py",
   "mimetype": "text/x-python",
   "name": "python",
   "nbconvert_exporter": "python",
   "pygments_lexer": "ipython3",
   "version": "3.9.6"
  }
 },
 "nbformat": 4,
 "nbformat_minor": 5
}
