{
 "cells": [
  {
   "cell_type": "code",
   "execution_count": 3,
   "id": "e26d2ba9",
   "metadata": {},
   "outputs": [],
   "source": [
    "import numpy as np\n",
    "import matplotlib.pyplot as plt\n",
    "from qiskit_ibm_provider import IBMProvider\n",
    "from qiskit.circuit import Gate, Parameter, QuantumCircuit\n",
    "from qiskit import pulse, schedule\n",
    "from qiskit.tools.jupyter import *\n",
    "from qiskit_ibm_provider.job import job_monitor\n",
    "from qiskit.pulse import Gaussian\n",
    "from sklearn.discriminant_analysis import LinearDiscriminantAnalysis\n",
    "from sklearn.model_selection import train_test_split\n",
    "\n",
    "import time\n",
    "import os\n",
    "import csv\n",
    "\n",
    "import warnings\n",
    "warnings.filterwarnings('ignore')\n",
    "\n",
    "IBMProvider.save_account('d006ccf7ada69abcbd5a6c4f8421f29a2de677261f2cc1c914751b05aabd43990a31692cb75cfa1fa694c6ed58eacbaeba7d0049c9d9035a54dfa355be0b8de1', overwrite=True)\n",
    "\n",
    "provider = IBMProvider()\n",
    "backend = provider.get_backend('ibm_brisbane')\n"
   ]
  },
  {
   "cell_type": "code",
   "execution_count": 5,
   "id": "aa89aee1",
   "metadata": {},
   "outputs": [],
   "source": [
    "backend_defaults = backend.defaults()\n",
    "backend_properties = backend.properties()\n",
    "backend_config = backend.configuration()"
   ]
  },
  {
   "cell_type": "code",
   "execution_count": 6,
   "id": "097bd157",
   "metadata": {},
   "outputs": [],
   "source": [
    "qubit = 0\n",
    "f01 = backend.properties().qubits[qubit][2].value * 1e9\n",
    "anhar = backend.properties().qubits[qubit][3].value * 1e9\n",
    "f12 = f01 + anhar\n",
    "\n",
    "qubit = 0\n",
    "pi = np.pi\n",
    "cos = np.cos\n",
    "sin = np.sin\n",
    "exp = np.exp\n",
    "NUM_SHOTS = 2048\n",
    "scale_factor = 1e-14\n"
   ]
  },
  {
   "cell_type": "code",
   "execution_count": 7,
   "id": "664439d3",
   "metadata": {},
   "outputs": [],
   "source": [
    "#some useful function\n",
    "def get_job_data(job, average):\n",
    "    \"\"\"Retrieve data from a job that has already run.\n",
    "    Args:\n",
    "        job (Job): The job whose data you want.\n",
    "        average (bool): If True, gets the data assuming data is an average.\n",
    "                        If False, gets the data assuming it is for single shots.\n",
    "    Return:\n",
    "        list: List containing job result data.\n",
    "    \"\"\"\n",
    "    job_results = job.result()  # timeout parameter set to 120 s\n",
    "    result_data = []\n",
    "    for i in range(len(job_results.results)):\n",
    "        if average:  # get avg data\n",
    "            result_data.append(np.real(job_results.get_memory(i)[qubit] * scale_factor))\n",
    "        else:  # get single data\n",
    "            result_data.append(job_results.get_memory(i)[:, qubit] * scale_factor)\n",
    "    return result_data\n",
    "\n",
    "def fit_function(x_values, y_values, function, init_params):\n",
    "    fitparams, conv = curve_fit(function, x_values, y_values, init_params)\n",
    "    y_fit = function(x_values, *fitparams)\n",
    "    \n",
    "    return fitparams, y_fit\n",
    "\n",
    "def reshape_complex_vec(vec):\n",
    "    \"\"\"Take in complex vector vec and return 2d array w/ real, imag entries. This is needed for the learning.\n",
    "    Args:\n",
    "        vec (list): complex vector of data\n",
    "    Returns:\n",
    "        list: vector w/ entries given by (real(vec], imag(vec))\n",
    "    \"\"\"\n",
    "    length = len(vec)\n",
    "    vec_reshaped = np.zeros((length, 2))\n",
    "    for i in range(len(vec)):\n",
    "        vec_reshaped[i] = [np.real(vec[i]), np.imag(vec[i])]\n",
    "    return vec_reshaped\n",
    "\n",
    "def discriminate(data) :\n",
    "    zero_data = data[0]\n",
    "    one_data = data[1]\n",
    "    two_data = data[2]\n",
    "    zero_data_reshaped = reshape_complex_vec(zero_data)\n",
    "    one_data_reshaped = reshape_complex_vec(one_data)\n",
    "    two_data_reshaped = reshape_complex_vec(two_data)\n",
    "    IQ_012_data = np.concatenate((zero_data_reshaped, one_data_reshaped, two_data_reshaped))\n",
    "    state_012 = np.zeros(NUM_SHOTS)  \n",
    "    state_012 = np.concatenate((state_012, np.ones(NUM_SHOTS)))\n",
    "    state_012 = np.concatenate((state_012, 2 * np.ones(NUM_SHOTS)))\n",
    "    IQ_012_train, IQ_012_test, state_012_train, state_012_test = train_test_split(IQ_012_data, state_012, test_size=0.3)\n",
    "    LDA_012 = LinearDiscriminantAnalysis()\n",
    "    LDA_012.fit(IQ_012_train, state_012_train)\n",
    "    return LDA_012\n",
    "\n",
    "def count(data, discriminator):\n",
    "    sched_data = []\n",
    "    for i in range(len(data)):\n",
    "        sched_data.append(reshape_complex_vec(data[i]))\n",
    "    discrim_data = []\n",
    "    for j in range(len(sched_data)):\n",
    "        discrim_data.append(discriminator.predict(sched_data[j]))\n",
    "        #print('predicting', j, end='\\r')\n",
    "    final_result = []\n",
    "    for k in range(len(discrim_data)):\n",
    "        result = {'0': 0, '1': 0, '2': 0}\n",
    "        for l in range(len(discrim_data[k])):\n",
    "            if discrim_data[k][l] == 0.0:\n",
    "                result['0'] += 1\n",
    "            elif discrim_data[k][l] == 1.0:\n",
    "                result['1'] += 1\n",
    "            elif discrim_data[k][l] == 2.0:\n",
    "                result['2'] += 1\n",
    "            else:\n",
    "                print('Unexpected behavior')\n",
    "        final_result.append(result)\n",
    "    return final_result\n",
    "\n",
    "def IQ_012_plot(x_min, x_max, y_min, y_max, data):\n",
    "    \"\"\"Helper function for plotting IQ plane for 0, 1, 2. Limits of plot given\n",
    "    as arguments.\"\"\"\n",
    "    # zero data plotted in blue\n",
    "    zero_data = data[0]\n",
    "    one_data = data[1]\n",
    "    two_data = data[2]\n",
    "    alpha = 1\n",
    "    size = 10\n",
    "    plt.scatter(np.real(zero_data), np.imag(zero_data),\n",
    "                s=size, cmap='viridis', c='blue', alpha=alpha, label=r'$|0\\rangle$')\n",
    "    # one data plotted in red\n",
    "    plt.scatter(np.real(one_data), np.imag(one_data),\n",
    "                s=size, cmap='viridis', c='red', alpha=alpha, label=r'$|1\\rangle$')\n",
    "    # two data plotted in green\n",
    "    plt.scatter(np.real(two_data), np.imag(two_data),\n",
    "                s=size, cmap='viridis', c='green', alpha=alpha, label=r'$|2\\rangle$')\n",
    "\n",
    "    # Plot a large dot for the average result of the 0, 1 and 2 states.\n",
    "    mean_zero = np.mean(zero_data) # takes mean of both real and imaginary parts\n",
    "    mean_one = np.mean(one_data)\n",
    "    mean_two = np.mean(two_data)\n",
    "    mean_alpha = 1\n",
    "    mean_size = 100\n",
    "    plt.scatter(np.real(mean_zero), np.imag(mean_zero),\n",
    "                s=mean_size, cmap='viridis', c='black',alpha=mean_alpha)\n",
    "    plt.scatter(np.real(mean_one), np.imag(mean_one),\n",
    "                s=mean_size, cmap='viridis', c='black',alpha=mean_alpha)\n",
    "    plt.scatter(np.real(mean_two), np.imag(mean_two),\n",
    "                s=mean_size, cmap='viridis', c='black',alpha=mean_alpha)\n",
    "\n",
    "    plt.xlim(x_min, x_max)\n",
    "    plt.ylim(y_min,y_max)\n",
    "    plt.legend(fontsize=15)\n",
    "    plt.grid()\n",
    "    plt.ylabel('I [a.u.]', fontsize=15)\n",
    "    plt.xlabel('Q [a.u.]', fontsize=15)\n",
    "    plt.title(\"0-1-2 discrimination\", fontsize=15)\n",
    "\n",
    "#mitigate\n",
    "from cvxopt import matrix, solvers\n",
    "def mitigated_population(p, C):\n",
    "    P = matrix(np.transpose(C).dot(C))\n",
    "    q = matrix(-np.transpose(p).dot(C))\n",
    "    G = matrix([[-1.0,0.0,0.0],[0.0,-1.0,0.0],[0.0,0.0,-1.0]])\n",
    "    h = matrix([0.0, 0.0, 0.0])\n",
    "    A = matrix([1.0, 1.0, 1.0], (1,3))\n",
    "    b = matrix(1.0)\n",
    "    solvers.options['show_progress'] = False\n",
    "    sol=solvers.qp(P, q, G, h, A, b)\n",
    "    # return np.asarray(sol['x'])\n",
    "    return np.array([e for e in sol['x']])\n",
    "\n",
    "def get_population(data, discriminator):\n",
    "    drag_values = count(data, discriminator)\n",
    "    return np.asarray([[val['0']/NUM_SHOTS, val['1']/NUM_SHOTS, val['2']/NUM_SHOTS] for val in drag_values])\n",
    "\n",
    "def get_mitigated_population(data, discriminator, confusion_matrix):\n",
    "    population = get_population(data, discriminator)\n",
    "    mitigated = [mitigated_population(pop, confusion_matrix) for pop in population]\n",
    "    return np.asarray(mitigated)\n",
    "\n",
    "from sklearn.metrics import mean_squared_error\n",
    "from sklearn.metrics import r2_score\n",
    "\n",
    "#loss function\n",
    "def loss_func(param, theta, phi, p_exp, N_data = 97):\n",
    "  p_model = [population_model(theta[i], phi[i], *param, order) for i in range(N_data)]\n",
    "  return mean_squared_error(p_model, population, squared = False)\n"
   ]
  },
  {
   "cell_type": "markdown",
   "id": "2249b9ae",
   "metadata": {},
   "source": [
    "To avoide time-consuming, we will use x pulse default of ibm, copy amplitude of this to our xpi pulse"
   ]
  },
  {
   "cell_type": "code",
   "execution_count": 8,
   "id": "f81331b1",
   "metadata": {},
   "outputs": [
    {
     "data": {
      "text/plain": [
       "(Schedule((0, Play(Drag(duration=120, sigma=30, beta=-0.002246983963901737, amp=0.19778947048625103, angle=0.0, name='Xp_d0'), DriveChannel(0), name='Xp_d0')), name=\"x\"),\n",
       " Schedule((0, Play(Drag(duration=120, sigma=30, beta=-0.08003473960250763, amp=0.09881675138820192, angle=0.0002430674771130061, name='X90p_d0'), DriveChannel(0), name='X90p_d0')), name=\"sx\"))"
      ]
     },
     "execution_count": 8,
     "metadata": {},
     "output_type": "execute_result"
    }
   ],
   "source": [
    "calibrations = backend_defaults.instruction_schedule_map\n",
    "calibrations.get('x', qubit), calibrations.get('sx', qubit)"
   ]
  },
  {
   "cell_type": "code",
   "execution_count": 20,
   "id": "12fa006d",
   "metadata": {},
   "outputs": [],
   "source": [
    "dur01 = 120\n",
    "sig01 = dur01/4\n",
    "amp01 = 0.19778947048625103"
   ]
  },
  {
   "cell_type": "code",
   "execution_count": 21,
   "id": "67af3317",
   "metadata": {},
   "outputs": [],
   "source": [
    "amp12 = 0.23743549524170637\n",
    "dur12 = 160\n",
    "sig12 = dur12/4"
   ]
  },
  {
   "cell_type": "code",
   "execution_count": 22,
   "id": "c5af2863",
   "metadata": {},
   "outputs": [],
   "source": [
    "#define a pulse rotating theta around n-axis in subspace 0-1 and 1-2\n",
    "\n",
    "def r01(theta, phi):\n",
    "    with pulse.build(backend=backend, default_alignment='sequential', name=r'$R^{(01)}$') as r01_pulse:\n",
    "        drive_chan = pulse.drive_channel(qubit)\n",
    "        pulse.set_frequency(f01, drive_chan)\n",
    "        with pulse.phase_offset(-phi, drive_chan):\n",
    "            pulse.play(pulse.Gaussian(duration=dur01,\n",
    "                                      amp=amp01*theta/np.pi,\n",
    "                                      sigma=sig01,\n",
    "                                      name=r'$X_{\\pi/2}^{(01)}$'), drive_chan)\n",
    "\n",
    "    return r01_pulse\n",
    "\n",
    "def r12(theta, phi):\n",
    "    with pulse.build(backend=backend, default_alignment='sequential',\n",
    "                     name=r'$R^{(12)}$') as r12_pulse:\n",
    "        drive_chan = pulse.drive_channel(qubit)\n",
    "        pulse.set_frequency(f12, drive_chan)\n",
    "        with pulse.phase_offset(-phi, drive_chan):\n",
    "            pulse.play(pulse.Gaussian(duration=dur12,\n",
    "                                      amp=amp12*theta/np.pi,\n",
    "                                      sigma=sig12,\n",
    "                                      name=r'$X_{\\pi/2}^{(12)}$'), drive_chan)\n",
    "\n",
    "    return r12_pulse\n",
    "\n",
    "\n",
    "def phase_tracking(order):\n",
    "    exp_circs = []\n",
    "    params = []\n",
    "    for i in range(97):\n",
    "        phi = np.random.default_rng().uniform(0, pi, len(order))\n",
    "        theta = np.random.default_rng().uniform(0, pi, len(order))\n",
    "        \n",
    "        params.append(np.concatenate((theta, phi)))\n",
    "        \n",
    "        qc = QuantumCircuit(1,1)\n",
    "        qc.append(X90_01, [0])\n",
    "        qc.append(X90_12, [0])\n",
    "        qc.add_calibration(X90_01, (0,), r01(pi/2, 0), [])\n",
    "        qc.add_calibration(X90_12, (0,), r12(pi/2, 0), [])\n",
    "        \n",
    "        i = 0\n",
    "        \n",
    "        for level in order:\n",
    "            if level == '1':\n",
    "                name = r\"$R^{01}$\" + fr\"$(\\theta_{i+1}$\" + ',' + fr'$\\phi_{i+1})$'\n",
    "                R01 = Gate(name, 1, [])\n",
    "                qc.append(R01, [0])\n",
    "                qc.add_calibration(R01, (0,), r01(theta[i], phi[i]), [])\n",
    "            elif level == '2':\n",
    "                name = r\"$R^{12}$\" + fr\"$(\\theta_{i+1}$\" + ',' + fr'$\\phi_{i+1})$'\n",
    "                R12 = Gate(name, 1, [])\n",
    "                qc.append(R12, [0])\n",
    "                qc.add_calibration(R12, (0,), r12(theta[i], phi[i]), [])\n",
    "            else:\n",
    "                print('Out of level')\n",
    "                break\n",
    "            i = i + 1\n",
    "        qc.measure(0,0)\n",
    "        exp_circs.append(qc)\n",
    "    exp_circs = discr_circ + exp_circs\n",
    "    \n",
    "    return exp_circs, params\n",
    "\n",
    "# Create the three circuits\n",
    "Xpi01 = Gate(\"$X_{\\pi}^{01}$\", 1, [])\n",
    "Xpi12 = Gate(\"$X_{\\pi}^{12}$\", 1, [])\n",
    "X90_01 = Gate(r'$X_{\\pi/2}^{(01)}$', 1, [])\n",
    "X90_12 = Gate(r'$X_{\\pi/2}^{(12)}$', 1, [])\n",
    "# 0 state\n",
    "zero = QuantumCircuit(1, 1)\n",
    "zero.measure(0, 0)\n",
    "\n",
    "# 1 state\n",
    "one = QuantumCircuit(1, 1)\n",
    "one.x(0)\n",
    "one.measure(0, 0)\n",
    "\n",
    "# 2 state \n",
    "two = QuantumCircuit(1, 1)\n",
    "two.x(0)\n",
    "two.append(Xpi12, [0])\n",
    "two.measure(0, 0)\n",
    "two.add_calibration(Xpi12, (0,), r12(pi, 0), [])\n",
    "\n",
    "discr_circ = [zero, one, two]"
   ]
  },
  {
   "cell_type": "markdown",
   "id": "ec6444e1",
   "metadata": {},
   "source": [
    "Generalize phase tracking protocol"
   ]
  },
  {
   "cell_type": "code",
   "execution_count": 23,
   "id": "cdd772dd",
   "metadata": {},
   "outputs": [],
   "source": [
    "import random\n",
    "def create_order(length):\n",
    "    order = ''\n",
    "    for i in range(length):\n",
    "        order = order + str(random.randint(1,2))\n",
    "    return order\n",
    "\n",
    "def create_orders(length):\n",
    "    orders = set()\n",
    "    for i in range(20):\n",
    "        orders.add(create_order(length))\n",
    "    return orders\n",
    "#orders = []\n",
    "#for i in range(6, 10, 1):\n",
    "    #orders += random.sample(list(create_orders(i)), k=2)"
   ]
  },
  {
   "cell_type": "markdown",
   "id": "dc953ab6",
   "metadata": {},
   "source": [
    "When we yse function phase_tracking, we take a string \"1121221...\" as input, which perform \"1\" as applying a Rx01 gate, and \"2\" as applying a Rx12 gate with rotation angle and axis angle randomized uniformly. These angles are saved as parameters to file follow synctax \"order_params_date_backend\", and these will helpful for you when handle data"
   ]
  },
  {
   "cell_type": "code",
   "execution_count": 24,
   "id": "046d9a46",
   "metadata": {},
   "outputs": [],
   "source": [
    "order = \"1221112\""
   ]
  },
  {
   "cell_type": "code",
   "execution_count": 25,
   "id": "b204b64b",
   "metadata": {},
   "outputs": [
    {
     "data": {
      "text/plain": [
       "2048"
      ]
     },
     "execution_count": 25,
     "metadata": {},
     "output_type": "execute_result"
    }
   ],
   "source": [
    "NUM_SHOTS"
   ]
  },
  {
   "cell_type": "code",
   "execution_count": 26,
   "id": "6049edb0",
   "metadata": {},
   "outputs": [
    {
     "name": "stdout",
     "output_type": "stream",
     "text": [
      "cnaef24yzmv0008w9jp0\n"
     ]
    }
   ],
   "source": [
    "#for order in orders:\n",
    "exp_circs, params = phase_tracking(order)\n",
    "tg = time.localtime(time.time())\n",
    "params_file = order + '_params_' + str(tg.tm_year) + '_' + str(tg.tm_mon) + '_' + str(tg.tm_mday) + '_' + backend.name + f'_{dur12}' + '.csv'\n",
    "np.savetxt(params_file, params, delimiter=',')\n",
    "job = backend.run(exp_circs, meas_level=1, meas_return='single', shots=NUM_SHOTS)\n",
    "print(job.job_id())\n"
   ]
  },
  {
   "cell_type": "code",
   "execution_count": 27,
   "id": "4d6a1f9f",
   "metadata": {},
   "outputs": [
    {
     "name": "stdout",
     "output_type": "stream",
     "text": [
      "\r",
      "Job Status: job has successfully run\n"
     ]
    }
   ],
   "source": [
    "job = provider.backend.retrieve_job('cnaef24yzmv0008w9jp0')\n",
    "job_monitor(job)"
   ]
  }
 ],
 "metadata": {
  "kernelspec": {
   "display_name": "Python 3 (ipykernel)",
   "language": "python",
   "name": "python3"
  },
  "language_info": {
   "codemirror_mode": {
    "name": "ipython",
    "version": 3
   },
   "file_extension": ".py",
   "mimetype": "text/x-python",
   "name": "python",
   "nbconvert_exporter": "python",
   "pygments_lexer": "ipython3",
   "version": "3.11.4"
  }
 },
 "nbformat": 4,
 "nbformat_minor": 5
}
