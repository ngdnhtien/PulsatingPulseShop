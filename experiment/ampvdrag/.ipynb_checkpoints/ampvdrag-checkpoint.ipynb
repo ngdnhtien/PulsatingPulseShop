{
 "cells": [
  {
   "cell_type": "markdown",
   "id": "96c84bde",
   "metadata": {},
   "source": [
    "In this notebook, we try to answer the question: with an optimized discriminator, does the Rabi amplitude change with and without DRAG correction?\n",
    "\n",
    "### References\n",
    "\n",
    "[1]: Li, Z., Liu, P., Zhao, P. *et al.* Error per single-qubit gate below 10−4 in a superconducting qubit. *npj Quantum Inf* **9**, 111 (2023). [https://doi.org/10.1038/s41534-023-00781-x](https://doi.org/10.1038/s41534-023-00781-x).\n",
    "\n",
    "[2]: Z. Chen *et al.* Measuring and Suppressing Quantum State Leakage in a Superconducting Qubit. *Phys. Rev. Lett.* **116**, 020501 (2016) [https://doi.org/10.1103/PhysRevLett.116.020501](https://doi.org/10.1103/PhysRevLett.116.020501). "
   ]
  },
  {
   "cell_type": "markdown",
   "id": "2a7292bd",
   "metadata": {},
   "source": [
    "## Dependencies"
   ]
  },
  {
   "cell_type": "code",
   "execution_count": 1,
   "id": "2bca259d",
   "metadata": {},
   "outputs": [],
   "source": [
    "%config InlineBackend.figure_formats = ['svg']\n",
    "\n",
    "import os\n",
    "os.chdir('/Users/ngdnhtien/Codespace/PulsatingPulseShop/')\n",
    "\n",
    "# qiskit\n",
    "from qiskit import pulse\n",
    "from qiskit.circuit import Parameter\n",
    "from qiskit.circuit import QuantumCircuit, Gate\n",
    "from qiskit_ibm_provider import IBMProvider\n",
    "\n",
    "# qutritium\n",
    "from utility import *\n",
    "from constant import *\n",
    "\n",
    "# numerical\n",
    "import numpy as np\n",
    "from scipy.optimize import curve_fit\n",
    "import pickle \n",
    "\n",
    "# plot\n",
    "from matplotlib.ticker import MultipleLocator\n",
    "\n",
    "plt.rcParams['axes.linewidth'] = 1.25"
   ]
  },
  {
   "cell_type": "code",
   "execution_count": 3,
   "id": "dfc76acf",
   "metadata": {},
   "outputs": [
    {
     "name": "stdout",
     "output_type": "stream",
     "text": [
      "[<IBMBackend('ibm_kyoto')>, <IBMBackend('ibm_osaka')>, <IBMBackend('ibmq_qasm_simulator')>, <IBMBackend('simulator_extended_stabilizer')>, <IBMBackend('simulator_mps')>, <IBMBackend('simulator_statevector')>, <IBMBackend('simulator_stabilizer')>, <IBMBackend('ibm_brisbane')>]\n"
     ]
    }
   ],
   "source": [
    "provider = IBMProvider()\n",
    "print(provider.backends())\n",
    "\n",
    "backend = provider.get_backend('ibm_brisbane')\n",
    "\n",
    "backend_config = backend.configuration()\n",
    "backend_defaults = backend.defaults()\n",
    "backend_properties = backend.properties()\n",
    "dt = backend_config.dt\n",
    "\n",
    "qubit = 0\n",
    "cbit = 0\n",
    "num_qubits = 1\n",
    "num_cbits = 1\n",
    "weight = 1\n",
    "\n",
    "qubit_01_freq = backend_defaults.qubit_freq_est[qubit]\n",
    "qubit_anharmonicty = backend_properties.qubits[qubit][3].value*GHz\n",
    "qubit_12_freq = qubit_01_freq + qubit_anharmonicty"
   ]
  },
  {
   "cell_type": "code",
   "execution_count": 8,
   "id": "a84d46d2",
   "metadata": {},
   "outputs": [],
   "source": [
    "p12_amp = 0.24029996372238208 # 3rd Dec 23\n",
    "# 0.23743549524170637\n",
    "\n",
    "with pulse.build(backend=backend) as hp12_sched:\n",
    "    drive_chan = pulse.drive_channel(qubit)\n",
    "    pulse.set_frequency(qubit_12_freq, drive_chan)\n",
    "    pulse.play(pulse.Drag(duration=160, amp=p12_amp/2, sigma=40, beta=2.0, name='hp12'), drive_chan)\n",
    "    \n",
    "hp12_gate = Gate(r'X_{\\pi/2}^{(12)}', weight, [])\n",
    "    \n",
    "with pulse.build(backend=backend) as p12_sched:\n",
    "    drive_chan = qiskit.pulse.drive_channel(qubit)\n",
    "    pulse.set_frequency(qubit_12_freq, drive_chan)\n",
    "    pulse.play(pulse.Drag(duration=160, amp=p12_amp, sigma=40, beta=2.0, name='p12'), drive_chan)\n",
    "\n",
    "p12_gate = Gate(r'X_{\\pi}^{(12)}', weight, [])"
   ]
  },
  {
   "cell_type": "code",
   "execution_count": 9,
   "id": "b3a5baad",
   "metadata": {},
   "outputs": [],
   "source": [
    "with pulse.build(backend=backend, default_alignment='left') as meas_sched:\n",
    "    meas_chan = pulse.measure_channel(qubit)\n",
    "    pulse.shift_frequency(-1.0*MHz, meas_chan)\n",
    "    ac_chan = pulse.acquire_channel(qubit)\n",
    "    mem_chan = pulse.MemorySlot(qubit)\n",
    "    pulse.acquire(1440, ac_chan, mem_chan)\n",
    "    pulse.play(pulse.GaussianSquare(amp=0.6,\n",
    "                                    duration=1440,\n",
    "                                    sigma=32,\n",
    "                                    width=1312,\n",
    "                                    angle=0.7650583861061049), meas_chan)\n",
    "    pulse.delay(6560, meas_chan)\n",
    "    \n",
    "meas_gate = Gate('Measure', weight, [])"
   ]
  },
  {
   "cell_type": "markdown",
   "id": "52011c79",
   "metadata": {},
   "source": [
    "### Discriminator circs"
   ]
  },
  {
   "cell_type": "code",
   "execution_count": 10,
   "id": "be37c09b",
   "metadata": {},
   "outputs": [],
   "source": [
    "ground_circ = QuantumCircuit(num_qubits, num_cbits)\n",
    "ground_circ.append(meas_gate, [qubit])\n",
    "ground_circ.add_calibration(meas_gate, [qubit], meas_sched)\n",
    "\n",
    "first_excited_state_circ = QuantumCircuit(num_qubits, num_cbits)\n",
    "first_excited_state_circ.x(qubit)\n",
    "first_excited_state_circ.append(meas_gate, [qubit])\n",
    "first_excited_state_circ.add_calibration(meas_gate, [qubit], meas_sched)\n",
    "\n",
    "second_excited_state_circ = QuantumCircuit(num_qubits, num_cbits)\n",
    "second_excited_state_circ.x(qubit)\n",
    "second_excited_state_circ.append(p12_gate, [qubit])\n",
    "second_excited_state_circ.append(meas_gate, [qubit])\n",
    "second_excited_state_circ.add_calibration(meas_gate, [qubit], meas_sched)\n",
    "second_excited_state_circ.add_calibration(p12_gate, [qubit], p12_sched)\n",
    "\n",
    "discrim_circs = qiskit.transpile([ground_circ, first_excited_state_circ, second_excited_state_circ], backend=backend)"
   ]
  },
  {
   "cell_type": "markdown",
   "id": "625eee34",
   "metadata": {},
   "source": [
    "## Amplitude w/o DRAG"
   ]
  },
  {
   "cell_type": "code",
   "execution_count": 14,
   "id": "88a60650",
   "metadata": {},
   "outputs": [],
   "source": [
    "amps = np.linspace(-1, 1, 75)\n",
    "\n",
    "rabi_circs_wDRAG = []\n",
    "\n",
    "rabi12_gate = Gate(r'Rabi Gate', weight, [])\n",
    "\n",
    "for amp in amps:\n",
    "    \n",
    "    with pulse.build(backend=backend) as rabi12_sched:\n",
    "        drive_chan = pulse.drive_channel(qubit)\n",
    "        pulse.set_frequency(qubit_12_freq, drive_chan)\n",
    "        pulse.play(pulse.Drag(duration=160, amp=amp, sigma=40, beta=2.0), drive_chan)\n",
    "\n",
    "    rabi12_circ = QuantumCircuit(num_qubits, num_cbits)\n",
    "    rabi12_circ.x(qubit)\n",
    "    rabi12_circ.append(rabi12_gate, [qubit])\n",
    "    rabi12_circ.append(meas_gate, [qubit])\n",
    "    rabi12_circ.add_calibration(meas_gate, [qubit], meas_sched)\n",
    "    rabi12_circ.add_calibration(rabi12_gate, [qubit], rabi12_sched)\n",
    "                   \n",
    "    rabi_circs_wDRAG.append(rabi12_circ)\n",
    "    \n",
    "rabi_circs_wDRAG = qiskit.transpile(rabi_circs_wDRAG, backend=backend)"
   ]
  },
  {
   "cell_type": "code",
   "execution_count": 16,
   "id": "4730de2d",
   "metadata": {},
   "outputs": [],
   "source": [
    "package = discrim_circs + rabi_circs_woDRAG + rabi_circs_wDRAG"
   ]
  },
  {
   "cell_type": "code",
   "execution_count": 19,
   "id": "a7484dd5",
   "metadata": {},
   "outputs": [],
   "source": [
    "ampvdrag_job = backend.run(package, meas_level=1, meas_return='single', shots=2048)"
   ]
  }
 ],
 "metadata": {
  "kernelspec": {
   "display_name": "Python 3 (ipykernel)",
   "language": "python",
   "name": "python3"
  },
  "language_info": {
   "codemirror_mode": {
    "name": "ipython",
    "version": 3
   },
   "file_extension": ".py",
   "mimetype": "text/x-python",
   "name": "python",
   "nbconvert_exporter": "python",
   "pygments_lexer": "ipython3",
   "version": "3.9.6"
  }
 },
 "nbformat": 4,
 "nbformat_minor": 5
}
