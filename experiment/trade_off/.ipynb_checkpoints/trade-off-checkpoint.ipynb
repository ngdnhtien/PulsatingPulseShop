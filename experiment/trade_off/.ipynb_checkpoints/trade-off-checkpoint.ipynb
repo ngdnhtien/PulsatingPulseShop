{
 "cells": [
  {
   "cell_type": "markdown",
   "id": "71d8d969",
   "metadata": {},
   "source": [
    "In this notebook, I describe how leakage and phase errors can be suppressed at the same time in transmon systems\n",
    "\n",
    "### References\n",
    "\n",
    "[1]: Li, Z., Liu, P., Zhao, P. *et al.* Error per single-qubit gate below 10−4 in a superconducting qubit. *npj Quantum Inf* **9**, 111 (2023). [https://doi.org/10.1038/s41534-023-00781-x](https://doi.org/10.1038/s41534-023-00781-x)."
   ]
  }
 ],
 "metadata": {
  "kernelspec": {
   "display_name": "Python 3 (ipykernel)",
   "language": "python",
   "name": "python3"
  },
  "language_info": {
   "codemirror_mode": {
    "name": "ipython",
    "version": 3
   },
   "file_extension": ".py",
   "mimetype": "text/x-python",
   "name": "python",
   "nbconvert_exporter": "python",
   "pygments_lexer": "ipython3",
   "version": "3.9.6"
  }
 },
 "nbformat": 4,
 "nbformat_minor": 5
}
