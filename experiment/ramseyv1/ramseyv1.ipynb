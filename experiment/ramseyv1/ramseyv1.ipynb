{
 "cells": [
  {
   "cell_type": "markdown",
   "id": "6864f5d2",
   "metadata": {},
   "source": [
    "In this notebook, I perform Ramsey fringe experiment for the (01) and (12) subspace.\n",
    "\n",
    "### References\n",
    "\n",
    "[1]: M. J. Peterer *et al.* Coherence and Decay of Higher Energy Levels of a Superconducting Transmon Qubit. *Phys. Rev. Lett.* **114***, 010501 (2015). [https://doi.org/10.1103/PhysRevLett.114.010501](https://doi.org/10.1103/PhysRevLett.114.010501)."
   ]
  },
  {
   "cell_type": "markdown",
   "id": "9371804f",
   "metadata": {},
   "source": [
    "## Dependencies"
   ]
  },
  {
   "cell_type": "code",
   "execution_count": 1,
   "id": "46548c93",
   "metadata": {},
   "outputs": [],
   "source": [
    "%config InlineBackend.figure_formats = ['svg']\n",
    "\n",
    "import os\n",
    "os.chdir('/Users/ngdnhtien/Codespace/PulsatingPulseShop/')\n",
    "\n",
    "# qiskit\n",
    "from qiskit import pulse\n",
    "from qiskit.circuit import Parameter\n",
    "from qiskit.circuit import QuantumCircuit, Gate\n",
    "from qiskit_ibm_provider import IBMProvider\n",
    "\n",
    "# qutritium\n",
    "from utility import *\n",
    "from constant import *\n",
    "\n",
    "# numerical\n",
    "import numpy as np\n",
    "from scipy.optimize import curve_fit\n",
    "import pickle \n",
    "\n",
    "# plot\n",
    "from matplotlib.ticker import MultipleLocator\n",
    "\n",
    "plt.rcParams['axes.linewidth'] = 1.25"
   ]
  },
  {
   "cell_type": "code",
   "execution_count": 2,
   "id": "816bfee6",
   "metadata": {},
   "outputs": [
    {
     "name": "stdout",
     "output_type": "stream",
     "text": [
      "[<IBMBackend('ibmq_qasm_simulator')>, <IBMBackend('simulator_extended_stabilizer')>, <IBMBackend('simulator_mps')>, <IBMBackend('simulator_statevector')>, <IBMBackend('simulator_stabilizer')>, <IBMBackend('ibm_brisbane')>, <IBMBackend('ibm_kyoto')>, <IBMBackend('ibm_osaka')>]\n"
     ]
    }
   ],
   "source": [
    "provider = IBMProvider()\n",
    "print(provider.backends())\n",
    "\n",
    "backend = provider.get_backend('ibm_brisbane')\n",
    "\n",
    "backend_config = backend.configuration()\n",
    "backend_defaults = backend.defaults()\n",
    "backend_properties = backend.properties()\n",
    "dt = backend_config.dt\n",
    "\n",
    "qubit = 0\n",
    "cbit = 0\n",
    "num_qubits = 1\n",
    "num_cbits = 1\n",
    "weight = 1\n",
    "\n",
    "qubit_01_freq = backend_defaults.qubit_freq_est[qubit]\n",
    "qubit_anharmonicty = backend_properties.qubits[qubit][3].value*GHz\n",
    "qubit_12_freq = qubit_01_freq + qubit_anharmonicty"
   ]
  },
  {
   "cell_type": "code",
   "execution_count": 4,
   "id": "0a5377ba",
   "metadata": {},
   "outputs": [],
   "source": [
    "p12_amp = 0.24029996372238208 # 3rd Dec 23\n",
    "# 0.23743549524170637\n",
    "\n",
    "with pulse.build(backend=backend) as hp12_sched:\n",
    "    drive_chan = pulse.drive_channel(qubit)\n",
    "    pulse.set_frequency(qubit_12_freq, drive_chan)\n",
    "    pulse.play(pulse.Drag(duration=160, amp=p12_amp/2, sigma=40, beta=2.0, name='hp12'), drive_chan)\n",
    "    \n",
    "hp12_gate = Gate(r'X_{\\pi/2}^{(12)}', weight, [])\n",
    "    \n",
    "with pulse.build(backend=backend) as p12_sched:\n",
    "    drive_chan = qiskit.pulse.drive_channel(qubit)\n",
    "    pulse.set_frequency(qubit_12_freq, drive_chan)\n",
    "    pulse.play(pulse.Drag(duration=160, amp=p12_amp, sigma=40, beta=2.0, name='p12'), drive_chan)\n",
    "\n",
    "p12_gate = Gate(r'X_{\\pi}^{(12)}', weight, [])"
   ]
  },
  {
   "cell_type": "code",
   "execution_count": 8,
   "id": "b8bb7384",
   "metadata": {},
   "outputs": [],
   "source": [
    "with pulse.build(backend=backend, default_alignment='left') as meas_pulse:\n",
    "    meas_chan = pulse.measure_channel(qubit)\n",
    "    pulse.shift_frequency(-1.0*MHz, meas_chan)\n",
    "    ac_chan = pulse.acquire_channel(qubit)\n",
    "    mem_chan = pulse.MemorySlot(qubit)\n",
    "    pulse.acquire(1440, ac_chan, mem_chan)\n",
    "    pulse.play(pulse.GaussianSquare(amp=0.6,\n",
    "                                    duration=1440,\n",
    "                                    sigma=32,\n",
    "                                    width=1312,\n",
    "                                    angle=0.7650583861061049), meas_chan)\n",
    "    pulse.delay(6560, meas_chan)"
   ]
  },
  {
   "cell_type": "markdown",
   "id": "973ddbb3",
   "metadata": {},
   "source": [
    "## Ramsey pseudo-interferometer experiment "
   ]
  }
 ],
 "metadata": {
  "kernelspec": {
   "display_name": "Python 3 (ipykernel)",
   "language": "python",
   "name": "python3"
  },
  "language_info": {
   "codemirror_mode": {
    "name": "ipython",
    "version": 3
   },
   "file_extension": ".py",
   "mimetype": "text/x-python",
   "name": "python",
   "nbconvert_exporter": "python",
   "pygments_lexer": "ipython3",
   "version": "3.9.6"
  }
 },
 "nbformat": 4,
 "nbformat_minor": 5
}
