{
 "cells": [
  {
   "cell_type": "markdown",
   "metadata": {},
   "source": [
    "# Contents\n",
    "\n",
    "In this notebook, I induce Rabi oscillation on the (12) subspace of the superconducting qutrit."
   ]
  },
  {
   "cell_type": "code",
   "execution_count": 1,
   "metadata": {},
   "outputs": [],
   "source": [
    "import os \n",
    "os.chdir('/Users/ngdnhtien/Codespace/PulsatingPulseShop/')\n",
    "\n",
    "# Necessary dependencies\n",
    "import qiskit\n",
    "import qiskit_ibm_provider\n",
    "import utility as ut\n",
    "import numpy as np\n",
    "import pickle \n",
    "import matplotlib.pyplot as plt\n",
    "import json\n",
    "import datetime"
   ]
  },
  {
   "cell_type": "code",
   "execution_count": 2,
   "metadata": {},
   "outputs": [],
   "source": [
    "plt.rcParams['axes.linewidth'] = 1.0\n",
    "%config InlineBackend.figure_formats = ['svg']\n",
    "today = datetime.datetime.now()"
   ]
  },
  {
   "cell_type": "code",
   "execution_count": 3,
   "metadata": {},
   "outputs": [
    {
     "name": "stdout",
     "output_type": "stream",
     "text": [
      "f01 = 4.985 GHz\n",
      "f12 = 4.6779 GHz\n",
      "anharmonicity = -0.3071 GHz\n"
     ]
    }
   ],
   "source": [
    "provider = qiskit_ibm_provider.IBMProvider()\n",
    "backend = provider.get_backend('ibm_brisbane')\n",
    "\n",
    "qubit = 109\n",
    "cbit = 0\n",
    "\n",
    "num_qubits = int(qubit+1)\n",
    "num_cbits = 1\n",
    "\n",
    "weight = 1\n",
    "\n",
    "rough_01_freq = backend.defaults().qubit_freq_est[qubit]\n",
    "qubit_anharmonicty = backend.properties().qubits[qubit][3].value * 1e9\n",
    "rough_12_freq = rough_01_freq + qubit_anharmonicty\n",
    "\n",
    "print(r\"f01 = \"+f'{round(rough_01_freq/1e9, 4)}'+' GHz')\n",
    "print(r'f12 = '+f'{round(rough_12_freq/1e9, 4)}'+' GHz')\n",
    "print(r'anharmonicity = '+f'{round(qubit_anharmonicty/1e9, 4)}'+' GHz')"
   ]
  },
  {
   "cell_type": "markdown",
   "metadata": {},
   "source": [
    "# Measurement pulse"
   ]
  },
  {
   "cell_type": "code",
   "execution_count": 32,
   "metadata": {},
   "outputs": [],
   "source": [
    "shift_frequency = -0.40000000000000013\n",
    "measure_amplitude = 0.1\n",
    "\n",
    "with qiskit.pulse.build(backend=backend, name='Spectroscopy') as measure_schedule:\n",
    "    #define channel\n",
    "    meas_chan = qiskit.pulse.measure_channel(qubit)\n",
    "    qiskit.pulse.shift_frequency(shift_frequency*1e6, meas_chan)\n",
    "    ac_chan = qiskit.pulse.acquire_channel(qubit)\n",
    "    mem_chan = qiskit.pulse.MemorySlot(0)\n",
    "    #define pulse shape\n",
    "    qiskit.pulse.acquire(1440, ac_chan, mem_chan)\n",
    "    qiskit.pulse.play(qiskit.pulse.GaussianSquare(amp=measure_amplitude, duration=1440,\n",
    "                                    sigma=32, width=1312,\n",
    "                                    angle=1.330056315168335), meas_chan)\n",
    "    #add delay\n",
    "    qiskit.pulse.delay(1160, meas_chan)"
   ]
  },
  {
   "cell_type": "markdown",
   "metadata": {},
   "source": [
    "# Residual population of $|2\\rangle$"
   ]
  },
  {
   "cell_type": "code",
   "execution_count": 35,
   "metadata": {},
   "outputs": [],
   "source": [
    "with qiskit.pulse.build(backend=backend) as x12_sched:\n",
    "    drive_chan = qiskit.pulse.drive_channel(qubit)\n",
    "    qiskit.pulse.set_frequency(rough_12_freq, drive_chan)\n",
    "    qiskit.pulse.play(qiskit.pulse.Gaussian(duration=48, amp=0.402915014835218, sigma=int(48/4)), drive_chan)\n",
    "\n",
    "x12_gate = qiskit.circuit.Gate('X12', weight, [])\n",
    "\n",
    "circ_0 = qiskit.circuit.QuantumCircuit(num_qubits, num_cbits)\n",
    "circ_0.x(qubit)\n",
    "circ_0.append(x12_gate, [qubit])\n",
    "circ_0.x(qubit)\n",
    "circ_0.measure(qubit, cbit)\n",
    "circ_0.add_calibration(x12_gate, [qubit], x12_sched)\n",
    "circ_0.add_calibration('measure', [qubit], measure_schedule)\n",
    "\n",
    "circ_1 = qiskit.circuit.QuantumCircuit(num_qubits, num_cbits)\n",
    "circ_1.measure(qubit, cbit)\n",
    "circ_1.add_calibration('measure', [qubit], measure_schedule)\n",
    "\n",
    "circs = [circ_0, circ_1]\n",
    "\n",
    "job = backend.run(circs, meas_level=1, meas_return='single', shots=4096)"
   ]
  },
  {
   "cell_type": "code",
   "execution_count": 34,
   "metadata": {},
   "outputs": [
    {
     "data": {
      "text/plain": [
       "(<JobStatus.QUEUED: 'job is queued'>, 'ctzh2kjg22kg0084tst0')"
      ]
     },
     "execution_count": 34,
     "metadata": {},
     "output_type": "execute_result"
    }
   ],
   "source": [
    "job.status(), job.job_id() # 160"
   ]
  },
  {
   "cell_type": "code",
   "execution_count": 36,
   "metadata": {},
   "outputs": [
    {
     "data": {
      "text/plain": [
       "(<JobStatus.QUEUED: 'job is queued'>, 'ctzh2ykzzp40008h373g')"
      ]
     },
     "execution_count": 36,
     "metadata": {},
     "output_type": "execute_result"
    }
   ],
   "source": [
    "job.status(), job.job_id() # 48"
   ]
  },
  {
   "cell_type": "code",
   "execution_count": 29,
   "metadata": {},
   "outputs": [],
   "source": [
    "experiment = ut.DataAnalysis(experiment=job, average=False, shots=4096, qubit=0)\n",
    "experiment.retrieve_data(average=False)\n",
    "\n",
    "with open(f\"./characterization/rabi12/qubit109/data/batch5_vary_rep_delay/residual_2.pkl\", \"wb\") as f:\n",
    "    pickle.dump(experiment.IQ_data, f)"
   ]
  },
  {
   "cell_type": "markdown",
   "metadata": {},
   "source": [
    "# * Rabi oscillation with an additional $\\pi^{01}$ pulse"
   ]
  },
  {
   "cell_type": "markdown",
   "metadata": {},
   "source": [
    "### Experiment parameters"
   ]
  },
  {
   "cell_type": "code",
   "execution_count": 48,
   "metadata": {},
   "outputs": [
    {
     "name": "stdout",
     "output_type": "stream",
     "text": [
      "Current multiple 6\n",
      "Duration is 48 dt (must be integer)\n",
      "Sweeping from -0.1 to 1.0...\n"
     ]
    }
   ],
   "source": [
    "n = input('The duration must be a integer multiple of 8 and larger than 2: ')\n",
    "dur = int(8*int(n))\n",
    "\n",
    "range_amp = float(input('Range of amplitude sweep: '))\n",
    "num_point = int(input('Number of data points: '))\n",
    "num_shots = int(2**12)\n",
    "\n",
    "print(f'Current multiple {n}')\n",
    "print(f'Duration is {dur} dt (must be integer)')\n",
    "print(f'Sweeping from -0.1 to {range_amp}...')"
   ]
  },
  {
   "cell_type": "markdown",
   "metadata": {},
   "source": [
    "### Run script"
   ]
  },
  {
   "cell_type": "code",
   "execution_count": 42,
   "metadata": {},
   "outputs": [],
   "source": [
    "with qiskit.pulse.build(backend=backend) as reset_sched:\n",
    "    drive_chan = qiskit.pulse.drive_channel(qubit)\n",
    "    qiskit.pulse.set_frequency(rough_12_freq, drive_chan)\n",
    "    qiskit.pulse.play(qiskit.pulse.Gaussian(duration=48, amp=0.402915014835218, sigma=int(48/4)), drive_chan)"
   ]
  },
  {
   "cell_type": "code",
   "execution_count": 52,
   "metadata": {},
   "outputs": [
    {
     "name": "stdout",
     "output_type": "stream",
     "text": [
      "ctyz86g5yns0008s7feg\n"
     ]
    }
   ],
   "source": [
    "amplitudes = np.linspace(-0.1, range_amp, num_point)\n",
    "rabi_gate = qiskit.circuit.Gate('rabi_gate', weight, [])\n",
    "reset_2 = qiskit.circuit.Gate('reset_2', weight, [])\n",
    "\n",
    "rabi_osc_circs = []\n",
    "\n",
    "for amp in amplitudes:\n",
    "    with qiskit.pulse.build(backend=backend) as rabi_sched:\n",
    "        drive_chan = qiskit.pulse.drive_channel(qubit)\n",
    "        qiskit.pulse.set_frequency(rough_12_freq, drive_chan)\n",
    "        qiskit.pulse.play(qiskit.pulse.Gaussian(duration=dur, amp=amp, sigma=int(dur/4)), drive_chan)\n",
    "    rabi_circ = qiskit.circuit.QuantumCircuit(num_qubits, num_cbits)\n",
    "    rabi_circ.x(qubit) \n",
    "    rabi_circ.append(rabi_gate, [qubit])\n",
    "    rabi_circ.x(qubit)\n",
    "    rabi_circ.measure(qubit, cbit)\n",
    "    # rabi_circ.append(reset_2, [qubit])\n",
    "    # rabi_circ.add_calibration(reset_2, [qubit], reset_sched)\n",
    "    rabi_circ.add_calibration(rabi_gate, [qubit], rabi_sched)\n",
    "    rabi_osc_circs.append(rabi_circ)\n",
    "\n",
    "rabi_job_single = backend.run(rabi_osc_circs, meas_level=1, meas_return='single', shots=num_shots)\n",
    "print(rabi_job_single.job_id())"
   ]
  },
  {
   "cell_type": "markdown",
   "metadata": {},
   "source": [
    "### Check status"
   ]
  },
  {
   "cell_type": "code",
   "execution_count": 55,
   "metadata": {},
   "outputs": [
    {
     "name": "stdout",
     "output_type": "stream",
     "text": [
      "JobStatus.DONE\n"
     ]
    }
   ],
   "source": [
    "rabi_job_single = provider.backend.retrieve_job('ctyz86g5yns0008s7feg') # rep_delay = 0\n",
    "#rabi_job_single = provider.backend.retrieve_job('ctyyfw7m8gh0008egv20') # rep_delay = 0.0001\n",
    "#rabi_job_single = provider.backend.retrieve_job('ctyyfyqfhad0008tjw00') # rep_delay = 0.0002\n",
    "\n",
    "print(rabi_job_single.status())"
   ]
  },
  {
   "cell_type": "markdown",
   "metadata": {},
   "source": [
    "###\n",
    "\n",
    " Save raw data"
   ]
  },
  {
   "cell_type": "code",
   "execution_count": 56,
   "metadata": {},
   "outputs": [],
   "source": [
    "rabi_job_single = provider.backend.retrieve_job('ctyz86g5yns0008s7feg')\n",
    "rabi_exp_single = ut.DataAnalysis(experiment=rabi_job_single, average=False, shots=num_shots, qubit=0)\n",
    "rabi_exp_single.retrieve_data(average=False)\n",
    "\n",
    "with open(f\"./characterization/rabi12/qubit109/data/batch5_vary_rep_delay/{dur}_-0.1_{range_amp}_no_AR.pkl\", \"wb\") as f:\n",
    "    pickle.dump(rabi_exp_single.IQ_data, f)"
   ]
  },
  {
   "cell_type": "markdown",
   "metadata": {},
   "source": [
    "# Check status"
   ]
  },
  {
   "cell_type": "code",
   "execution_count": 31,
   "metadata": {},
   "outputs": [
    {
     "name": "stdout",
     "output_type": "stream",
     "text": [
      "ctyyrzvh4j1g0082s5k0 JobStatus.CANCELLED\n",
      "ctyyfyqfhad0008tjw00 JobStatus.DONE\n",
      "ctyyfw7m8gh0008egv20 JobStatus.DONE\n",
      "ctyyfr7fhad0008tjvzg JobStatus.DONE\n",
      "ctyy658fhad0008tjvkg JobStatus.DONE\n",
      "ctyy61rsvvng008sd9d0 JobStatus.DONE\n",
      "ctyy4mj5yns0008s7ckg JobStatus.DONE\n",
      "ctsh134ezn20008s8a7g JobStatus.DONE\n",
      "ctrzd6c4gjh0008q0zkg JobStatus.DONE\n",
      "ctryzqy4gzyg008zz3j0 JobStatus.CANCELLED\n"
     ]
    }
   ],
   "source": [
    "ran_job = None\n",
    "for ran_job in provider.backend.jobs():\n",
    "    print(str(ran_job.job_id()) + \" \" + str(ran_job.status()))"
   ]
  },
  {
   "cell_type": "code",
   "execution_count": 30,
   "metadata": {},
   "outputs": [
    {
     "data": {
      "text/plain": [
       "True"
      ]
     },
     "execution_count": 30,
     "metadata": {},
     "output_type": "execute_result"
    }
   ],
   "source": [
    "job = provider.backend.retrieve_job('ctyyrzvh4j1g0082s5k0')\n",
    "\n",
    "job.cancel()"
   ]
  }
 ],
 "metadata": {
  "kernelspec": {
   "display_name": "Python 3",
   "language": "python",
   "name": "python3"
  },
  "language_info": {
   "codemirror_mode": {
    "name": "ipython",
    "version": 3
   },
   "file_extension": ".py",
   "mimetype": "text/x-python",
   "name": "python",
   "nbconvert_exporter": "python",
   "pygments_lexer": "ipython3",
   "version": "3.9.6"
  }
 },
 "nbformat": 4,
 "nbformat_minor": 2
}
