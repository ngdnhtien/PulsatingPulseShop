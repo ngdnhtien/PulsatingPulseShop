{
 "cells": [
  {
   "cell_type": "markdown",
   "metadata": {},
   "source": [
    "# Qutrit Control Project (QCP24)"
   ]
  },
  {
   "cell_type": "markdown",
   "metadata": {},
   "source": [
    "## Theoretical Division"
   ]
  },
  {
   "cell_type": "markdown",
   "metadata": {},
   "source": [
    "### 17th July 2024\n",
    "\n",
    "- Does a simple theory explaining how different durations perform differently exist?\n",
    "    - We could always rely on Fourier transform (direction 1)."
   ]
  },
  {
   "cell_type": "markdown",
   "metadata": {},
   "source": [
    "## Experminental Division"
   ]
  },
  {
   "cell_type": "markdown",
   "metadata": {},
   "source": [
    "### 17th July 2024\n",
    "\n",
    "- Data for DRAG calibration using two special points differ drastically. Data at $\\phi=0$ has a SNR ratio much better than that at $\\phi=\\pi$. I don't know why.\n",
    "- After obtaining DRAG parameter from using the APE sequence,\n",
    "    - The APE sequence (before DRAG) does align.\n",
    "    - The RE sequence does not show signs of reduced error (1/4).\n",
    "- I'm thinking about operating with a different duration. Begining with $\\tau=48+8$. It could be just that a good rabi oscillation cosine plot does not equal to good duration.\n"
   ]
  },
  {
   "cell_type": "markdown",
   "metadata": {},
   "source": [
    "### 23th July 2024\n",
    "\n",
    "- Do the fitting for all Rabi oscillations (with different durations) again.\n",
    "    - Tryna understand how `average` and `single` signals are intergrated (or processed)\n",
    "- I figured the metric for \"how good Rabi oscillation\" should fit, experimentally\n",
    "    - The trick is to look at the plot of variance: either the real part, or assuming a 2D normal distribution\n",
    "    - When sweeping over the range of 100 amplitudes, a 2D normal distribution should have two points with minimal variance. The two points correspond to the |1> and the |2> state.\n",
    "    - This way, a good duration corresponds to the case when the second variance reaches the minimum of mimimum.\n",
    "    - Also, this is a very good way of \"knowing\" exactly whether it is a |2> state. \n",
    "    - This is because, once you have a state that is an eigenstate of the \"Pauli Z12\", you have a 1 on 1 chance of measuring that state. "
   ]
  }
 ],
 "metadata": {
  "language_info": {
   "name": "python"
  }
 },
 "nbformat": 4,
 "nbformat_minor": 2
}
