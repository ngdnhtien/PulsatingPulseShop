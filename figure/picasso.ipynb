{
 "cells": [
  {
   "cell_type": "markdown",
   "id": "29ad53e3",
   "metadata": {},
   "source": [
    "In this notebook I cook up figures for the paper"
   ]
  },
  {
   "cell_type": "markdown",
   "id": "f16a607a",
   "metadata": {},
   "source": [
    "## Dependencies"
   ]
  },
  {
   "cell_type": "code",
   "execution_count": 1,
   "id": "b94f2309",
   "metadata": {},
   "outputs": [],
   "source": [
    "%config InlineBackend.figure_formats = ['svg']\n",
    "\n",
    "import os\n",
    "os.chdir('/Users/ngdnhtien/Codespace/PulsatingPulseShop/')\n",
    "\n",
    "# Necessary dependencies\n",
    "\n",
    "# qutritium\n",
    "from utility import *\n",
    "from constant import *\n",
    "\n",
    "# numerical\n",
    "import numpy as np\n",
    "from scipy.optimize import curve_fit\n",
    "import pickle \n",
    "\n",
    "# plot\n",
    "from matplotlib.ticker import MultipleLocator\n",
    "\n",
    "plt.rcParams['axes.linewidth'] = 1.25"
   ]
  },
  {
   "cell_type": "code",
   "execution_count": 23,
   "id": "1d31c33f",
   "metadata": {},
   "outputs": [
    {
     "data": {
      "text/plain": [
       "0.0"
      ]
     },
     "execution_count": 23,
     "metadata": {},
     "output_type": "execute_result"
    }
   ],
   "source": [
    "6.625*1e-34 - 6.625*10**(-34)"
   ]
  },
  {
   "cell_type": "markdown",
   "id": "4a13fcfd",
   "metadata": {},
   "source": [
    "# The $E_J/E_C$ figure (Figure 1)\n",
    "\n",
    "The purpose is to differentiate our work from previous works from other groups. They use high $E_J/E_C$ ratio, we use low $E_J/E_C$ ratio. We're not the same. "
   ]
  },
  {
   "cell_type": "code",
   "execution_count": 46,
   "id": "b0b1c39a",
   "metadata": {},
   "outputs": [],
   "source": [
    "def EJEC(f01_Hz, f12_Hz):\n",
    "    \n",
    "    h = 6.626*1e-34\n",
    "    anhar_Hz = f12_Hz - f01_Hz\n",
    "    \n",
    "    EC = -h*anhar_Hz\n",
    "    EJ = (h**2*(f01_Hz-anhar_Hz)**2)/(8*EC)\n",
    "    \n",
    "    ratio = EJ/EC\n",
    "    \n",
    "    return ratio"
   ]
  },
  {
   "cell_type": "code",
   "execution_count": 47,
   "id": "715cdf5c",
   "metadata": {},
   "outputs": [],
   "source": [
    "EJEC_vs_anharmonicity = []"
   ]
  },
  {
   "cell_type": "code",
   "execution_count": 48,
   "id": "88e1b66b",
   "metadata": {},
   "outputs": [
    {
     "data": {
      "text/plain": [
       "37.11589932641914"
      ]
     },
     "execution_count": 48,
     "metadata": {},
     "output_type": "execute_result"
    }
   ],
   "source": [
    "our_EJEC = EJEC(4984973330.707688, 4677857528.723422)\n",
    "\n",
    "our_EJEC"
   ]
  },
  {
   "cell_type": "code",
   "execution_count": 49,
   "id": "b457d80b",
   "metadata": {},
   "outputs": [
    {
     "data": {
      "text/plain": [
       "(59.90538828997502, 65.42986685032139, 59.91800902870789)"
      ]
     },
     "execution_count": 49,
     "metadata": {},
     "output_type": "execute_result"
    }
   ],
   "source": [
    "# High fidelity entangling gates (UC Berkeley)\n",
    "\n",
    "EJEC_UCBerkeley_1 = EJEC(5.436*GHz, 5.436*GHz-0.2602*GHz)\n",
    "EJEC_UCBerkeley_2 = EJEC(5.776*GHz, 5.512*GHz)\n",
    "EJEC_UCBerkeley_3 = EJEC(5.4366*GHz, 5.4366*GHz-260.20*MHz)\n",
    "\n",
    "EJEC_UCBerkeley_1, EJEC_UCBerkeley_2, EJEC_UCBerkeley_3"
   ]
  },
  {
   "cell_type": "code",
   "execution_count": 50,
   "id": "c24512dc",
   "metadata": {},
   "outputs": [
    {
     "data": {
      "text/plain": [
       "(60.16897364861139, 74.95067953601107)"
      ]
     },
     "execution_count": 50,
     "metadata": {},
     "output_type": "execute_result"
    }
   ],
   "source": [
    "# Chinese parity \n",
    "\n",
    "EJEC_Chinese_parity = EJEC(7.1572*GHz, 6.8154*GHz)\n",
    "EJEC_Chinese_algo = EJEC(5.355*GHz, 5.127*GHz)\n",
    "\n",
    "EJEC_Chinese_parity, EJEC_Chinese_algo"
   ]
  },
  {
   "cell_type": "code",
   "execution_count": 51,
   "id": "cc137ee1",
   "metadata": {},
   "outputs": [
    {
     "data": {
      "text/plain": [
       "(112.49350658720788, 77.96081851375546)"
      ]
     },
     "execution_count": 51,
     "metadata": {},
     "output_type": "execute_result"
    }
   ],
   "source": [
    "# Stanford two-qutrit algo\n",
    "\n",
    "EJEC_Stanford_1 = EJEC(3.3494*GHz, 3.3494*GHz-115.5*MHz)\n",
    "EJEC_Stanford_2 = EJEC(3.8310*GHz, 3.8310*GHz-159.8*MHz)\n",
    "\n",
    "EJEC_Stanford_1, EJEC_Stanford_2"
   ]
  }
 ],
 "metadata": {
  "kernelspec": {
   "display_name": "Python 3 (ipykernel)",
   "language": "python",
   "name": "python3"
  },
  "language_info": {
   "codemirror_mode": {
    "name": "ipython",
    "version": 3
   },
   "file_extension": ".py",
   "mimetype": "text/x-python",
   "name": "python",
   "nbconvert_exporter": "python",
   "pygments_lexer": "ipython3",
   "version": "3.9.6"
  }
 },
 "nbformat": 4,
 "nbformat_minor": 5
}
